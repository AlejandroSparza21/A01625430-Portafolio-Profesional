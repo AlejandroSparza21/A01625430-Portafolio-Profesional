{
  "nbformat": 4,
  "nbformat_minor": 0,
  "metadata": {
    "colab": {
      "provenance": []
    },
    "kernelspec": {
      "name": "ir",
      "display_name": "R"
    },
    "language_info": {
      "name": "R"
    }
  },
  "cells": [
    {
      "cell_type": "markdown",
      "source": [
        "Supuestos Estadísticos y KNN"
      ],
      "metadata": {
        "id": "uDLlewUChPHP"
      }
    },
    {
      "cell_type": "code",
      "execution_count": null,
      "metadata": {
        "id": "n4O9ek5Yg8fq",
        "colab": {
          "base_uri": "https://localhost:8080/"
        },
        "outputId": "17ad92a7-2b4a-4245-a895-dd7a85c2719e"
      },
      "outputs": [
        {
          "output_type": "stream",
          "name": "stdout",
          "text": [
            "Mounted at /content/drive\n"
          ]
        }
      ],
      "source": [
        "from google.colab import drive\n",
        "drive.mount('/content/drive')"
      ]
    },
    {
      "cell_type": "code",
      "source": [
        "# Instala y carga el paquete para interactuar con Google Drive\n",
        "if(!require(googledrive)) {\n",
        "  install.packages(\"googledrive\")\n",
        "  library(googledrive)\n",
        "}\n",
        "\n",
        "# Leer el archivo CSV desde Google Drive (ruta de archivo después de montar el drive)\n",
        "df_completo_estandarizado_2022_2024 <- read.csv('/content/drive/My Drive/SIMA/FINAL/df_completo_estandarizado_2022_2024.csv')\n",
        "\n",
        "# Mostrar las primeras filas para verificar la carga\n",
        "head(df_completo_estandarizado_2022_2024)\n"
      ],
      "metadata": {
        "id": "fObphp0GiRmK",
        "colab": {
          "base_uri": "https://localhost:8080/",
          "height": 322
        },
        "outputId": "29a15ca2-37a2-4f3d-ce4f-20a534e2d149"
      },
      "execution_count": null,
      "outputs": [
        {
          "output_type": "stream",
          "name": "stderr",
          "text": [
            "Loading required package: googledrive\n",
            "\n"
          ]
        },
        {
          "output_type": "display_data",
          "data": {
            "text/html": [
              "<table class=\"dataframe\">\n",
              "<caption>A data.frame: 6 × 19</caption>\n",
              "<thead>\n",
              "\t<tr><th></th><th scope=col>date</th><th scope=col>CO</th><th scope=col>NO</th><th scope=col>NO2</th><th scope=col>NOX</th><th scope=col>O3</th><th scope=col>PM10</th><th scope=col>PM2.5</th><th scope=col>PRS</th><th scope=col>RH</th><th scope=col>SO2</th><th scope=col>SR</th><th scope=col>TOUT</th><th scope=col>WSR</th><th scope=col>WDR</th><th scope=col>time</th><th scope=col>zona_encoded</th><th scope=col>latitud</th><th scope=col>longitud</th></tr>\n",
              "\t<tr><th></th><th scope=col>&lt;chr&gt;</th><th scope=col>&lt;dbl&gt;</th><th scope=col>&lt;dbl&gt;</th><th scope=col>&lt;dbl&gt;</th><th scope=col>&lt;dbl&gt;</th><th scope=col>&lt;dbl&gt;</th><th scope=col>&lt;dbl&gt;</th><th scope=col>&lt;dbl&gt;</th><th scope=col>&lt;dbl&gt;</th><th scope=col>&lt;dbl&gt;</th><th scope=col>&lt;dbl&gt;</th><th scope=col>&lt;dbl&gt;</th><th scope=col>&lt;dbl&gt;</th><th scope=col>&lt;dbl&gt;</th><th scope=col>&lt;dbl&gt;</th><th scope=col>&lt;chr&gt;</th><th scope=col>&lt;int&gt;</th><th scope=col>&lt;dbl&gt;</th><th scope=col>&lt;dbl&gt;</th></tr>\n",
              "</thead>\n",
              "<tbody>\n",
              "\t<tr><th scope=row>1</th><td>2022-01-01</td><td>1.8852441</td><td>-0.6447059</td><td>3.408089</td><td>2.0750584</td><td>-0.7016179</td><td>2.868870</td><td>2.562493</td><td>705.5</td><td>46</td><td>1.079213</td><td>0</td><td>21.37</td><td>3.4</td><td>267</td><td>00:00:00</td><td>0</td><td>25.67602</td><td>-100.3358</td></tr>\n",
              "\t<tr><th scope=row>2</th><td>2022-01-01</td><td>1.3481309</td><td>-0.7417439</td><td>2.085965</td><td>1.1041931</td><td>-0.4372700</td><td>1.263083</td><td>1.341465</td><td>705.2</td><td>48</td><td>1.649294</td><td>0</td><td>20.83</td><td>3.3</td><td>259</td><td>01:00:00</td><td>0</td><td>25.67602</td><td>-100.3358</td></tr>\n",
              "\t<tr><th scope=row>3</th><td>2022-01-01</td><td>0.9997331</td><td>-0.7417439</td><td>1.488865</td><td>0.6925462</td><td>-0.3050960</td><td>2.241507</td><td>1.567907</td><td>705.1</td><td>46</td><td>1.435514</td><td>0</td><td>20.52</td><td>5.9</td><td>233</td><td>02:00:00</td><td>0</td><td>25.67602</td><td>-100.3358</td></tr>\n",
              "\t<tr><th scope=row>4</th><td>2022-01-01</td><td>1.0577994</td><td> 0.5663821</td><td>1.348714</td><td>1.2156956</td><td>-0.5033570</td><td>1.909374</td><td>1.409425</td><td>704.8</td><td>46</td><td>1.578034</td><td>0</td><td>20.12</td><td>5.1</td><td>220</td><td>03:00:00</td><td>0</td><td>25.67602</td><td>-100.3358</td></tr>\n",
              "\t<tr><th scope=row>5</th><td>2022-01-01</td><td>0.8110176</td><td> 0.5150698</td><td>1.251299</td><td>1.1194200</td><td>-0.3711830</td><td>1.835566</td><td>1.236756</td><td>704.8</td><td>46</td><td>1.292993</td><td>0</td><td>19.85</td><td>4.7</td><td>244</td><td>04:00:00</td><td>0</td><td>25.67602</td><td>-100.3358</td></tr>\n",
              "\t<tr><th scope=row>6</th><td>2022-01-01</td><td>0.6658518</td><td> 0.6577044</td><td>1.367293</td><td>1.2936228</td><td>-0.3711830</td><td>0.912974</td><td>2.900900</td><td>704.7</td><td>42</td><td>1.079213</td><td>0</td><td>19.80</td><td>4.2</td><td>132</td><td>05:00:00</td><td>0</td><td>25.67602</td><td>-100.3358</td></tr>\n",
              "</tbody>\n",
              "</table>\n"
            ],
            "text/markdown": "\nA data.frame: 6 × 19\n\n| <!--/--> | date &lt;chr&gt; | CO &lt;dbl&gt; | NO &lt;dbl&gt; | NO2 &lt;dbl&gt; | NOX &lt;dbl&gt; | O3 &lt;dbl&gt; | PM10 &lt;dbl&gt; | PM2.5 &lt;dbl&gt; | PRS &lt;dbl&gt; | RH &lt;dbl&gt; | SO2 &lt;dbl&gt; | SR &lt;dbl&gt; | TOUT &lt;dbl&gt; | WSR &lt;dbl&gt; | WDR &lt;dbl&gt; | time &lt;chr&gt; | zona_encoded &lt;int&gt; | latitud &lt;dbl&gt; | longitud &lt;dbl&gt; |\n|---|---|---|---|---|---|---|---|---|---|---|---|---|---|---|---|---|---|---|---|\n| 1 | 2022-01-01 | 1.8852441 | -0.6447059 | 3.408089 | 2.0750584 | -0.7016179 | 2.868870 | 2.562493 | 705.5 | 46 | 1.079213 | 0 | 21.37 | 3.4 | 267 | 00:00:00 | 0 | 25.67602 | -100.3358 |\n| 2 | 2022-01-01 | 1.3481309 | -0.7417439 | 2.085965 | 1.1041931 | -0.4372700 | 1.263083 | 1.341465 | 705.2 | 48 | 1.649294 | 0 | 20.83 | 3.3 | 259 | 01:00:00 | 0 | 25.67602 | -100.3358 |\n| 3 | 2022-01-01 | 0.9997331 | -0.7417439 | 1.488865 | 0.6925462 | -0.3050960 | 2.241507 | 1.567907 | 705.1 | 46 | 1.435514 | 0 | 20.52 | 5.9 | 233 | 02:00:00 | 0 | 25.67602 | -100.3358 |\n| 4 | 2022-01-01 | 1.0577994 |  0.5663821 | 1.348714 | 1.2156956 | -0.5033570 | 1.909374 | 1.409425 | 704.8 | 46 | 1.578034 | 0 | 20.12 | 5.1 | 220 | 03:00:00 | 0 | 25.67602 | -100.3358 |\n| 5 | 2022-01-01 | 0.8110176 |  0.5150698 | 1.251299 | 1.1194200 | -0.3711830 | 1.835566 | 1.236756 | 704.8 | 46 | 1.292993 | 0 | 19.85 | 4.7 | 244 | 04:00:00 | 0 | 25.67602 | -100.3358 |\n| 6 | 2022-01-01 | 0.6658518 |  0.6577044 | 1.367293 | 1.2936228 | -0.3711830 | 0.912974 | 2.900900 | 704.7 | 42 | 1.079213 | 0 | 19.80 | 4.2 | 132 | 05:00:00 | 0 | 25.67602 | -100.3358 |\n\n",
            "text/latex": "A data.frame: 6 × 19\n\\begin{tabular}{r|lllllllllllllllllll}\n  & date & CO & NO & NO2 & NOX & O3 & PM10 & PM2.5 & PRS & RH & SO2 & SR & TOUT & WSR & WDR & time & zona\\_encoded & latitud & longitud\\\\\n  & <chr> & <dbl> & <dbl> & <dbl> & <dbl> & <dbl> & <dbl> & <dbl> & <dbl> & <dbl> & <dbl> & <dbl> & <dbl> & <dbl> & <dbl> & <chr> & <int> & <dbl> & <dbl>\\\\\n\\hline\n\t1 & 2022-01-01 & 1.8852441 & -0.6447059 & 3.408089 & 2.0750584 & -0.7016179 & 2.868870 & 2.562493 & 705.5 & 46 & 1.079213 & 0 & 21.37 & 3.4 & 267 & 00:00:00 & 0 & 25.67602 & -100.3358\\\\\n\t2 & 2022-01-01 & 1.3481309 & -0.7417439 & 2.085965 & 1.1041931 & -0.4372700 & 1.263083 & 1.341465 & 705.2 & 48 & 1.649294 & 0 & 20.83 & 3.3 & 259 & 01:00:00 & 0 & 25.67602 & -100.3358\\\\\n\t3 & 2022-01-01 & 0.9997331 & -0.7417439 & 1.488865 & 0.6925462 & -0.3050960 & 2.241507 & 1.567907 & 705.1 & 46 & 1.435514 & 0 & 20.52 & 5.9 & 233 & 02:00:00 & 0 & 25.67602 & -100.3358\\\\\n\t4 & 2022-01-01 & 1.0577994 &  0.5663821 & 1.348714 & 1.2156956 & -0.5033570 & 1.909374 & 1.409425 & 704.8 & 46 & 1.578034 & 0 & 20.12 & 5.1 & 220 & 03:00:00 & 0 & 25.67602 & -100.3358\\\\\n\t5 & 2022-01-01 & 0.8110176 &  0.5150698 & 1.251299 & 1.1194200 & -0.3711830 & 1.835566 & 1.236756 & 704.8 & 46 & 1.292993 & 0 & 19.85 & 4.7 & 244 & 04:00:00 & 0 & 25.67602 & -100.3358\\\\\n\t6 & 2022-01-01 & 0.6658518 &  0.6577044 & 1.367293 & 1.2936228 & -0.3711830 & 0.912974 & 2.900900 & 704.7 & 42 & 1.079213 & 0 & 19.80 & 4.2 & 132 & 05:00:00 & 0 & 25.67602 & -100.3358\\\\\n\\end{tabular}\n",
            "text/plain": [
              "  date       CO        NO         NO2      NOX       O3         PM10    \n",
              "1 2022-01-01 1.8852441 -0.6447059 3.408089 2.0750584 -0.7016179 2.868870\n",
              "2 2022-01-01 1.3481309 -0.7417439 2.085965 1.1041931 -0.4372700 1.263083\n",
              "3 2022-01-01 0.9997331 -0.7417439 1.488865 0.6925462 -0.3050960 2.241507\n",
              "4 2022-01-01 1.0577994  0.5663821 1.348714 1.2156956 -0.5033570 1.909374\n",
              "5 2022-01-01 0.8110176  0.5150698 1.251299 1.1194200 -0.3711830 1.835566\n",
              "6 2022-01-01 0.6658518  0.6577044 1.367293 1.2936228 -0.3711830 0.912974\n",
              "  PM2.5    PRS   RH SO2      SR TOUT  WSR WDR time     zona_encoded latitud \n",
              "1 2.562493 705.5 46 1.079213 0  21.37 3.4 267 00:00:00 0            25.67602\n",
              "2 1.341465 705.2 48 1.649294 0  20.83 3.3 259 01:00:00 0            25.67602\n",
              "3 1.567907 705.1 46 1.435514 0  20.52 5.9 233 02:00:00 0            25.67602\n",
              "4 1.409425 704.8 46 1.578034 0  20.12 5.1 220 03:00:00 0            25.67602\n",
              "5 1.236756 704.8 46 1.292993 0  19.85 4.7 244 04:00:00 0            25.67602\n",
              "6 2.900900 704.7 42 1.079213 0  19.80 4.2 132 05:00:00 0            25.67602\n",
              "  longitud \n",
              "1 -100.3358\n",
              "2 -100.3358\n",
              "3 -100.3358\n",
              "4 -100.3358\n",
              "5 -100.3358\n",
              "6 -100.3358"
            ]
          },
          "metadata": {}
        }
      ]
    },
    {
      "cell_type": "code",
      "source": [
        "# Instalar y cargar el paquete necesario\n",
        "if(!require(car)) {\n",
        "  install.packages(\"car\")\n",
        "  library(car)\n",
        "}\n",
        "\n",
        "# Crear un modelo de regresión múltiple para verificar multicolinealidad\n",
        "modelo_multivariable <- lm(CO ~ NO + NO2 + NOX + O3 + PM10 + PM2.5 + SO2, data = df_completo_estandarizado_2022_2024)\n",
        "\n",
        "# Verificar la multicolinealidad usando VIF\n",
        "vif(modelo_multivariable)\n"
      ],
      "metadata": {
        "id": "XQVU9sRaiS2a",
        "colab": {
          "base_uri": "https://localhost:8080/",
          "height": 379
        },
        "outputId": "2b7a80e5-5e9c-4e43-b56c-10d35e21c92b"
      },
      "execution_count": null,
      "outputs": [
        {
          "output_type": "stream",
          "name": "stderr",
          "text": [
            "Loading required package: car\n",
            "\n",
            "Warning message in library(package, lib.loc = lib.loc, character.only = TRUE, logical.return = TRUE, :\n",
            "“there is no package called ‘car’”\n",
            "Installing package into ‘/usr/local/lib/R/site-library’\n",
            "(as ‘lib’ is unspecified)\n",
            "\n",
            "also installing the dependencies ‘cowplot’, ‘Deriv’, ‘microbenchmark’, ‘numDeriv’, ‘doBy’, ‘SparseM’, ‘MatrixModels’, ‘minqa’, ‘nloptr’, ‘RcppEigen’, ‘carData’, ‘abind’, ‘Formula’, ‘pbkrtest’, ‘quantreg’, ‘lme4’\n",
            "\n",
            "\n",
            "Warning message in install.packages(\"car\"):\n",
            "“installation of package ‘pbkrtest’ had non-zero exit status”\n",
            "Warning message in install.packages(\"car\"):\n",
            "“installation of package ‘car’ had non-zero exit status”\n"
          ]
        },
        {
          "output_type": "error",
          "ename": "ERROR",
          "evalue": "Error in library(car): there is no package called ‘car’\n",
          "traceback": [
            "Error in library(car): there is no package called ‘car’\nTraceback:\n",
            "1. stop(packageNotFoundError(package, lib.loc, sys.call()))"
          ]
        }
      ]
    },
    {
      "cell_type": "code",
      "source": [
        "# Instalar y cargar el paquete necesario\n",
        "if(!require(car)) {\n",
        "  install.packages(\"car\")\n",
        "  library(car)\n",
        "}\n",
        "\n",
        "# Crear un modelo de regresión múltiple para verificar multicolinealidad\n",
        "modelo_multivariable <- lm(CO ~ NO + NO2 + NOX + O3 + PM10 + PM2.5 + SO2, data = df_completo_estandarizado_2022_2024)\n",
        "\n",
        "# Verificar la multicolinealidad usando VIF\n",
        "vif(modelo_multivariable)\n"
      ],
      "metadata": {
        "id": "Hu-aevMUjaLe"
      },
      "execution_count": null,
      "outputs": []
    },
    {
      "cell_type": "code",
      "source": [
        "# Graficar residuos vs predicciones para verificar la linealidad\n",
        "par(mfrow = c(1,1))\n",
        "plot(modelo_multivariable$fitted.values, residuals(modelo_multivariable),\n",
        "     main = \"Residuos vs Valores Ajustados\",\n",
        "     xlab = \"Valores Ajustados\",\n",
        "     ylab = \"Residuos\")\n",
        "abline(h = 0, col = \"red\")\n"
      ],
      "metadata": {
        "id": "PsAhnFPEjaIb"
      },
      "execution_count": null,
      "outputs": []
    },
    {
      "cell_type": "code",
      "source": [
        "# Instalar paquete para pruebas adicionales\n",
        "if(!require(lmtest)) {\n",
        "  install.packages(\"lmtest\")\n",
        "  library(lmtest)\n",
        "}\n",
        "\n",
        "# Aplicar la prueba de Breusch-Pagan para verificar homoscedasticidad\n",
        "bptest(modelo_multivariable)\n"
      ],
      "metadata": {
        "id": "KIyXRn3CjaGC"
      },
      "execution_count": null,
      "outputs": []
    },
    {
      "cell_type": "code",
      "source": [
        "# Prueba de Durbin-Watson para verificar independencia de los errores\n",
        "dwtest(modelo_multivariable)\n"
      ],
      "metadata": {
        "id": "EjaAb-J3jaDj"
      },
      "execution_count": null,
      "outputs": []
    },
    {
      "cell_type": "code",
      "source": [
        "# Graficar un histograma de los residuos\n",
        "hist(residuals(modelo_multivariable), main = \"Histograma de los residuos\", xlab = \"Residuos\")\n",
        "\n",
        "# Prueba de normalidad Shapiro-Wilk\n",
        "shapiro.test(residuals(modelo_multivariable))\n"
      ],
      "metadata": {
        "id": "R3UZbbG7jaBC"
      },
      "execution_count": null,
      "outputs": []
    },
    {
      "cell_type": "code",
      "source": [],
      "metadata": {
        "id": "FPrd5gc1jZ11"
      },
      "execution_count": null,
      "outputs": []
    }
  ]
}