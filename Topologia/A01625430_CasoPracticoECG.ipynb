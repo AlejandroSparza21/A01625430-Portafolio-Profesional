{
  "nbformat": 4,
  "nbformat_minor": 0,
  "metadata": {
    "colab": {
      "provenance": []
    },
    "kernelspec": {
      "name": "python3",
      "display_name": "Python 3"
    },
    "language_info": {
      "name": "python"
    },
    "widgets": {
      "application/vnd.jupyter.widget-state+json": {
        "bbb70cf097854827b888278d677dbbf2": {
          "model_module": "@jupyter-widgets/controls",
          "model_name": "HBoxModel",
          "model_module_version": "1.5.0",
          "state": {
            "_dom_classes": [],
            "_model_module": "@jupyter-widgets/controls",
            "_model_module_version": "1.5.0",
            "_model_name": "HBoxModel",
            "_view_count": null,
            "_view_module": "@jupyter-widgets/controls",
            "_view_module_version": "1.5.0",
            "_view_name": "HBoxView",
            "box_style": "",
            "children": [
              "IPY_MODEL_4d304d1ccee44dbba9099c8132d55110",
              "IPY_MODEL_c1139b89fcdb4f75907a8c33a82bbf5e",
              "IPY_MODEL_3084eb83b4a5450ab7587900272ff7e2"
            ],
            "layout": "IPY_MODEL_8137deadac784710b43450c6fd836770"
          }
        },
        "4d304d1ccee44dbba9099c8132d55110": {
          "model_module": "@jupyter-widgets/controls",
          "model_name": "HTMLModel",
          "model_module_version": "1.5.0",
          "state": {
            "_dom_classes": [],
            "_model_module": "@jupyter-widgets/controls",
            "_model_module_version": "1.5.0",
            "_model_name": "HTMLModel",
            "_view_count": null,
            "_view_module": "@jupyter-widgets/controls",
            "_view_module_version": "1.5.0",
            "_view_name": "HTMLView",
            "description": "",
            "description_tooltip": null,
            "layout": "IPY_MODEL_03496d2ab0a644e4b35a3718e98e7378",
            "placeholder": "​",
            "style": "IPY_MODEL_46f56c1fe6df4cc5926c7189df4bbdff",
            "value": "Calculando PH: 100%"
          }
        },
        "c1139b89fcdb4f75907a8c33a82bbf5e": {
          "model_module": "@jupyter-widgets/controls",
          "model_name": "FloatProgressModel",
          "model_module_version": "1.5.0",
          "state": {
            "_dom_classes": [],
            "_model_module": "@jupyter-widgets/controls",
            "_model_module_version": "1.5.0",
            "_model_name": "FloatProgressModel",
            "_view_count": null,
            "_view_module": "@jupyter-widgets/controls",
            "_view_module_version": "1.5.0",
            "_view_name": "ProgressView",
            "bar_style": "success",
            "description": "",
            "description_tooltip": null,
            "layout": "IPY_MODEL_28d36d74da7e4ad895e6c320330624f1",
            "max": 15386,
            "min": 0,
            "orientation": "horizontal",
            "style": "IPY_MODEL_10ca6b18818a448fa22d8cea6a0ce508",
            "value": 15386
          }
        },
        "3084eb83b4a5450ab7587900272ff7e2": {
          "model_module": "@jupyter-widgets/controls",
          "model_name": "HTMLModel",
          "model_module_version": "1.5.0",
          "state": {
            "_dom_classes": [],
            "_model_module": "@jupyter-widgets/controls",
            "_model_module_version": "1.5.0",
            "_model_name": "HTMLModel",
            "_view_count": null,
            "_view_module": "@jupyter-widgets/controls",
            "_view_module_version": "1.5.0",
            "_view_name": "HTMLView",
            "description": "",
            "description_tooltip": null,
            "layout": "IPY_MODEL_33701a8d82184404936919c7b72f5e37",
            "placeholder": "​",
            "style": "IPY_MODEL_0b2e822be5e345f8ae6362033aad2f01",
            "value": " 15386/15386 [34:00&lt;00:00,  7.61it/s]"
          }
        },
        "8137deadac784710b43450c6fd836770": {
          "model_module": "@jupyter-widgets/base",
          "model_name": "LayoutModel",
          "model_module_version": "1.2.0",
          "state": {
            "_model_module": "@jupyter-widgets/base",
            "_model_module_version": "1.2.0",
            "_model_name": "LayoutModel",
            "_view_count": null,
            "_view_module": "@jupyter-widgets/base",
            "_view_module_version": "1.2.0",
            "_view_name": "LayoutView",
            "align_content": null,
            "align_items": null,
            "align_self": null,
            "border": null,
            "bottom": null,
            "display": null,
            "flex": null,
            "flex_flow": null,
            "grid_area": null,
            "grid_auto_columns": null,
            "grid_auto_flow": null,
            "grid_auto_rows": null,
            "grid_column": null,
            "grid_gap": null,
            "grid_row": null,
            "grid_template_areas": null,
            "grid_template_columns": null,
            "grid_template_rows": null,
            "height": null,
            "justify_content": null,
            "justify_items": null,
            "left": null,
            "margin": null,
            "max_height": null,
            "max_width": null,
            "min_height": null,
            "min_width": null,
            "object_fit": null,
            "object_position": null,
            "order": null,
            "overflow": null,
            "overflow_x": null,
            "overflow_y": null,
            "padding": null,
            "right": null,
            "top": null,
            "visibility": null,
            "width": null
          }
        },
        "03496d2ab0a644e4b35a3718e98e7378": {
          "model_module": "@jupyter-widgets/base",
          "model_name": "LayoutModel",
          "model_module_version": "1.2.0",
          "state": {
            "_model_module": "@jupyter-widgets/base",
            "_model_module_version": "1.2.0",
            "_model_name": "LayoutModel",
            "_view_count": null,
            "_view_module": "@jupyter-widgets/base",
            "_view_module_version": "1.2.0",
            "_view_name": "LayoutView",
            "align_content": null,
            "align_items": null,
            "align_self": null,
            "border": null,
            "bottom": null,
            "display": null,
            "flex": null,
            "flex_flow": null,
            "grid_area": null,
            "grid_auto_columns": null,
            "grid_auto_flow": null,
            "grid_auto_rows": null,
            "grid_column": null,
            "grid_gap": null,
            "grid_row": null,
            "grid_template_areas": null,
            "grid_template_columns": null,
            "grid_template_rows": null,
            "height": null,
            "justify_content": null,
            "justify_items": null,
            "left": null,
            "margin": null,
            "max_height": null,
            "max_width": null,
            "min_height": null,
            "min_width": null,
            "object_fit": null,
            "object_position": null,
            "order": null,
            "overflow": null,
            "overflow_x": null,
            "overflow_y": null,
            "padding": null,
            "right": null,
            "top": null,
            "visibility": null,
            "width": null
          }
        },
        "46f56c1fe6df4cc5926c7189df4bbdff": {
          "model_module": "@jupyter-widgets/controls",
          "model_name": "DescriptionStyleModel",
          "model_module_version": "1.5.0",
          "state": {
            "_model_module": "@jupyter-widgets/controls",
            "_model_module_version": "1.5.0",
            "_model_name": "DescriptionStyleModel",
            "_view_count": null,
            "_view_module": "@jupyter-widgets/base",
            "_view_module_version": "1.2.0",
            "_view_name": "StyleView",
            "description_width": ""
          }
        },
        "28d36d74da7e4ad895e6c320330624f1": {
          "model_module": "@jupyter-widgets/base",
          "model_name": "LayoutModel",
          "model_module_version": "1.2.0",
          "state": {
            "_model_module": "@jupyter-widgets/base",
            "_model_module_version": "1.2.0",
            "_model_name": "LayoutModel",
            "_view_count": null,
            "_view_module": "@jupyter-widgets/base",
            "_view_module_version": "1.2.0",
            "_view_name": "LayoutView",
            "align_content": null,
            "align_items": null,
            "align_self": null,
            "border": null,
            "bottom": null,
            "display": null,
            "flex": null,
            "flex_flow": null,
            "grid_area": null,
            "grid_auto_columns": null,
            "grid_auto_flow": null,
            "grid_auto_rows": null,
            "grid_column": null,
            "grid_gap": null,
            "grid_row": null,
            "grid_template_areas": null,
            "grid_template_columns": null,
            "grid_template_rows": null,
            "height": null,
            "justify_content": null,
            "justify_items": null,
            "left": null,
            "margin": null,
            "max_height": null,
            "max_width": null,
            "min_height": null,
            "min_width": null,
            "object_fit": null,
            "object_position": null,
            "order": null,
            "overflow": null,
            "overflow_x": null,
            "overflow_y": null,
            "padding": null,
            "right": null,
            "top": null,
            "visibility": null,
            "width": null
          }
        },
        "10ca6b18818a448fa22d8cea6a0ce508": {
          "model_module": "@jupyter-widgets/controls",
          "model_name": "ProgressStyleModel",
          "model_module_version": "1.5.0",
          "state": {
            "_model_module": "@jupyter-widgets/controls",
            "_model_module_version": "1.5.0",
            "_model_name": "ProgressStyleModel",
            "_view_count": null,
            "_view_module": "@jupyter-widgets/base",
            "_view_module_version": "1.2.0",
            "_view_name": "StyleView",
            "bar_color": null,
            "description_width": ""
          }
        },
        "33701a8d82184404936919c7b72f5e37": {
          "model_module": "@jupyter-widgets/base",
          "model_name": "LayoutModel",
          "model_module_version": "1.2.0",
          "state": {
            "_model_module": "@jupyter-widgets/base",
            "_model_module_version": "1.2.0",
            "_model_name": "LayoutModel",
            "_view_count": null,
            "_view_module": "@jupyter-widgets/base",
            "_view_module_version": "1.2.0",
            "_view_name": "LayoutView",
            "align_content": null,
            "align_items": null,
            "align_self": null,
            "border": null,
            "bottom": null,
            "display": null,
            "flex": null,
            "flex_flow": null,
            "grid_area": null,
            "grid_auto_columns": null,
            "grid_auto_flow": null,
            "grid_auto_rows": null,
            "grid_column": null,
            "grid_gap": null,
            "grid_row": null,
            "grid_template_areas": null,
            "grid_template_columns": null,
            "grid_template_rows": null,
            "height": null,
            "justify_content": null,
            "justify_items": null,
            "left": null,
            "margin": null,
            "max_height": null,
            "max_width": null,
            "min_height": null,
            "min_width": null,
            "object_fit": null,
            "object_position": null,
            "order": null,
            "overflow": null,
            "overflow_x": null,
            "overflow_y": null,
            "padding": null,
            "right": null,
            "top": null,
            "visibility": null,
            "width": null
          }
        },
        "0b2e822be5e345f8ae6362033aad2f01": {
          "model_module": "@jupyter-widgets/controls",
          "model_name": "DescriptionStyleModel",
          "model_module_version": "1.5.0",
          "state": {
            "_model_module": "@jupyter-widgets/controls",
            "_model_module_version": "1.5.0",
            "_model_name": "DescriptionStyleModel",
            "_view_count": null,
            "_view_module": "@jupyter-widgets/base",
            "_view_module_version": "1.2.0",
            "_view_name": "StyleView",
            "description_width": ""
          }
        },
        "d5f94bf781a94c0eb3c30cba1ae7fb9c": {
          "model_module": "@jupyter-widgets/controls",
          "model_name": "HBoxModel",
          "model_module_version": "1.5.0",
          "state": {
            "_dom_classes": [],
            "_model_module": "@jupyter-widgets/controls",
            "_model_module_version": "1.5.0",
            "_model_name": "HBoxModel",
            "_view_count": null,
            "_view_module": "@jupyter-widgets/controls",
            "_view_module_version": "1.5.0",
            "_view_name": "HBoxView",
            "box_style": "",
            "children": [
              "IPY_MODEL_17afe5e76c824482a517efd3338e8c78",
              "IPY_MODEL_ee25fe0c7f0c4d5b8e7fc51d355a1f8e",
              "IPY_MODEL_44f8e7ea1f5c4f24877a43b65f8fc470"
            ],
            "layout": "IPY_MODEL_fcb86d1c89ab48b69b09011417cca934"
          }
        },
        "17afe5e76c824482a517efd3338e8c78": {
          "model_module": "@jupyter-widgets/controls",
          "model_name": "HTMLModel",
          "model_module_version": "1.5.0",
          "state": {
            "_dom_classes": [],
            "_model_module": "@jupyter-widgets/controls",
            "_model_module_version": "1.5.0",
            "_model_name": "HTMLModel",
            "_view_count": null,
            "_view_module": "@jupyter-widgets/controls",
            "_view_module_version": "1.5.0",
            "_view_name": "HTMLView",
            "description": "",
            "description_tooltip": null,
            "layout": "IPY_MODEL_d5a93b1509c24b198f6e5f617c1455f5",
            "placeholder": "​",
            "style": "IPY_MODEL_3209508cdb0f4fde9f1e5e5043dff53f",
            "value": "Diagramas X_test: 100%"
          }
        },
        "ee25fe0c7f0c4d5b8e7fc51d355a1f8e": {
          "model_module": "@jupyter-widgets/controls",
          "model_name": "FloatProgressModel",
          "model_module_version": "1.5.0",
          "state": {
            "_dom_classes": [],
            "_model_module": "@jupyter-widgets/controls",
            "_model_module_version": "1.5.0",
            "_model_name": "FloatProgressModel",
            "_view_count": null,
            "_view_module": "@jupyter-widgets/controls",
            "_view_module_version": "1.5.0",
            "_view_name": "ProgressView",
            "bar_style": "success",
            "description": "",
            "description_tooltip": null,
            "layout": "IPY_MODEL_93cb05442fbe49538e4d4c537f01990d",
            "max": 2909,
            "min": 0,
            "orientation": "horizontal",
            "style": "IPY_MODEL_aa96560a096b4b9db72e8c483fc485c4",
            "value": 2909
          }
        },
        "44f8e7ea1f5c4f24877a43b65f8fc470": {
          "model_module": "@jupyter-widgets/controls",
          "model_name": "HTMLModel",
          "model_module_version": "1.5.0",
          "state": {
            "_dom_classes": [],
            "_model_module": "@jupyter-widgets/controls",
            "_model_module_version": "1.5.0",
            "_model_name": "HTMLModel",
            "_view_count": null,
            "_view_module": "@jupyter-widgets/controls",
            "_view_module_version": "1.5.0",
            "_view_name": "HTMLView",
            "description": "",
            "description_tooltip": null,
            "layout": "IPY_MODEL_b26893f90b364238b255c23f62dc5f08",
            "placeholder": "​",
            "style": "IPY_MODEL_c80ca903ce3749feb56a3e06b5d3a768",
            "value": " 2909/2909 [06:14&lt;00:00,  8.10it/s]"
          }
        },
        "fcb86d1c89ab48b69b09011417cca934": {
          "model_module": "@jupyter-widgets/base",
          "model_name": "LayoutModel",
          "model_module_version": "1.2.0",
          "state": {
            "_model_module": "@jupyter-widgets/base",
            "_model_module_version": "1.2.0",
            "_model_name": "LayoutModel",
            "_view_count": null,
            "_view_module": "@jupyter-widgets/base",
            "_view_module_version": "1.2.0",
            "_view_name": "LayoutView",
            "align_content": null,
            "align_items": null,
            "align_self": null,
            "border": null,
            "bottom": null,
            "display": null,
            "flex": null,
            "flex_flow": null,
            "grid_area": null,
            "grid_auto_columns": null,
            "grid_auto_flow": null,
            "grid_auto_rows": null,
            "grid_column": null,
            "grid_gap": null,
            "grid_row": null,
            "grid_template_areas": null,
            "grid_template_columns": null,
            "grid_template_rows": null,
            "height": null,
            "justify_content": null,
            "justify_items": null,
            "left": null,
            "margin": null,
            "max_height": null,
            "max_width": null,
            "min_height": null,
            "min_width": null,
            "object_fit": null,
            "object_position": null,
            "order": null,
            "overflow": null,
            "overflow_x": null,
            "overflow_y": null,
            "padding": null,
            "right": null,
            "top": null,
            "visibility": null,
            "width": null
          }
        },
        "d5a93b1509c24b198f6e5f617c1455f5": {
          "model_module": "@jupyter-widgets/base",
          "model_name": "LayoutModel",
          "model_module_version": "1.2.0",
          "state": {
            "_model_module": "@jupyter-widgets/base",
            "_model_module_version": "1.2.0",
            "_model_name": "LayoutModel",
            "_view_count": null,
            "_view_module": "@jupyter-widgets/base",
            "_view_module_version": "1.2.0",
            "_view_name": "LayoutView",
            "align_content": null,
            "align_items": null,
            "align_self": null,
            "border": null,
            "bottom": null,
            "display": null,
            "flex": null,
            "flex_flow": null,
            "grid_area": null,
            "grid_auto_columns": null,
            "grid_auto_flow": null,
            "grid_auto_rows": null,
            "grid_column": null,
            "grid_gap": null,
            "grid_row": null,
            "grid_template_areas": null,
            "grid_template_columns": null,
            "grid_template_rows": null,
            "height": null,
            "justify_content": null,
            "justify_items": null,
            "left": null,
            "margin": null,
            "max_height": null,
            "max_width": null,
            "min_height": null,
            "min_width": null,
            "object_fit": null,
            "object_position": null,
            "order": null,
            "overflow": null,
            "overflow_x": null,
            "overflow_y": null,
            "padding": null,
            "right": null,
            "top": null,
            "visibility": null,
            "width": null
          }
        },
        "3209508cdb0f4fde9f1e5e5043dff53f": {
          "model_module": "@jupyter-widgets/controls",
          "model_name": "DescriptionStyleModel",
          "model_module_version": "1.5.0",
          "state": {
            "_model_module": "@jupyter-widgets/controls",
            "_model_module_version": "1.5.0",
            "_model_name": "DescriptionStyleModel",
            "_view_count": null,
            "_view_module": "@jupyter-widgets/base",
            "_view_module_version": "1.2.0",
            "_view_name": "StyleView",
            "description_width": ""
          }
        },
        "93cb05442fbe49538e4d4c537f01990d": {
          "model_module": "@jupyter-widgets/base",
          "model_name": "LayoutModel",
          "model_module_version": "1.2.0",
          "state": {
            "_model_module": "@jupyter-widgets/base",
            "_model_module_version": "1.2.0",
            "_model_name": "LayoutModel",
            "_view_count": null,
            "_view_module": "@jupyter-widgets/base",
            "_view_module_version": "1.2.0",
            "_view_name": "LayoutView",
            "align_content": null,
            "align_items": null,
            "align_self": null,
            "border": null,
            "bottom": null,
            "display": null,
            "flex": null,
            "flex_flow": null,
            "grid_area": null,
            "grid_auto_columns": null,
            "grid_auto_flow": null,
            "grid_auto_rows": null,
            "grid_column": null,
            "grid_gap": null,
            "grid_row": null,
            "grid_template_areas": null,
            "grid_template_columns": null,
            "grid_template_rows": null,
            "height": null,
            "justify_content": null,
            "justify_items": null,
            "left": null,
            "margin": null,
            "max_height": null,
            "max_width": null,
            "min_height": null,
            "min_width": null,
            "object_fit": null,
            "object_position": null,
            "order": null,
            "overflow": null,
            "overflow_x": null,
            "overflow_y": null,
            "padding": null,
            "right": null,
            "top": null,
            "visibility": null,
            "width": null
          }
        },
        "aa96560a096b4b9db72e8c483fc485c4": {
          "model_module": "@jupyter-widgets/controls",
          "model_name": "ProgressStyleModel",
          "model_module_version": "1.5.0",
          "state": {
            "_model_module": "@jupyter-widgets/controls",
            "_model_module_version": "1.5.0",
            "_model_name": "ProgressStyleModel",
            "_view_count": null,
            "_view_module": "@jupyter-widgets/base",
            "_view_module_version": "1.2.0",
            "_view_name": "StyleView",
            "bar_color": null,
            "description_width": ""
          }
        },
        "b26893f90b364238b255c23f62dc5f08": {
          "model_module": "@jupyter-widgets/base",
          "model_name": "LayoutModel",
          "model_module_version": "1.2.0",
          "state": {
            "_model_module": "@jupyter-widgets/base",
            "_model_module_version": "1.2.0",
            "_model_name": "LayoutModel",
            "_view_count": null,
            "_view_module": "@jupyter-widgets/base",
            "_view_module_version": "1.2.0",
            "_view_name": "LayoutView",
            "align_content": null,
            "align_items": null,
            "align_self": null,
            "border": null,
            "bottom": null,
            "display": null,
            "flex": null,
            "flex_flow": null,
            "grid_area": null,
            "grid_auto_columns": null,
            "grid_auto_flow": null,
            "grid_auto_rows": null,
            "grid_column": null,
            "grid_gap": null,
            "grid_row": null,
            "grid_template_areas": null,
            "grid_template_columns": null,
            "grid_template_rows": null,
            "height": null,
            "justify_content": null,
            "justify_items": null,
            "left": null,
            "margin": null,
            "max_height": null,
            "max_width": null,
            "min_height": null,
            "min_width": null,
            "object_fit": null,
            "object_position": null,
            "order": null,
            "overflow": null,
            "overflow_x": null,
            "overflow_y": null,
            "padding": null,
            "right": null,
            "top": null,
            "visibility": null,
            "width": null
          }
        },
        "c80ca903ce3749feb56a3e06b5d3a768": {
          "model_module": "@jupyter-widgets/controls",
          "model_name": "DescriptionStyleModel",
          "model_module_version": "1.5.0",
          "state": {
            "_model_module": "@jupyter-widgets/controls",
            "_model_module_version": "1.5.0",
            "_model_name": "DescriptionStyleModel",
            "_view_count": null,
            "_view_module": "@jupyter-widgets/base",
            "_view_module_version": "1.2.0",
            "_view_name": "StyleView",
            "description_width": ""
          }
        }
      }
    }
  },
  "cells": [
    {
      "cell_type": "markdown",
      "source": [
        "### Análisis de ECG con TDA para detección de enfermedades cardíacas\n",
        "####Por: Sergio Alejandro Esparza González.\n",
        "####Última modificación: 1 de mayo de 2025.\n",
        "\n",
        "Los problemas del corazón son una de las principales causas de muerte en el mundo y México es una de las naciones con mayor índice de enfermedades cardíacas. La detección temprana de enfermedades cardíacas es crucial para prevenir complicaciones graves y mejorar la calidad de vida de los pacientes. En este contexto, es importante analizar los factores que pueden contribuir a la aparición de enfermedades cardíacas y desarrollar modelos predictivos que ayuden a identificar a las personas en riesgo. Las lecturas de electrocardiogramas (ECG) son una herramienta valiosa para el diagnóstico de enfermedades cardíacas, ya que permiten evaluar la actividad eléctrica del corazón y detectar anomalías en su funcionamiento (los valores de voltaje en el tiempo del músculo cardíaco, medidos con electrodos en la piel). Sin embargo, la interpretación de los ECG puede ser compleja y requiere experiencia médica. Por lo tanto, es importante desarrollar modelos de aprendizaje automático que puedan analizar los ECG y ayudar a los médicos a tomar decisiones informadas sobre el diagnóstico y tratamiento de enfermedades cardíacas. Se utilizará un algoritmo de Uso de Geometría y Topología para la Ciencia de Datos para analizar los ECG. Además de la base de datos:\n",
        "\n",
        "https://www.kaggle.com/datasets/shayanfazeli/heartbeat/data\n"
      ],
      "metadata": {
        "id": "fTfBNdDyaBaq"
      }
    },
    {
      "cell_type": "markdown",
      "source": [
        "### Preguntas de investigación:\n",
        "\n",
        "1. ¿Existen diferencias topológicas claras entre latidos nor-\n",
        "males y latidos anormales en señnales ECG?\n",
        "\n",
        "2. ¿Los vectores de características basados en TDA, por\n",
        "ejemplo, los Persistence Landscapes permiten clasificar\n",
        "latidos normales vs. anormales con una alta precisión?"
      ],
      "metadata": {
        "id": "oYLcFGxbQrcc"
      }
    },
    {
      "cell_type": "markdown",
      "source": [
        "## Objetivo\n",
        "\n",
        "Desarrollar y evaluar un sistema de clasificación binaria\n",
        "de latidos normales y anormales, aprovechando los descrip-\n",
        "tores topológicos derivados de la homología persistente, tal\n",
        "como los Persistence Landscapes, obtenidos a partir de la\n",
        "incrustación de ventana deslizante de la señal ECG, para posteriormente realizar su clasificación utilizando algoritmos de aprendizaje automático, como Random Forest."
      ],
      "metadata": {
        "id": "wd6HrXMMQwOa"
      }
    },
    {
      "cell_type": "markdown",
      "source": [
        "#### Carga y construcción de datos"
      ],
      "metadata": {
        "id": "1x0HwcBAamAV"
      }
    },
    {
      "cell_type": "code",
      "source": [
        "# Instalaciones:\n",
        "!pip install gudhi -q # Persistencia.\n",
        "!pip install ripser -q # Vietoris-Rips.\n",
        "!pip install tqdm -q # Barras de progreso.\n",
        "!pip install -U nolds -q # Análisis de series temporales no lineales."
      ],
      "metadata": {
        "id": "OrO2isZzt7mD"
      },
      "execution_count": null,
      "outputs": []
    },
    {
      "cell_type": "code",
      "source": [
        "# Importaciones:\n",
        "import kagglehub # Datasets de Kaggle.\n",
        "import os # Sistema operativo.\n",
        "import pandas as pd # Análisis de datos.\n",
        "import numpy as np # Arreglos multidimensionales.\n",
        "from numpy.linalg import svd # Descomposición en valores singulares.\n",
        "import matplotlib.pyplot as plt # Gráficas.\n",
        "import seaborn as sns # Gráficas estilizadas.\n",
        "# Dividir datos en conjuntos de entrenamiento y prueba:\n",
        "from sklearn.model_selection import train_test_split\n",
        "from sklearn.ensemble import RandomForestClassifier # Bosque aleatorio.\n",
        "# Rendimiento del modelo:\n",
        "from sklearn.metrics import classification_report, roc_auc_score\n",
        "# Búsqueda exhaustiva de hiperparámetros:\n",
        "from sklearn.model_selection import GridSearchCV\n",
        "from sklearn.metrics import confusion_matrix # Matriz de confusión.\n",
        "from gudhi.representations import Landscape # Paisajes de persistencia.\n",
        "from ripser import ripser # Vietoris-Rips\n",
        "from imblearn.combine import SMOTEENN # Balancear clases.\n",
        "from collections import Counter # Contar registros por clase.\n",
        "from tqdm import tqdm # Barra de progreso.\n",
        "from tqdm.auto import tqdm # Barra de progreso adaptativa.\n",
        "from pyinform import mutual_info # Información mutua entre dos señales.\n",
        "import nolds # Funciones de dinámica no lineal."
      ],
      "metadata": {
        "id": "7uSQseT4bu_S"
      },
      "execution_count": null,
      "outputs": []
    },
    {
      "cell_type": "code",
      "execution_count": null,
      "metadata": {
        "colab": {
          "base_uri": "https://localhost:8080/"
        },
        "id": "_keMbP8TZGt-",
        "outputId": "fc5a88c8-371b-4061-ef10-6977ae9bb996"
      },
      "outputs": [
        {
          "output_type": "stream",
          "name": "stdout",
          "text": [
            "Contenido de la carpeta: ['ptbdb_abnormal.csv', 'ptbdb_normal.csv', 'mitbih_test.csv', 'mitbih_train.csv']\n"
          ]
        }
      ],
      "source": [
        "# Descargar archivos en la ruta de Kaggle:\n",
        "path = kagglehub.dataset_download(\"shayanfazeli/heartbeat\")\n",
        "\n",
        "# Ver archivos que tenía la ruta:\n",
        "print(\"Contenido de la carpeta:\", os.listdir(path))"
      ]
    },
    {
      "cell_type": "code",
      "source": [
        "# Cargar los CSVs como DataFrames de Pandas sin encabezado, seleccionando el\n",
        "  # archivo específico de la ruta para trabajar:\n",
        "df_ptbdb_abnormal = pd.read_csv(os.path.join(path, 'ptbdb_abnormal.csv'),\n",
        "                                header=None) # Latidos anormales.\n",
        "df_ptbdb_normal = pd.read_csv(os.path.join(path, 'ptbdb_normal.csv'),\n",
        "                              header=None) # Latidos normales."
      ],
      "metadata": {
        "id": "olz64i8GcYd7"
      },
      "execution_count": null,
      "outputs": []
    },
    {
      "cell_type": "code",
      "source": [
        "df_ptbdb_normal.head() # Mostrar los primeros 5 registros."
      ],
      "metadata": {
        "colab": {
          "base_uri": "https://localhost:8080/",
          "height": 256
        },
        "id": "1H_jE7Bqde5q",
        "outputId": "fc2a6dbe-82bf-4238-f096-87859081ee75"
      },
      "execution_count": null,
      "outputs": [
        {
          "output_type": "execute_result",
          "data": {
            "text/plain": [
              "        0         1         2         3         4         5         6    \\\n",
              "0  1.000000  0.900324  0.358590  0.051459  0.046596  0.126823  0.133306   \n",
              "1  1.000000  0.794681  0.375387  0.116883  0.000000  0.171923  0.283859   \n",
              "2  0.909029  0.791482  0.423169  0.186712  0.000000  0.007836  0.063032   \n",
              "3  1.000000  0.478893  0.056760  0.064176  0.081289  0.072732  0.055619   \n",
              "4  1.000000  0.867238  0.201360  0.099349  0.141336  0.120934  0.108516   \n",
              "\n",
              "        7         8         9    ...  178  179  180  181  182  183  184  185  \\\n",
              "0  0.119125  0.110616  0.113047  ...  0.0  0.0  0.0  0.0  0.0  0.0  0.0  0.0   \n",
              "1  0.293754  0.325912  0.345083  ...  0.0  0.0  0.0  0.0  0.0  0.0  0.0  0.0   \n",
              "2  0.077002  0.074957  0.077342  ...  0.0  0.0  0.0  0.0  0.0  0.0  0.0  0.0   \n",
              "3  0.048774  0.054478  0.041643  ...  0.0  0.0  0.0  0.0  0.0  0.0  0.0  0.0   \n",
              "4  0.096393  0.093436  0.100828  ...  0.0  0.0  0.0  0.0  0.0  0.0  0.0  0.0   \n",
              "\n",
              "   186  187  \n",
              "0  0.0  0.0  \n",
              "1  0.0  0.0  \n",
              "2  0.0  0.0  \n",
              "3  0.0  0.0  \n",
              "4  0.0  0.0  \n",
              "\n",
              "[5 rows x 188 columns]"
            ],
            "text/html": [
              "\n",
              "  <div id=\"df-dcac0ec4-cf9f-453e-8b18-adc9863d6e1f\" class=\"colab-df-container\">\n",
              "    <div>\n",
              "<style scoped>\n",
              "    .dataframe tbody tr th:only-of-type {\n",
              "        vertical-align: middle;\n",
              "    }\n",
              "\n",
              "    .dataframe tbody tr th {\n",
              "        vertical-align: top;\n",
              "    }\n",
              "\n",
              "    .dataframe thead th {\n",
              "        text-align: right;\n",
              "    }\n",
              "</style>\n",
              "<table border=\"1\" class=\"dataframe\">\n",
              "  <thead>\n",
              "    <tr style=\"text-align: right;\">\n",
              "      <th></th>\n",
              "      <th>0</th>\n",
              "      <th>1</th>\n",
              "      <th>2</th>\n",
              "      <th>3</th>\n",
              "      <th>4</th>\n",
              "      <th>5</th>\n",
              "      <th>6</th>\n",
              "      <th>7</th>\n",
              "      <th>8</th>\n",
              "      <th>9</th>\n",
              "      <th>...</th>\n",
              "      <th>178</th>\n",
              "      <th>179</th>\n",
              "      <th>180</th>\n",
              "      <th>181</th>\n",
              "      <th>182</th>\n",
              "      <th>183</th>\n",
              "      <th>184</th>\n",
              "      <th>185</th>\n",
              "      <th>186</th>\n",
              "      <th>187</th>\n",
              "    </tr>\n",
              "  </thead>\n",
              "  <tbody>\n",
              "    <tr>\n",
              "      <th>0</th>\n",
              "      <td>1.000000</td>\n",
              "      <td>0.900324</td>\n",
              "      <td>0.358590</td>\n",
              "      <td>0.051459</td>\n",
              "      <td>0.046596</td>\n",
              "      <td>0.126823</td>\n",
              "      <td>0.133306</td>\n",
              "      <td>0.119125</td>\n",
              "      <td>0.110616</td>\n",
              "      <td>0.113047</td>\n",
              "      <td>...</td>\n",
              "      <td>0.0</td>\n",
              "      <td>0.0</td>\n",
              "      <td>0.0</td>\n",
              "      <td>0.0</td>\n",
              "      <td>0.0</td>\n",
              "      <td>0.0</td>\n",
              "      <td>0.0</td>\n",
              "      <td>0.0</td>\n",
              "      <td>0.0</td>\n",
              "      <td>0.0</td>\n",
              "    </tr>\n",
              "    <tr>\n",
              "      <th>1</th>\n",
              "      <td>1.000000</td>\n",
              "      <td>0.794681</td>\n",
              "      <td>0.375387</td>\n",
              "      <td>0.116883</td>\n",
              "      <td>0.000000</td>\n",
              "      <td>0.171923</td>\n",
              "      <td>0.283859</td>\n",
              "      <td>0.293754</td>\n",
              "      <td>0.325912</td>\n",
              "      <td>0.345083</td>\n",
              "      <td>...</td>\n",
              "      <td>0.0</td>\n",
              "      <td>0.0</td>\n",
              "      <td>0.0</td>\n",
              "      <td>0.0</td>\n",
              "      <td>0.0</td>\n",
              "      <td>0.0</td>\n",
              "      <td>0.0</td>\n",
              "      <td>0.0</td>\n",
              "      <td>0.0</td>\n",
              "      <td>0.0</td>\n",
              "    </tr>\n",
              "    <tr>\n",
              "      <th>2</th>\n",
              "      <td>0.909029</td>\n",
              "      <td>0.791482</td>\n",
              "      <td>0.423169</td>\n",
              "      <td>0.186712</td>\n",
              "      <td>0.000000</td>\n",
              "      <td>0.007836</td>\n",
              "      <td>0.063032</td>\n",
              "      <td>0.077002</td>\n",
              "      <td>0.074957</td>\n",
              "      <td>0.077342</td>\n",
              "      <td>...</td>\n",
              "      <td>0.0</td>\n",
              "      <td>0.0</td>\n",
              "      <td>0.0</td>\n",
              "      <td>0.0</td>\n",
              "      <td>0.0</td>\n",
              "      <td>0.0</td>\n",
              "      <td>0.0</td>\n",
              "      <td>0.0</td>\n",
              "      <td>0.0</td>\n",
              "      <td>0.0</td>\n",
              "    </tr>\n",
              "    <tr>\n",
              "      <th>3</th>\n",
              "      <td>1.000000</td>\n",
              "      <td>0.478893</td>\n",
              "      <td>0.056760</td>\n",
              "      <td>0.064176</td>\n",
              "      <td>0.081289</td>\n",
              "      <td>0.072732</td>\n",
              "      <td>0.055619</td>\n",
              "      <td>0.048774</td>\n",
              "      <td>0.054478</td>\n",
              "      <td>0.041643</td>\n",
              "      <td>...</td>\n",
              "      <td>0.0</td>\n",
              "      <td>0.0</td>\n",
              "      <td>0.0</td>\n",
              "      <td>0.0</td>\n",
              "      <td>0.0</td>\n",
              "      <td>0.0</td>\n",
              "      <td>0.0</td>\n",
              "      <td>0.0</td>\n",
              "      <td>0.0</td>\n",
              "      <td>0.0</td>\n",
              "    </tr>\n",
              "    <tr>\n",
              "      <th>4</th>\n",
              "      <td>1.000000</td>\n",
              "      <td>0.867238</td>\n",
              "      <td>0.201360</td>\n",
              "      <td>0.099349</td>\n",
              "      <td>0.141336</td>\n",
              "      <td>0.120934</td>\n",
              "      <td>0.108516</td>\n",
              "      <td>0.096393</td>\n",
              "      <td>0.093436</td>\n",
              "      <td>0.100828</td>\n",
              "      <td>...</td>\n",
              "      <td>0.0</td>\n",
              "      <td>0.0</td>\n",
              "      <td>0.0</td>\n",
              "      <td>0.0</td>\n",
              "      <td>0.0</td>\n",
              "      <td>0.0</td>\n",
              "      <td>0.0</td>\n",
              "      <td>0.0</td>\n",
              "      <td>0.0</td>\n",
              "      <td>0.0</td>\n",
              "    </tr>\n",
              "  </tbody>\n",
              "</table>\n",
              "<p>5 rows × 188 columns</p>\n",
              "</div>\n",
              "    <div class=\"colab-df-buttons\">\n",
              "\n",
              "  <div class=\"colab-df-container\">\n",
              "    <button class=\"colab-df-convert\" onclick=\"convertToInteractive('df-dcac0ec4-cf9f-453e-8b18-adc9863d6e1f')\"\n",
              "            title=\"Convert this dataframe to an interactive table.\"\n",
              "            style=\"display:none;\">\n",
              "\n",
              "  <svg xmlns=\"http://www.w3.org/2000/svg\" height=\"24px\" viewBox=\"0 -960 960 960\">\n",
              "    <path d=\"M120-120v-720h720v720H120Zm60-500h600v-160H180v160Zm220 220h160v-160H400v160Zm0 220h160v-160H400v160ZM180-400h160v-160H180v160Zm440 0h160v-160H620v160ZM180-180h160v-160H180v160Zm440 0h160v-160H620v160Z\"/>\n",
              "  </svg>\n",
              "    </button>\n",
              "\n",
              "  <style>\n",
              "    .colab-df-container {\n",
              "      display:flex;\n",
              "      gap: 12px;\n",
              "    }\n",
              "\n",
              "    .colab-df-convert {\n",
              "      background-color: #E8F0FE;\n",
              "      border: none;\n",
              "      border-radius: 50%;\n",
              "      cursor: pointer;\n",
              "      display: none;\n",
              "      fill: #1967D2;\n",
              "      height: 32px;\n",
              "      padding: 0 0 0 0;\n",
              "      width: 32px;\n",
              "    }\n",
              "\n",
              "    .colab-df-convert:hover {\n",
              "      background-color: #E2EBFA;\n",
              "      box-shadow: 0px 1px 2px rgba(60, 64, 67, 0.3), 0px 1px 3px 1px rgba(60, 64, 67, 0.15);\n",
              "      fill: #174EA6;\n",
              "    }\n",
              "\n",
              "    .colab-df-buttons div {\n",
              "      margin-bottom: 4px;\n",
              "    }\n",
              "\n",
              "    [theme=dark] .colab-df-convert {\n",
              "      background-color: #3B4455;\n",
              "      fill: #D2E3FC;\n",
              "    }\n",
              "\n",
              "    [theme=dark] .colab-df-convert:hover {\n",
              "      background-color: #434B5C;\n",
              "      box-shadow: 0px 1px 3px 1px rgba(0, 0, 0, 0.15);\n",
              "      filter: drop-shadow(0px 1px 2px rgba(0, 0, 0, 0.3));\n",
              "      fill: #FFFFFF;\n",
              "    }\n",
              "  </style>\n",
              "\n",
              "    <script>\n",
              "      const buttonEl =\n",
              "        document.querySelector('#df-dcac0ec4-cf9f-453e-8b18-adc9863d6e1f button.colab-df-convert');\n",
              "      buttonEl.style.display =\n",
              "        google.colab.kernel.accessAllowed ? 'block' : 'none';\n",
              "\n",
              "      async function convertToInteractive(key) {\n",
              "        const element = document.querySelector('#df-dcac0ec4-cf9f-453e-8b18-adc9863d6e1f');\n",
              "        const dataTable =\n",
              "          await google.colab.kernel.invokeFunction('convertToInteractive',\n",
              "                                                    [key], {});\n",
              "        if (!dataTable) return;\n",
              "\n",
              "        const docLinkHtml = 'Like what you see? Visit the ' +\n",
              "          '<a target=\"_blank\" href=https://colab.research.google.com/notebooks/data_table.ipynb>data table notebook</a>'\n",
              "          + ' to learn more about interactive tables.';\n",
              "        element.innerHTML = '';\n",
              "        dataTable['output_type'] = 'display_data';\n",
              "        await google.colab.output.renderOutput(dataTable, element);\n",
              "        const docLink = document.createElement('div');\n",
              "        docLink.innerHTML = docLinkHtml;\n",
              "        element.appendChild(docLink);\n",
              "      }\n",
              "    </script>\n",
              "  </div>\n",
              "\n",
              "\n",
              "    <div id=\"df-792c3045-76c2-4966-aae4-831f85c47e5d\">\n",
              "      <button class=\"colab-df-quickchart\" onclick=\"quickchart('df-792c3045-76c2-4966-aae4-831f85c47e5d')\"\n",
              "                title=\"Suggest charts\"\n",
              "                style=\"display:none;\">\n",
              "\n",
              "<svg xmlns=\"http://www.w3.org/2000/svg\" height=\"24px\"viewBox=\"0 0 24 24\"\n",
              "     width=\"24px\">\n",
              "    <g>\n",
              "        <path d=\"M19 3H5c-1.1 0-2 .9-2 2v14c0 1.1.9 2 2 2h14c1.1 0 2-.9 2-2V5c0-1.1-.9-2-2-2zM9 17H7v-7h2v7zm4 0h-2V7h2v10zm4 0h-2v-4h2v4z\"/>\n",
              "    </g>\n",
              "</svg>\n",
              "      </button>\n",
              "\n",
              "<style>\n",
              "  .colab-df-quickchart {\n",
              "      --bg-color: #E8F0FE;\n",
              "      --fill-color: #1967D2;\n",
              "      --hover-bg-color: #E2EBFA;\n",
              "      --hover-fill-color: #174EA6;\n",
              "      --disabled-fill-color: #AAA;\n",
              "      --disabled-bg-color: #DDD;\n",
              "  }\n",
              "\n",
              "  [theme=dark] .colab-df-quickchart {\n",
              "      --bg-color: #3B4455;\n",
              "      --fill-color: #D2E3FC;\n",
              "      --hover-bg-color: #434B5C;\n",
              "      --hover-fill-color: #FFFFFF;\n",
              "      --disabled-bg-color: #3B4455;\n",
              "      --disabled-fill-color: #666;\n",
              "  }\n",
              "\n",
              "  .colab-df-quickchart {\n",
              "    background-color: var(--bg-color);\n",
              "    border: none;\n",
              "    border-radius: 50%;\n",
              "    cursor: pointer;\n",
              "    display: none;\n",
              "    fill: var(--fill-color);\n",
              "    height: 32px;\n",
              "    padding: 0;\n",
              "    width: 32px;\n",
              "  }\n",
              "\n",
              "  .colab-df-quickchart:hover {\n",
              "    background-color: var(--hover-bg-color);\n",
              "    box-shadow: 0 1px 2px rgba(60, 64, 67, 0.3), 0 1px 3px 1px rgba(60, 64, 67, 0.15);\n",
              "    fill: var(--button-hover-fill-color);\n",
              "  }\n",
              "\n",
              "  .colab-df-quickchart-complete:disabled,\n",
              "  .colab-df-quickchart-complete:disabled:hover {\n",
              "    background-color: var(--disabled-bg-color);\n",
              "    fill: var(--disabled-fill-color);\n",
              "    box-shadow: none;\n",
              "  }\n",
              "\n",
              "  .colab-df-spinner {\n",
              "    border: 2px solid var(--fill-color);\n",
              "    border-color: transparent;\n",
              "    border-bottom-color: var(--fill-color);\n",
              "    animation:\n",
              "      spin 1s steps(1) infinite;\n",
              "  }\n",
              "\n",
              "  @keyframes spin {\n",
              "    0% {\n",
              "      border-color: transparent;\n",
              "      border-bottom-color: var(--fill-color);\n",
              "      border-left-color: var(--fill-color);\n",
              "    }\n",
              "    20% {\n",
              "      border-color: transparent;\n",
              "      border-left-color: var(--fill-color);\n",
              "      border-top-color: var(--fill-color);\n",
              "    }\n",
              "    30% {\n",
              "      border-color: transparent;\n",
              "      border-left-color: var(--fill-color);\n",
              "      border-top-color: var(--fill-color);\n",
              "      border-right-color: var(--fill-color);\n",
              "    }\n",
              "    40% {\n",
              "      border-color: transparent;\n",
              "      border-right-color: var(--fill-color);\n",
              "      border-top-color: var(--fill-color);\n",
              "    }\n",
              "    60% {\n",
              "      border-color: transparent;\n",
              "      border-right-color: var(--fill-color);\n",
              "    }\n",
              "    80% {\n",
              "      border-color: transparent;\n",
              "      border-right-color: var(--fill-color);\n",
              "      border-bottom-color: var(--fill-color);\n",
              "    }\n",
              "    90% {\n",
              "      border-color: transparent;\n",
              "      border-bottom-color: var(--fill-color);\n",
              "    }\n",
              "  }\n",
              "</style>\n",
              "\n",
              "      <script>\n",
              "        async function quickchart(key) {\n",
              "          const quickchartButtonEl =\n",
              "            document.querySelector('#' + key + ' button');\n",
              "          quickchartButtonEl.disabled = true;  // To prevent multiple clicks.\n",
              "          quickchartButtonEl.classList.add('colab-df-spinner');\n",
              "          try {\n",
              "            const charts = await google.colab.kernel.invokeFunction(\n",
              "                'suggestCharts', [key], {});\n",
              "          } catch (error) {\n",
              "            console.error('Error during call to suggestCharts:', error);\n",
              "          }\n",
              "          quickchartButtonEl.classList.remove('colab-df-spinner');\n",
              "          quickchartButtonEl.classList.add('colab-df-quickchart-complete');\n",
              "        }\n",
              "        (() => {\n",
              "          let quickchartButtonEl =\n",
              "            document.querySelector('#df-792c3045-76c2-4966-aae4-831f85c47e5d button');\n",
              "          quickchartButtonEl.style.display =\n",
              "            google.colab.kernel.accessAllowed ? 'block' : 'none';\n",
              "        })();\n",
              "      </script>\n",
              "    </div>\n",
              "\n",
              "    </div>\n",
              "  </div>\n"
            ],
            "application/vnd.google.colaboratory.intrinsic+json": {
              "type": "dataframe",
              "variable_name": "df_ptbdb_normal"
            }
          },
          "metadata": {},
          "execution_count": 84
        }
      ]
    },
    {
      "cell_type": "code",
      "source": [
        "df_ptbdb_normal.shape # Mostrar dimensiones."
      ],
      "metadata": {
        "colab": {
          "base_uri": "https://localhost:8080/"
        },
        "id": "xZA198evUeMy",
        "outputId": "a46f012b-7c68-4e7d-d68a-e927d1460fba"
      },
      "execution_count": null,
      "outputs": [
        {
          "output_type": "execute_result",
          "data": {
            "text/plain": [
              "(4046, 188)"
            ]
          },
          "metadata": {},
          "execution_count": 85
        }
      ]
    },
    {
      "cell_type": "markdown",
      "source": [
        "Se divide en 4046 registros, que corresponden a 4046 latidos normales, y se divide en 188 columnas, de las cuales son 187 mediciones del voltaje del latido, y la última columna es el tipo de latido, en este caso todos los valores son 0 porque así se denotan los latidos normales."
      ],
      "metadata": {
        "id": "_wJIs1BiUcpb"
      }
    },
    {
      "cell_type": "code",
      "source": [
        "df_ptbdb_abnormal.head() # Mostrar los primeros 5 registros."
      ],
      "metadata": {
        "colab": {
          "base_uri": "https://localhost:8080/",
          "height": 256
        },
        "id": "dtKGUwjZdc9c",
        "outputId": "7b3980b5-e7f7-4386-b566-badafeb4581a"
      },
      "execution_count": null,
      "outputs": [
        {
          "output_type": "execute_result",
          "data": {
            "text/plain": [
              "        0         1         2         3         4         5         6    \\\n",
              "0  0.932233  0.869679  0.886186  0.929626  0.908775  0.933970  0.801043   \n",
              "1  1.000000  0.606941  0.384181  0.254237  0.223567  0.276836  0.253430   \n",
              "2  1.000000  0.951613  0.923963  0.853303  0.791859  0.734255  0.672043   \n",
              "3  0.977819  0.899261  0.230129  0.032348  0.142329  0.223660  0.328096   \n",
              "4  0.935618  0.801661  0.805815  1.000000  0.722741  0.480789  0.454829   \n",
              "\n",
              "        7         8         9    ...  178  179  180  181  182  183  184  185  \\\n",
              "0  0.749783  0.687229  0.635100  ...  0.0  0.0  0.0  0.0  0.0  0.0  0.0  0.0   \n",
              "1  0.184826  0.153349  0.121872  ...  0.0  0.0  0.0  0.0  0.0  0.0  0.0  0.0   \n",
              "2  0.685100  0.670507  0.667435  ...  0.0  0.0  0.0  0.0  0.0  0.0  0.0  0.0   \n",
              "3  0.367837  0.381701  0.389094  ...  0.0  0.0  0.0  0.0  0.0  0.0  0.0  0.0   \n",
              "4  0.319834  0.266874  0.308411  ...  0.0  0.0  0.0  0.0  0.0  0.0  0.0  0.0   \n",
              "\n",
              "   186  187  \n",
              "0  0.0  1.0  \n",
              "1  0.0  1.0  \n",
              "2  0.0  1.0  \n",
              "3  0.0  1.0  \n",
              "4  0.0  1.0  \n",
              "\n",
              "[5 rows x 188 columns]"
            ],
            "text/html": [
              "\n",
              "  <div id=\"df-afd48d49-23a4-48f6-8cac-f96855f0f969\" class=\"colab-df-container\">\n",
              "    <div>\n",
              "<style scoped>\n",
              "    .dataframe tbody tr th:only-of-type {\n",
              "        vertical-align: middle;\n",
              "    }\n",
              "\n",
              "    .dataframe tbody tr th {\n",
              "        vertical-align: top;\n",
              "    }\n",
              "\n",
              "    .dataframe thead th {\n",
              "        text-align: right;\n",
              "    }\n",
              "</style>\n",
              "<table border=\"1\" class=\"dataframe\">\n",
              "  <thead>\n",
              "    <tr style=\"text-align: right;\">\n",
              "      <th></th>\n",
              "      <th>0</th>\n",
              "      <th>1</th>\n",
              "      <th>2</th>\n",
              "      <th>3</th>\n",
              "      <th>4</th>\n",
              "      <th>5</th>\n",
              "      <th>6</th>\n",
              "      <th>7</th>\n",
              "      <th>8</th>\n",
              "      <th>9</th>\n",
              "      <th>...</th>\n",
              "      <th>178</th>\n",
              "      <th>179</th>\n",
              "      <th>180</th>\n",
              "      <th>181</th>\n",
              "      <th>182</th>\n",
              "      <th>183</th>\n",
              "      <th>184</th>\n",
              "      <th>185</th>\n",
              "      <th>186</th>\n",
              "      <th>187</th>\n",
              "    </tr>\n",
              "  </thead>\n",
              "  <tbody>\n",
              "    <tr>\n",
              "      <th>0</th>\n",
              "      <td>0.932233</td>\n",
              "      <td>0.869679</td>\n",
              "      <td>0.886186</td>\n",
              "      <td>0.929626</td>\n",
              "      <td>0.908775</td>\n",
              "      <td>0.933970</td>\n",
              "      <td>0.801043</td>\n",
              "      <td>0.749783</td>\n",
              "      <td>0.687229</td>\n",
              "      <td>0.635100</td>\n",
              "      <td>...</td>\n",
              "      <td>0.0</td>\n",
              "      <td>0.0</td>\n",
              "      <td>0.0</td>\n",
              "      <td>0.0</td>\n",
              "      <td>0.0</td>\n",
              "      <td>0.0</td>\n",
              "      <td>0.0</td>\n",
              "      <td>0.0</td>\n",
              "      <td>0.0</td>\n",
              "      <td>1.0</td>\n",
              "    </tr>\n",
              "    <tr>\n",
              "      <th>1</th>\n",
              "      <td>1.000000</td>\n",
              "      <td>0.606941</td>\n",
              "      <td>0.384181</td>\n",
              "      <td>0.254237</td>\n",
              "      <td>0.223567</td>\n",
              "      <td>0.276836</td>\n",
              "      <td>0.253430</td>\n",
              "      <td>0.184826</td>\n",
              "      <td>0.153349</td>\n",
              "      <td>0.121872</td>\n",
              "      <td>...</td>\n",
              "      <td>0.0</td>\n",
              "      <td>0.0</td>\n",
              "      <td>0.0</td>\n",
              "      <td>0.0</td>\n",
              "      <td>0.0</td>\n",
              "      <td>0.0</td>\n",
              "      <td>0.0</td>\n",
              "      <td>0.0</td>\n",
              "      <td>0.0</td>\n",
              "      <td>1.0</td>\n",
              "    </tr>\n",
              "    <tr>\n",
              "      <th>2</th>\n",
              "      <td>1.000000</td>\n",
              "      <td>0.951613</td>\n",
              "      <td>0.923963</td>\n",
              "      <td>0.853303</td>\n",
              "      <td>0.791859</td>\n",
              "      <td>0.734255</td>\n",
              "      <td>0.672043</td>\n",
              "      <td>0.685100</td>\n",
              "      <td>0.670507</td>\n",
              "      <td>0.667435</td>\n",
              "      <td>...</td>\n",
              "      <td>0.0</td>\n",
              "      <td>0.0</td>\n",
              "      <td>0.0</td>\n",
              "      <td>0.0</td>\n",
              "      <td>0.0</td>\n",
              "      <td>0.0</td>\n",
              "      <td>0.0</td>\n",
              "      <td>0.0</td>\n",
              "      <td>0.0</td>\n",
              "      <td>1.0</td>\n",
              "    </tr>\n",
              "    <tr>\n",
              "      <th>3</th>\n",
              "      <td>0.977819</td>\n",
              "      <td>0.899261</td>\n",
              "      <td>0.230129</td>\n",
              "      <td>0.032348</td>\n",
              "      <td>0.142329</td>\n",
              "      <td>0.223660</td>\n",
              "      <td>0.328096</td>\n",
              "      <td>0.367837</td>\n",
              "      <td>0.381701</td>\n",
              "      <td>0.389094</td>\n",
              "      <td>...</td>\n",
              "      <td>0.0</td>\n",
              "      <td>0.0</td>\n",
              "      <td>0.0</td>\n",
              "      <td>0.0</td>\n",
              "      <td>0.0</td>\n",
              "      <td>0.0</td>\n",
              "      <td>0.0</td>\n",
              "      <td>0.0</td>\n",
              "      <td>0.0</td>\n",
              "      <td>1.0</td>\n",
              "    </tr>\n",
              "    <tr>\n",
              "      <th>4</th>\n",
              "      <td>0.935618</td>\n",
              "      <td>0.801661</td>\n",
              "      <td>0.805815</td>\n",
              "      <td>1.000000</td>\n",
              "      <td>0.722741</td>\n",
              "      <td>0.480789</td>\n",
              "      <td>0.454829</td>\n",
              "      <td>0.319834</td>\n",
              "      <td>0.266874</td>\n",
              "      <td>0.308411</td>\n",
              "      <td>...</td>\n",
              "      <td>0.0</td>\n",
              "      <td>0.0</td>\n",
              "      <td>0.0</td>\n",
              "      <td>0.0</td>\n",
              "      <td>0.0</td>\n",
              "      <td>0.0</td>\n",
              "      <td>0.0</td>\n",
              "      <td>0.0</td>\n",
              "      <td>0.0</td>\n",
              "      <td>1.0</td>\n",
              "    </tr>\n",
              "  </tbody>\n",
              "</table>\n",
              "<p>5 rows × 188 columns</p>\n",
              "</div>\n",
              "    <div class=\"colab-df-buttons\">\n",
              "\n",
              "  <div class=\"colab-df-container\">\n",
              "    <button class=\"colab-df-convert\" onclick=\"convertToInteractive('df-afd48d49-23a4-48f6-8cac-f96855f0f969')\"\n",
              "            title=\"Convert this dataframe to an interactive table.\"\n",
              "            style=\"display:none;\">\n",
              "\n",
              "  <svg xmlns=\"http://www.w3.org/2000/svg\" height=\"24px\" viewBox=\"0 -960 960 960\">\n",
              "    <path d=\"M120-120v-720h720v720H120Zm60-500h600v-160H180v160Zm220 220h160v-160H400v160Zm0 220h160v-160H400v160ZM180-400h160v-160H180v160Zm440 0h160v-160H620v160ZM180-180h160v-160H180v160Zm440 0h160v-160H620v160Z\"/>\n",
              "  </svg>\n",
              "    </button>\n",
              "\n",
              "  <style>\n",
              "    .colab-df-container {\n",
              "      display:flex;\n",
              "      gap: 12px;\n",
              "    }\n",
              "\n",
              "    .colab-df-convert {\n",
              "      background-color: #E8F0FE;\n",
              "      border: none;\n",
              "      border-radius: 50%;\n",
              "      cursor: pointer;\n",
              "      display: none;\n",
              "      fill: #1967D2;\n",
              "      height: 32px;\n",
              "      padding: 0 0 0 0;\n",
              "      width: 32px;\n",
              "    }\n",
              "\n",
              "    .colab-df-convert:hover {\n",
              "      background-color: #E2EBFA;\n",
              "      box-shadow: 0px 1px 2px rgba(60, 64, 67, 0.3), 0px 1px 3px 1px rgba(60, 64, 67, 0.15);\n",
              "      fill: #174EA6;\n",
              "    }\n",
              "\n",
              "    .colab-df-buttons div {\n",
              "      margin-bottom: 4px;\n",
              "    }\n",
              "\n",
              "    [theme=dark] .colab-df-convert {\n",
              "      background-color: #3B4455;\n",
              "      fill: #D2E3FC;\n",
              "    }\n",
              "\n",
              "    [theme=dark] .colab-df-convert:hover {\n",
              "      background-color: #434B5C;\n",
              "      box-shadow: 0px 1px 3px 1px rgba(0, 0, 0, 0.15);\n",
              "      filter: drop-shadow(0px 1px 2px rgba(0, 0, 0, 0.3));\n",
              "      fill: #FFFFFF;\n",
              "    }\n",
              "  </style>\n",
              "\n",
              "    <script>\n",
              "      const buttonEl =\n",
              "        document.querySelector('#df-afd48d49-23a4-48f6-8cac-f96855f0f969 button.colab-df-convert');\n",
              "      buttonEl.style.display =\n",
              "        google.colab.kernel.accessAllowed ? 'block' : 'none';\n",
              "\n",
              "      async function convertToInteractive(key) {\n",
              "        const element = document.querySelector('#df-afd48d49-23a4-48f6-8cac-f96855f0f969');\n",
              "        const dataTable =\n",
              "          await google.colab.kernel.invokeFunction('convertToInteractive',\n",
              "                                                    [key], {});\n",
              "        if (!dataTable) return;\n",
              "\n",
              "        const docLinkHtml = 'Like what you see? Visit the ' +\n",
              "          '<a target=\"_blank\" href=https://colab.research.google.com/notebooks/data_table.ipynb>data table notebook</a>'\n",
              "          + ' to learn more about interactive tables.';\n",
              "        element.innerHTML = '';\n",
              "        dataTable['output_type'] = 'display_data';\n",
              "        await google.colab.output.renderOutput(dataTable, element);\n",
              "        const docLink = document.createElement('div');\n",
              "        docLink.innerHTML = docLinkHtml;\n",
              "        element.appendChild(docLink);\n",
              "      }\n",
              "    </script>\n",
              "  </div>\n",
              "\n",
              "\n",
              "    <div id=\"df-9ad26849-3cca-44cc-989e-ae692b8f353f\">\n",
              "      <button class=\"colab-df-quickchart\" onclick=\"quickchart('df-9ad26849-3cca-44cc-989e-ae692b8f353f')\"\n",
              "                title=\"Suggest charts\"\n",
              "                style=\"display:none;\">\n",
              "\n",
              "<svg xmlns=\"http://www.w3.org/2000/svg\" height=\"24px\"viewBox=\"0 0 24 24\"\n",
              "     width=\"24px\">\n",
              "    <g>\n",
              "        <path d=\"M19 3H5c-1.1 0-2 .9-2 2v14c0 1.1.9 2 2 2h14c1.1 0 2-.9 2-2V5c0-1.1-.9-2-2-2zM9 17H7v-7h2v7zm4 0h-2V7h2v10zm4 0h-2v-4h2v4z\"/>\n",
              "    </g>\n",
              "</svg>\n",
              "      </button>\n",
              "\n",
              "<style>\n",
              "  .colab-df-quickchart {\n",
              "      --bg-color: #E8F0FE;\n",
              "      --fill-color: #1967D2;\n",
              "      --hover-bg-color: #E2EBFA;\n",
              "      --hover-fill-color: #174EA6;\n",
              "      --disabled-fill-color: #AAA;\n",
              "      --disabled-bg-color: #DDD;\n",
              "  }\n",
              "\n",
              "  [theme=dark] .colab-df-quickchart {\n",
              "      --bg-color: #3B4455;\n",
              "      --fill-color: #D2E3FC;\n",
              "      --hover-bg-color: #434B5C;\n",
              "      --hover-fill-color: #FFFFFF;\n",
              "      --disabled-bg-color: #3B4455;\n",
              "      --disabled-fill-color: #666;\n",
              "  }\n",
              "\n",
              "  .colab-df-quickchart {\n",
              "    background-color: var(--bg-color);\n",
              "    border: none;\n",
              "    border-radius: 50%;\n",
              "    cursor: pointer;\n",
              "    display: none;\n",
              "    fill: var(--fill-color);\n",
              "    height: 32px;\n",
              "    padding: 0;\n",
              "    width: 32px;\n",
              "  }\n",
              "\n",
              "  .colab-df-quickchart:hover {\n",
              "    background-color: var(--hover-bg-color);\n",
              "    box-shadow: 0 1px 2px rgba(60, 64, 67, 0.3), 0 1px 3px 1px rgba(60, 64, 67, 0.15);\n",
              "    fill: var(--button-hover-fill-color);\n",
              "  }\n",
              "\n",
              "  .colab-df-quickchart-complete:disabled,\n",
              "  .colab-df-quickchart-complete:disabled:hover {\n",
              "    background-color: var(--disabled-bg-color);\n",
              "    fill: var(--disabled-fill-color);\n",
              "    box-shadow: none;\n",
              "  }\n",
              "\n",
              "  .colab-df-spinner {\n",
              "    border: 2px solid var(--fill-color);\n",
              "    border-color: transparent;\n",
              "    border-bottom-color: var(--fill-color);\n",
              "    animation:\n",
              "      spin 1s steps(1) infinite;\n",
              "  }\n",
              "\n",
              "  @keyframes spin {\n",
              "    0% {\n",
              "      border-color: transparent;\n",
              "      border-bottom-color: var(--fill-color);\n",
              "      border-left-color: var(--fill-color);\n",
              "    }\n",
              "    20% {\n",
              "      border-color: transparent;\n",
              "      border-left-color: var(--fill-color);\n",
              "      border-top-color: var(--fill-color);\n",
              "    }\n",
              "    30% {\n",
              "      border-color: transparent;\n",
              "      border-left-color: var(--fill-color);\n",
              "      border-top-color: var(--fill-color);\n",
              "      border-right-color: var(--fill-color);\n",
              "    }\n",
              "    40% {\n",
              "      border-color: transparent;\n",
              "      border-right-color: var(--fill-color);\n",
              "      border-top-color: var(--fill-color);\n",
              "    }\n",
              "    60% {\n",
              "      border-color: transparent;\n",
              "      border-right-color: var(--fill-color);\n",
              "    }\n",
              "    80% {\n",
              "      border-color: transparent;\n",
              "      border-right-color: var(--fill-color);\n",
              "      border-bottom-color: var(--fill-color);\n",
              "    }\n",
              "    90% {\n",
              "      border-color: transparent;\n",
              "      border-bottom-color: var(--fill-color);\n",
              "    }\n",
              "  }\n",
              "</style>\n",
              "\n",
              "      <script>\n",
              "        async function quickchart(key) {\n",
              "          const quickchartButtonEl =\n",
              "            document.querySelector('#' + key + ' button');\n",
              "          quickchartButtonEl.disabled = true;  // To prevent multiple clicks.\n",
              "          quickchartButtonEl.classList.add('colab-df-spinner');\n",
              "          try {\n",
              "            const charts = await google.colab.kernel.invokeFunction(\n",
              "                'suggestCharts', [key], {});\n",
              "          } catch (error) {\n",
              "            console.error('Error during call to suggestCharts:', error);\n",
              "          }\n",
              "          quickchartButtonEl.classList.remove('colab-df-spinner');\n",
              "          quickchartButtonEl.classList.add('colab-df-quickchart-complete');\n",
              "        }\n",
              "        (() => {\n",
              "          let quickchartButtonEl =\n",
              "            document.querySelector('#df-9ad26849-3cca-44cc-989e-ae692b8f353f button');\n",
              "          quickchartButtonEl.style.display =\n",
              "            google.colab.kernel.accessAllowed ? 'block' : 'none';\n",
              "        })();\n",
              "      </script>\n",
              "    </div>\n",
              "\n",
              "    </div>\n",
              "  </div>\n"
            ],
            "application/vnd.google.colaboratory.intrinsic+json": {
              "type": "dataframe",
              "variable_name": "df_ptbdb_abnormal"
            }
          },
          "metadata": {},
          "execution_count": 86
        }
      ]
    },
    {
      "cell_type": "code",
      "source": [
        "df_ptbdb_abnormal.shape # Mostrar dimensiones."
      ],
      "metadata": {
        "colab": {
          "base_uri": "https://localhost:8080/"
        },
        "id": "K6aBlW_yVVNT",
        "outputId": "d77830f4-4ec8-4a7f-ce77-f448a91fa199"
      },
      "execution_count": null,
      "outputs": [
        {
          "output_type": "execute_result",
          "data": {
            "text/plain": [
              "(10506, 188)"
            ]
          },
          "metadata": {},
          "execution_count": 87
        }
      ]
    },
    {
      "cell_type": "markdown",
      "source": [
        "Se divide en 10506 registros, que corresponden a 10506 latidos anormales, y se divide en 188 columnas, de las cuales son 187 mediciones del voltaje del latido, y la última columna es el tipo de latido, en este caso todos los valores son 1 porque así se denotan los latidos anormales."
      ],
      "metadata": {
        "id": "ps0Kkv39VUPl"
      }
    },
    {
      "cell_type": "markdown",
      "source": [
        "### Limpieza y análisis estadístico"
      ],
      "metadata": {
        "id": "DHQsSz60uj3y"
      }
    },
    {
      "cell_type": "code",
      "source": [
        "# Datos nulos:\n",
        "print(\"Cantidad de datos nulos en el DataFrame de los latidos normales:\",\n",
        "      df_ptbdb_normal.isnull().sum().sum())\n",
        "print(\"Cantidad de datos nulos en el DataFrame de los latidos anormales:\",\n",
        "      df_ptbdb_abnormal.isnull().sum().sum())"
      ],
      "metadata": {
        "colab": {
          "base_uri": "https://localhost:8080/"
        },
        "id": "Gabe4ZBruaOf",
        "outputId": "f62644d3-d6a5-47db-ef88-2c721b59e148"
      },
      "execution_count": null,
      "outputs": [
        {
          "output_type": "stream",
          "name": "stdout",
          "text": [
            "Cantidad de datos nulos en el DataFrame de los latidos normales: 0\n",
            "Cantidad de datos nulos en el DataFrame de los latidos anormales: 0\n"
          ]
        }
      ]
    },
    {
      "cell_type": "markdown",
      "source": [
        "Al no tener datos nulos, no se requiere preprocesamiento en este aspecto (interpolación, KNN, regresión, MICE, etc.)"
      ],
      "metadata": {
        "id": "c6DCOSlVV6De"
      }
    },
    {
      "cell_type": "code",
      "source": [
        "# Filas duplicadas:\n",
        "print(\"Cantidad de filas duplicadas en el DataFrame de los latidos normales:\",\n",
        "      df_ptbdb_normal.duplicated().sum())\n",
        "print(\"Cantidad de filas duplicadas en el DataFrame de los latidos anormales:\",\n",
        "      df_ptbdb_abnormal.duplicated().sum())"
      ],
      "metadata": {
        "colab": {
          "base_uri": "https://localhost:8080/"
        },
        "id": "iO8fYgNfWEfA",
        "outputId": "09e47102-98b3-45ac-dd18-57df9e5e1022"
      },
      "execution_count": null,
      "outputs": [
        {
          "output_type": "stream",
          "name": "stdout",
          "text": [
            "Cantidad de filas duplicadas en el DataFrame de los latidos normales: 1\n",
            "Cantidad de filas duplicadas en el DataFrame de los latidos anormales: 6\n"
          ]
        }
      ]
    },
    {
      "cell_type": "markdown",
      "source": [
        "Al tener registros duplicados en los datasets, se requieren eliminar, pues son redundantes para el análisis."
      ],
      "metadata": {
        "id": "hnfXCPiAWcXC"
      }
    },
    {
      "cell_type": "code",
      "source": [
        "# Eliminar filas duplicadas, con nuevos índices:\n",
        "df_ptbdb_normal = df_ptbdb_normal.drop_duplicates().reset_index(drop=True)\n",
        "df_ptbdb_abnormal = df_ptbdb_abnormal.drop_duplicates().reset_index(drop=True)\n",
        "\n",
        "# Confirmar que ya no hay filas duplicadas:\n",
        "print(\"Cantidad de filas duplicadas en el DataFrame de los latidos normales:\",\n",
        "      df_ptbdb_normal.duplicated().sum())\n",
        "print(\"Cantidad de filas duplicadas en el DataFrame de los latidos anormales:\",\n",
        "      df_ptbdb_abnormal.duplicated().sum())"
      ],
      "metadata": {
        "colab": {
          "base_uri": "https://localhost:8080/"
        },
        "id": "0nH4p1UlWuvB",
        "outputId": "4f961716-8a50-4e28-a2e8-5e5b76a295a4"
      },
      "execution_count": null,
      "outputs": [
        {
          "output_type": "stream",
          "name": "stdout",
          "text": [
            "Cantidad de filas duplicadas en el DataFrame de los latidos normales: 0\n",
            "Cantidad de filas duplicadas en el DataFrame de los latidos anormales: 0\n"
          ]
        }
      ]
    },
    {
      "cell_type": "code",
      "source": [
        "df_ptbdb_normal.shape # Mostrar dimensiones."
      ],
      "metadata": {
        "colab": {
          "base_uri": "https://localhost:8080/"
        },
        "id": "StI5N2A7Xef6",
        "outputId": "f31bdd8e-b837-41ec-ce74-4bdae23dcce9"
      },
      "execution_count": null,
      "outputs": [
        {
          "output_type": "execute_result",
          "data": {
            "text/plain": [
              "(4045, 188)"
            ]
          },
          "metadata": {},
          "execution_count": 91
        }
      ]
    },
    {
      "cell_type": "code",
      "source": [
        "df_ptbdb_abnormal.shape # Mostrar dimensiones."
      ],
      "metadata": {
        "colab": {
          "base_uri": "https://localhost:8080/"
        },
        "id": "nYFpBJzVXlm8",
        "outputId": "a21bf54b-01e5-4d6b-8f5a-0a35397e84f1"
      },
      "execution_count": null,
      "outputs": [
        {
          "output_type": "execute_result",
          "data": {
            "text/plain": [
              "(10500, 188)"
            ]
          },
          "metadata": {},
          "execution_count": 92
        }
      ]
    },
    {
      "cell_type": "markdown",
      "source": [
        "Ahora solo se tienen 4045 registros de latidos normales y 10500 de latidos anormales."
      ],
      "metadata": {
        "id": "ZCYDo23YX4Jv"
      }
    },
    {
      "cell_type": "code",
      "source": [
        "# Unir los DataFrames de manera vertical, registros normales arriba y anormales\n",
        "  # abajo, con nuevos índices:\n",
        "df_ptbdb = pd.concat([df_ptbdb_normal, df_ptbdb_abnormal], ignore_index=True)"
      ],
      "metadata": {
        "id": "OyHXbX316427"
      },
      "execution_count": null,
      "outputs": []
    },
    {
      "cell_type": "code",
      "source": [
        "df_ptbdb.shape # Mostrar dimensiones."
      ],
      "metadata": {
        "colab": {
          "base_uri": "https://localhost:8080/"
        },
        "id": "9QRxIGBQ7EOJ",
        "outputId": "b392e7d8-564c-4ccf-9ae3-3d177964adf6"
      },
      "execution_count": null,
      "outputs": [
        {
          "output_type": "execute_result",
          "data": {
            "text/plain": [
              "(14545, 188)"
            ]
          },
          "metadata": {},
          "execution_count": 94
        }
      ]
    },
    {
      "cell_type": "markdown",
      "source": [
        "Ahora son 14545 registros de latidos totales."
      ],
      "metadata": {
        "id": "AesBG8yIYS7m"
      }
    },
    {
      "cell_type": "code",
      "source": [
        "# Dividir en variables predictoras y objetivo:\n",
        "\n",
        "# Variables predictoras (mediciones de voltaje), convertir a tipo flotante:\n",
        "X = df_ptbdb.iloc[:, :-1].astype('float64')\n",
        "\n",
        "# Variable objetivo (etiquetas de clase), convertir a enteros:\n",
        "y = df_ptbdb.iloc[:, -1].astype('int')"
      ],
      "metadata": {
        "id": "8JKFF91ywzf7"
      },
      "execution_count": null,
      "outputs": []
    },
    {
      "cell_type": "code",
      "source": [
        "X.shape # Mostrar dimensiones."
      ],
      "metadata": {
        "colab": {
          "base_uri": "https://localhost:8080/"
        },
        "id": "gobP8yiq7Poz",
        "outputId": "cf94fc09-76e4-4d1f-8f0f-17698e91052b"
      },
      "execution_count": null,
      "outputs": [
        {
          "output_type": "execute_result",
          "data": {
            "text/plain": [
              "(14545, 187)"
            ]
          },
          "metadata": {},
          "execution_count": 96
        }
      ]
    },
    {
      "cell_type": "code",
      "source": [
        "y.shape # Mostrar dimensiones."
      ],
      "metadata": {
        "colab": {
          "base_uri": "https://localhost:8080/"
        },
        "id": "z0cgAhnm7RSx",
        "outputId": "d453abdf-098c-4366-b120-897bf06e546b"
      },
      "execution_count": null,
      "outputs": [
        {
          "output_type": "execute_result",
          "data": {
            "text/plain": [
              "(14545,)"
            ]
          },
          "metadata": {},
          "execution_count": 97
        }
      ]
    },
    {
      "cell_type": "markdown",
      "source": [
        "Con esto, son 187 columnas para X porque cada una actúa como variable predictora, al ser las mediciones de voltaje de los latidos. Y una sola columna para y, pues actúa como única variable objetivo."
      ],
      "metadata": {
        "id": "H3hA6DC8ZDXj"
      }
    },
    {
      "cell_type": "code",
      "source": [
        "# Dividir variables en conjunto de entrenamiento y de pruebas:\n",
        "X_train, X_test, y_train, y_test = train_test_split(\n",
        "    X, y, # Variables predictoras y objetivo.\n",
        "    test_size=0.20, # Tamaño de la prueba (20%).\n",
        "    stratify=y, # Estratificar, asegurando que se mantenga la proporción de\n",
        "      # clases en entrenamiento y pruebas.\n",
        "    random_state=69 # Fijar semilla aleatoria para reproductibilidad.\n",
        ")"
      ],
      "metadata": {
        "id": "u76hmnug7YET"
      },
      "execution_count": null,
      "outputs": []
    },
    {
      "cell_type": "markdown",
      "source": [
        "Ahora se separan los datos en conjuntos de entrenamiento y de prueba, de manera estratificada, para que la proporción de cada clase se mantenga en ambos subconjuntos y evaluar el rendimiento de manera equitativa y representativa."
      ],
      "metadata": {
        "id": "FQeIMuiZ9sQX"
      }
    },
    {
      "cell_type": "code",
      "source": [
        "X_train.shape # Mostrar dimensiones."
      ],
      "metadata": {
        "colab": {
          "base_uri": "https://localhost:8080/"
        },
        "id": "wzWjgHGwaKDU",
        "outputId": "7752476b-013b-4fea-ff95-92a8c1c2f6ed"
      },
      "execution_count": null,
      "outputs": [
        {
          "output_type": "execute_result",
          "data": {
            "text/plain": [
              "(11636, 187)"
            ]
          },
          "metadata": {},
          "execution_count": 99
        }
      ]
    },
    {
      "cell_type": "code",
      "source": [
        "y_train.shape # Mostrar dimensiones."
      ],
      "metadata": {
        "colab": {
          "base_uri": "https://localhost:8080/"
        },
        "id": "pyevB04raScZ",
        "outputId": "d255deb7-b3f8-4ba2-e7df-1b6fa3054125"
      },
      "execution_count": null,
      "outputs": [
        {
          "output_type": "execute_result",
          "data": {
            "text/plain": [
              "(11636,)"
            ]
          },
          "metadata": {},
          "execution_count": 100
        }
      ]
    },
    {
      "cell_type": "markdown",
      "source": [
        "Los conjuntos de entrenamiento, tanto de las variables predictoras, como de la variable objetivo tienen 11636 registros, correspondientes al 80% de registros totales que había originalmente."
      ],
      "metadata": {
        "id": "TgSWHnwIaXp4"
      }
    },
    {
      "cell_type": "code",
      "source": [
        "X_test.shape # Mostrar dimensiones."
      ],
      "metadata": {
        "colab": {
          "base_uri": "https://localhost:8080/"
        },
        "id": "mlOmzgO6aQn8",
        "outputId": "78df5ab9-effe-4bd3-f459-73dd5a732dfd"
      },
      "execution_count": null,
      "outputs": [
        {
          "output_type": "execute_result",
          "data": {
            "text/plain": [
              "(2909, 187)"
            ]
          },
          "metadata": {},
          "execution_count": 101
        }
      ]
    },
    {
      "cell_type": "code",
      "source": [
        "y_test.shape # Mostrar dimensiones."
      ],
      "metadata": {
        "colab": {
          "base_uri": "https://localhost:8080/"
        },
        "id": "IU0eATodaUnZ",
        "outputId": "491fc67f-dc7d-4b17-aef0-4b1835fbcfdf"
      },
      "execution_count": null,
      "outputs": [
        {
          "output_type": "execute_result",
          "data": {
            "text/plain": [
              "(2909,)"
            ]
          },
          "metadata": {},
          "execution_count": 102
        }
      ]
    },
    {
      "cell_type": "markdown",
      "source": [
        "Los conjuntos de prueba, tanto de las variables predictoras, como de la variable objetivo tienen 2909 registros, correspondientes al 20% de registros totales que había originalmente."
      ],
      "metadata": {
        "id": "y7jhvXcCaoac"
      }
    },
    {
      "cell_type": "code",
      "source": [
        "X_train.describe() # Estadística descriptiva."
      ],
      "metadata": {
        "colab": {
          "base_uri": "https://localhost:8080/",
          "height": 350
        },
        "id": "54sLeGnCxoVP",
        "outputId": "e592eb90-5cb4-4524-df2d-336357e667fe"
      },
      "execution_count": null,
      "outputs": [
        {
          "output_type": "execute_result",
          "data": {
            "text/plain": [
              "                0             1             2             3             4    \\\n",
              "count  11636.000000  11636.000000  11636.000000  11636.000000  11636.000000   \n",
              "mean       0.976837      0.722277      0.403841      0.243451      0.207810   \n",
              "std        0.034247      0.195842      0.249633      0.249168      0.218607   \n",
              "min        0.624227      0.000000      0.000000      0.000000      0.000000   \n",
              "25%        0.959775      0.585281      0.213480      0.053006      0.061187   \n",
              "50%        1.000000      0.741666      0.373900      0.169251      0.136295   \n",
              "75%        1.000000      0.882303      0.560487      0.336812      0.265677   \n",
              "max        1.000000      1.000000      1.000000      1.000000      1.000000   \n",
              "\n",
              "                5             6             7             8             9    \\\n",
              "count  11636.000000  11636.000000  11636.000000  11636.000000  11636.000000   \n",
              "mean       0.217427      0.222996      0.225394      0.227894      0.230323   \n",
              "std        0.193247      0.181588      0.177272      0.177054      0.176952   \n",
              "min        0.000000      0.000000      0.000000      0.000000      0.000000   \n",
              "25%        0.090650      0.096620      0.097437      0.097497      0.097463   \n",
              "50%        0.160256      0.168275      0.172771      0.177793      0.180723   \n",
              "75%        0.265534      0.287668      0.303247      0.312046      0.325513   \n",
              "max        1.000000      1.000000      0.985523      0.993213      0.997738   \n",
              "\n",
              "       ...           177           178           179           180  \\\n",
              "count  ...  11636.000000  11636.000000  11636.000000  11636.000000   \n",
              "mean   ...      0.001507      0.001213      0.001136      0.000844   \n",
              "std    ...      0.023490      0.022312      0.021890      0.017263   \n",
              "min    ...      0.000000      0.000000      0.000000      0.000000   \n",
              "25%    ...      0.000000      0.000000      0.000000      0.000000   \n",
              "50%    ...      0.000000      0.000000      0.000000      0.000000   \n",
              "75%    ...      0.000000      0.000000      0.000000      0.000000   \n",
              "max    ...      0.746508      0.791899      0.773743      0.789804   \n",
              "\n",
              "                181           182           183           184           185  \\\n",
              "count  11636.000000  11636.000000  11636.000000  11636.000000  11636.000000   \n",
              "mean       0.000715      0.000628      0.000459      0.000132      0.000139   \n",
              "std        0.014947      0.014106      0.012601      0.005519      0.005795   \n",
              "min        0.000000      0.000000      0.000000      0.000000      0.000000   \n",
              "25%        0.000000      0.000000      0.000000      0.000000      0.000000   \n",
              "50%        0.000000      0.000000      0.000000      0.000000      0.000000   \n",
              "75%        0.000000      0.000000      0.000000      0.000000      0.000000   \n",
              "max        0.628177      0.602033      0.644880      0.333903      0.350150   \n",
              "\n",
              "           186  \n",
              "count  11636.0  \n",
              "mean       0.0  \n",
              "std        0.0  \n",
              "min        0.0  \n",
              "25%        0.0  \n",
              "50%        0.0  \n",
              "75%        0.0  \n",
              "max        0.0  \n",
              "\n",
              "[8 rows x 187 columns]"
            ],
            "text/html": [
              "\n",
              "  <div id=\"df-eaadfabd-9447-4662-9fa6-82a2760d6b09\" class=\"colab-df-container\">\n",
              "    <div>\n",
              "<style scoped>\n",
              "    .dataframe tbody tr th:only-of-type {\n",
              "        vertical-align: middle;\n",
              "    }\n",
              "\n",
              "    .dataframe tbody tr th {\n",
              "        vertical-align: top;\n",
              "    }\n",
              "\n",
              "    .dataframe thead th {\n",
              "        text-align: right;\n",
              "    }\n",
              "</style>\n",
              "<table border=\"1\" class=\"dataframe\">\n",
              "  <thead>\n",
              "    <tr style=\"text-align: right;\">\n",
              "      <th></th>\n",
              "      <th>0</th>\n",
              "      <th>1</th>\n",
              "      <th>2</th>\n",
              "      <th>3</th>\n",
              "      <th>4</th>\n",
              "      <th>5</th>\n",
              "      <th>6</th>\n",
              "      <th>7</th>\n",
              "      <th>8</th>\n",
              "      <th>9</th>\n",
              "      <th>...</th>\n",
              "      <th>177</th>\n",
              "      <th>178</th>\n",
              "      <th>179</th>\n",
              "      <th>180</th>\n",
              "      <th>181</th>\n",
              "      <th>182</th>\n",
              "      <th>183</th>\n",
              "      <th>184</th>\n",
              "      <th>185</th>\n",
              "      <th>186</th>\n",
              "    </tr>\n",
              "  </thead>\n",
              "  <tbody>\n",
              "    <tr>\n",
              "      <th>count</th>\n",
              "      <td>11636.000000</td>\n",
              "      <td>11636.000000</td>\n",
              "      <td>11636.000000</td>\n",
              "      <td>11636.000000</td>\n",
              "      <td>11636.000000</td>\n",
              "      <td>11636.000000</td>\n",
              "      <td>11636.000000</td>\n",
              "      <td>11636.000000</td>\n",
              "      <td>11636.000000</td>\n",
              "      <td>11636.000000</td>\n",
              "      <td>...</td>\n",
              "      <td>11636.000000</td>\n",
              "      <td>11636.000000</td>\n",
              "      <td>11636.000000</td>\n",
              "      <td>11636.000000</td>\n",
              "      <td>11636.000000</td>\n",
              "      <td>11636.000000</td>\n",
              "      <td>11636.000000</td>\n",
              "      <td>11636.000000</td>\n",
              "      <td>11636.000000</td>\n",
              "      <td>11636.0</td>\n",
              "    </tr>\n",
              "    <tr>\n",
              "      <th>mean</th>\n",
              "      <td>0.976837</td>\n",
              "      <td>0.722277</td>\n",
              "      <td>0.403841</td>\n",
              "      <td>0.243451</td>\n",
              "      <td>0.207810</td>\n",
              "      <td>0.217427</td>\n",
              "      <td>0.222996</td>\n",
              "      <td>0.225394</td>\n",
              "      <td>0.227894</td>\n",
              "      <td>0.230323</td>\n",
              "      <td>...</td>\n",
              "      <td>0.001507</td>\n",
              "      <td>0.001213</td>\n",
              "      <td>0.001136</td>\n",
              "      <td>0.000844</td>\n",
              "      <td>0.000715</td>\n",
              "      <td>0.000628</td>\n",
              "      <td>0.000459</td>\n",
              "      <td>0.000132</td>\n",
              "      <td>0.000139</td>\n",
              "      <td>0.0</td>\n",
              "    </tr>\n",
              "    <tr>\n",
              "      <th>std</th>\n",
              "      <td>0.034247</td>\n",
              "      <td>0.195842</td>\n",
              "      <td>0.249633</td>\n",
              "      <td>0.249168</td>\n",
              "      <td>0.218607</td>\n",
              "      <td>0.193247</td>\n",
              "      <td>0.181588</td>\n",
              "      <td>0.177272</td>\n",
              "      <td>0.177054</td>\n",
              "      <td>0.176952</td>\n",
              "      <td>...</td>\n",
              "      <td>0.023490</td>\n",
              "      <td>0.022312</td>\n",
              "      <td>0.021890</td>\n",
              "      <td>0.017263</td>\n",
              "      <td>0.014947</td>\n",
              "      <td>0.014106</td>\n",
              "      <td>0.012601</td>\n",
              "      <td>0.005519</td>\n",
              "      <td>0.005795</td>\n",
              "      <td>0.0</td>\n",
              "    </tr>\n",
              "    <tr>\n",
              "      <th>min</th>\n",
              "      <td>0.624227</td>\n",
              "      <td>0.000000</td>\n",
              "      <td>0.000000</td>\n",
              "      <td>0.000000</td>\n",
              "      <td>0.000000</td>\n",
              "      <td>0.000000</td>\n",
              "      <td>0.000000</td>\n",
              "      <td>0.000000</td>\n",
              "      <td>0.000000</td>\n",
              "      <td>0.000000</td>\n",
              "      <td>...</td>\n",
              "      <td>0.000000</td>\n",
              "      <td>0.000000</td>\n",
              "      <td>0.000000</td>\n",
              "      <td>0.000000</td>\n",
              "      <td>0.000000</td>\n",
              "      <td>0.000000</td>\n",
              "      <td>0.000000</td>\n",
              "      <td>0.000000</td>\n",
              "      <td>0.000000</td>\n",
              "      <td>0.0</td>\n",
              "    </tr>\n",
              "    <tr>\n",
              "      <th>25%</th>\n",
              "      <td>0.959775</td>\n",
              "      <td>0.585281</td>\n",
              "      <td>0.213480</td>\n",
              "      <td>0.053006</td>\n",
              "      <td>0.061187</td>\n",
              "      <td>0.090650</td>\n",
              "      <td>0.096620</td>\n",
              "      <td>0.097437</td>\n",
              "      <td>0.097497</td>\n",
              "      <td>0.097463</td>\n",
              "      <td>...</td>\n",
              "      <td>0.000000</td>\n",
              "      <td>0.000000</td>\n",
              "      <td>0.000000</td>\n",
              "      <td>0.000000</td>\n",
              "      <td>0.000000</td>\n",
              "      <td>0.000000</td>\n",
              "      <td>0.000000</td>\n",
              "      <td>0.000000</td>\n",
              "      <td>0.000000</td>\n",
              "      <td>0.0</td>\n",
              "    </tr>\n",
              "    <tr>\n",
              "      <th>50%</th>\n",
              "      <td>1.000000</td>\n",
              "      <td>0.741666</td>\n",
              "      <td>0.373900</td>\n",
              "      <td>0.169251</td>\n",
              "      <td>0.136295</td>\n",
              "      <td>0.160256</td>\n",
              "      <td>0.168275</td>\n",
              "      <td>0.172771</td>\n",
              "      <td>0.177793</td>\n",
              "      <td>0.180723</td>\n",
              "      <td>...</td>\n",
              "      <td>0.000000</td>\n",
              "      <td>0.000000</td>\n",
              "      <td>0.000000</td>\n",
              "      <td>0.000000</td>\n",
              "      <td>0.000000</td>\n",
              "      <td>0.000000</td>\n",
              "      <td>0.000000</td>\n",
              "      <td>0.000000</td>\n",
              "      <td>0.000000</td>\n",
              "      <td>0.0</td>\n",
              "    </tr>\n",
              "    <tr>\n",
              "      <th>75%</th>\n",
              "      <td>1.000000</td>\n",
              "      <td>0.882303</td>\n",
              "      <td>0.560487</td>\n",
              "      <td>0.336812</td>\n",
              "      <td>0.265677</td>\n",
              "      <td>0.265534</td>\n",
              "      <td>0.287668</td>\n",
              "      <td>0.303247</td>\n",
              "      <td>0.312046</td>\n",
              "      <td>0.325513</td>\n",
              "      <td>...</td>\n",
              "      <td>0.000000</td>\n",
              "      <td>0.000000</td>\n",
              "      <td>0.000000</td>\n",
              "      <td>0.000000</td>\n",
              "      <td>0.000000</td>\n",
              "      <td>0.000000</td>\n",
              "      <td>0.000000</td>\n",
              "      <td>0.000000</td>\n",
              "      <td>0.000000</td>\n",
              "      <td>0.0</td>\n",
              "    </tr>\n",
              "    <tr>\n",
              "      <th>max</th>\n",
              "      <td>1.000000</td>\n",
              "      <td>1.000000</td>\n",
              "      <td>1.000000</td>\n",
              "      <td>1.000000</td>\n",
              "      <td>1.000000</td>\n",
              "      <td>1.000000</td>\n",
              "      <td>1.000000</td>\n",
              "      <td>0.985523</td>\n",
              "      <td>0.993213</td>\n",
              "      <td>0.997738</td>\n",
              "      <td>...</td>\n",
              "      <td>0.746508</td>\n",
              "      <td>0.791899</td>\n",
              "      <td>0.773743</td>\n",
              "      <td>0.789804</td>\n",
              "      <td>0.628177</td>\n",
              "      <td>0.602033</td>\n",
              "      <td>0.644880</td>\n",
              "      <td>0.333903</td>\n",
              "      <td>0.350150</td>\n",
              "      <td>0.0</td>\n",
              "    </tr>\n",
              "  </tbody>\n",
              "</table>\n",
              "<p>8 rows × 187 columns</p>\n",
              "</div>\n",
              "    <div class=\"colab-df-buttons\">\n",
              "\n",
              "  <div class=\"colab-df-container\">\n",
              "    <button class=\"colab-df-convert\" onclick=\"convertToInteractive('df-eaadfabd-9447-4662-9fa6-82a2760d6b09')\"\n",
              "            title=\"Convert this dataframe to an interactive table.\"\n",
              "            style=\"display:none;\">\n",
              "\n",
              "  <svg xmlns=\"http://www.w3.org/2000/svg\" height=\"24px\" viewBox=\"0 -960 960 960\">\n",
              "    <path d=\"M120-120v-720h720v720H120Zm60-500h600v-160H180v160Zm220 220h160v-160H400v160Zm0 220h160v-160H400v160ZM180-400h160v-160H180v160Zm440 0h160v-160H620v160ZM180-180h160v-160H180v160Zm440 0h160v-160H620v160Z\"/>\n",
              "  </svg>\n",
              "    </button>\n",
              "\n",
              "  <style>\n",
              "    .colab-df-container {\n",
              "      display:flex;\n",
              "      gap: 12px;\n",
              "    }\n",
              "\n",
              "    .colab-df-convert {\n",
              "      background-color: #E8F0FE;\n",
              "      border: none;\n",
              "      border-radius: 50%;\n",
              "      cursor: pointer;\n",
              "      display: none;\n",
              "      fill: #1967D2;\n",
              "      height: 32px;\n",
              "      padding: 0 0 0 0;\n",
              "      width: 32px;\n",
              "    }\n",
              "\n",
              "    .colab-df-convert:hover {\n",
              "      background-color: #E2EBFA;\n",
              "      box-shadow: 0px 1px 2px rgba(60, 64, 67, 0.3), 0px 1px 3px 1px rgba(60, 64, 67, 0.15);\n",
              "      fill: #174EA6;\n",
              "    }\n",
              "\n",
              "    .colab-df-buttons div {\n",
              "      margin-bottom: 4px;\n",
              "    }\n",
              "\n",
              "    [theme=dark] .colab-df-convert {\n",
              "      background-color: #3B4455;\n",
              "      fill: #D2E3FC;\n",
              "    }\n",
              "\n",
              "    [theme=dark] .colab-df-convert:hover {\n",
              "      background-color: #434B5C;\n",
              "      box-shadow: 0px 1px 3px 1px rgba(0, 0, 0, 0.15);\n",
              "      filter: drop-shadow(0px 1px 2px rgba(0, 0, 0, 0.3));\n",
              "      fill: #FFFFFF;\n",
              "    }\n",
              "  </style>\n",
              "\n",
              "    <script>\n",
              "      const buttonEl =\n",
              "        document.querySelector('#df-eaadfabd-9447-4662-9fa6-82a2760d6b09 button.colab-df-convert');\n",
              "      buttonEl.style.display =\n",
              "        google.colab.kernel.accessAllowed ? 'block' : 'none';\n",
              "\n",
              "      async function convertToInteractive(key) {\n",
              "        const element = document.querySelector('#df-eaadfabd-9447-4662-9fa6-82a2760d6b09');\n",
              "        const dataTable =\n",
              "          await google.colab.kernel.invokeFunction('convertToInteractive',\n",
              "                                                    [key], {});\n",
              "        if (!dataTable) return;\n",
              "\n",
              "        const docLinkHtml = 'Like what you see? Visit the ' +\n",
              "          '<a target=\"_blank\" href=https://colab.research.google.com/notebooks/data_table.ipynb>data table notebook</a>'\n",
              "          + ' to learn more about interactive tables.';\n",
              "        element.innerHTML = '';\n",
              "        dataTable['output_type'] = 'display_data';\n",
              "        await google.colab.output.renderOutput(dataTable, element);\n",
              "        const docLink = document.createElement('div');\n",
              "        docLink.innerHTML = docLinkHtml;\n",
              "        element.appendChild(docLink);\n",
              "      }\n",
              "    </script>\n",
              "  </div>\n",
              "\n",
              "\n",
              "    <div id=\"df-0c85fa81-7728-401e-b865-d74d5d0a9bcc\">\n",
              "      <button class=\"colab-df-quickchart\" onclick=\"quickchart('df-0c85fa81-7728-401e-b865-d74d5d0a9bcc')\"\n",
              "                title=\"Suggest charts\"\n",
              "                style=\"display:none;\">\n",
              "\n",
              "<svg xmlns=\"http://www.w3.org/2000/svg\" height=\"24px\"viewBox=\"0 0 24 24\"\n",
              "     width=\"24px\">\n",
              "    <g>\n",
              "        <path d=\"M19 3H5c-1.1 0-2 .9-2 2v14c0 1.1.9 2 2 2h14c1.1 0 2-.9 2-2V5c0-1.1-.9-2-2-2zM9 17H7v-7h2v7zm4 0h-2V7h2v10zm4 0h-2v-4h2v4z\"/>\n",
              "    </g>\n",
              "</svg>\n",
              "      </button>\n",
              "\n",
              "<style>\n",
              "  .colab-df-quickchart {\n",
              "      --bg-color: #E8F0FE;\n",
              "      --fill-color: #1967D2;\n",
              "      --hover-bg-color: #E2EBFA;\n",
              "      --hover-fill-color: #174EA6;\n",
              "      --disabled-fill-color: #AAA;\n",
              "      --disabled-bg-color: #DDD;\n",
              "  }\n",
              "\n",
              "  [theme=dark] .colab-df-quickchart {\n",
              "      --bg-color: #3B4455;\n",
              "      --fill-color: #D2E3FC;\n",
              "      --hover-bg-color: #434B5C;\n",
              "      --hover-fill-color: #FFFFFF;\n",
              "      --disabled-bg-color: #3B4455;\n",
              "      --disabled-fill-color: #666;\n",
              "  }\n",
              "\n",
              "  .colab-df-quickchart {\n",
              "    background-color: var(--bg-color);\n",
              "    border: none;\n",
              "    border-radius: 50%;\n",
              "    cursor: pointer;\n",
              "    display: none;\n",
              "    fill: var(--fill-color);\n",
              "    height: 32px;\n",
              "    padding: 0;\n",
              "    width: 32px;\n",
              "  }\n",
              "\n",
              "  .colab-df-quickchart:hover {\n",
              "    background-color: var(--hover-bg-color);\n",
              "    box-shadow: 0 1px 2px rgba(60, 64, 67, 0.3), 0 1px 3px 1px rgba(60, 64, 67, 0.15);\n",
              "    fill: var(--button-hover-fill-color);\n",
              "  }\n",
              "\n",
              "  .colab-df-quickchart-complete:disabled,\n",
              "  .colab-df-quickchart-complete:disabled:hover {\n",
              "    background-color: var(--disabled-bg-color);\n",
              "    fill: var(--disabled-fill-color);\n",
              "    box-shadow: none;\n",
              "  }\n",
              "\n",
              "  .colab-df-spinner {\n",
              "    border: 2px solid var(--fill-color);\n",
              "    border-color: transparent;\n",
              "    border-bottom-color: var(--fill-color);\n",
              "    animation:\n",
              "      spin 1s steps(1) infinite;\n",
              "  }\n",
              "\n",
              "  @keyframes spin {\n",
              "    0% {\n",
              "      border-color: transparent;\n",
              "      border-bottom-color: var(--fill-color);\n",
              "      border-left-color: var(--fill-color);\n",
              "    }\n",
              "    20% {\n",
              "      border-color: transparent;\n",
              "      border-left-color: var(--fill-color);\n",
              "      border-top-color: var(--fill-color);\n",
              "    }\n",
              "    30% {\n",
              "      border-color: transparent;\n",
              "      border-left-color: var(--fill-color);\n",
              "      border-top-color: var(--fill-color);\n",
              "      border-right-color: var(--fill-color);\n",
              "    }\n",
              "    40% {\n",
              "      border-color: transparent;\n",
              "      border-right-color: var(--fill-color);\n",
              "      border-top-color: var(--fill-color);\n",
              "    }\n",
              "    60% {\n",
              "      border-color: transparent;\n",
              "      border-right-color: var(--fill-color);\n",
              "    }\n",
              "    80% {\n",
              "      border-color: transparent;\n",
              "      border-right-color: var(--fill-color);\n",
              "      border-bottom-color: var(--fill-color);\n",
              "    }\n",
              "    90% {\n",
              "      border-color: transparent;\n",
              "      border-bottom-color: var(--fill-color);\n",
              "    }\n",
              "  }\n",
              "</style>\n",
              "\n",
              "      <script>\n",
              "        async function quickchart(key) {\n",
              "          const quickchartButtonEl =\n",
              "            document.querySelector('#' + key + ' button');\n",
              "          quickchartButtonEl.disabled = true;  // To prevent multiple clicks.\n",
              "          quickchartButtonEl.classList.add('colab-df-spinner');\n",
              "          try {\n",
              "            const charts = await google.colab.kernel.invokeFunction(\n",
              "                'suggestCharts', [key], {});\n",
              "          } catch (error) {\n",
              "            console.error('Error during call to suggestCharts:', error);\n",
              "          }\n",
              "          quickchartButtonEl.classList.remove('colab-df-spinner');\n",
              "          quickchartButtonEl.classList.add('colab-df-quickchart-complete');\n",
              "        }\n",
              "        (() => {\n",
              "          let quickchartButtonEl =\n",
              "            document.querySelector('#df-0c85fa81-7728-401e-b865-d74d5d0a9bcc button');\n",
              "          quickchartButtonEl.style.display =\n",
              "            google.colab.kernel.accessAllowed ? 'block' : 'none';\n",
              "        })();\n",
              "      </script>\n",
              "    </div>\n",
              "\n",
              "    </div>\n",
              "  </div>\n"
            ],
            "application/vnd.google.colaboratory.intrinsic+json": {
              "type": "dataframe"
            }
          },
          "metadata": {},
          "execution_count": 103
        }
      ]
    },
    {
      "cell_type": "markdown",
      "source": [
        "Se puede observar que en varias columnas, el valor mínimo es 0 y el valor máximo 1, indicando que probablemente se realizó previamente un escalamiento min-max en el intervalo [0,1]. De igual forma, al final hay columnas en donde la mayoría de los datos son 0, indicando asimetría positiva por los pocos outliers que no sean dicho valor. Entre más al centro estén las columnas, tienen valores más distribuidos con media alejada de 0 y desviación estándar mayor, pues se va llegando a la zona pico del ECG, en donde se da la mayor actividad ventricular."
      ],
      "metadata": {
        "id": "9WZF4mfKbeMR"
      }
    },
    {
      "cell_type": "code",
      "source": [
        "X_test.describe() # Estadística descriptiva."
      ],
      "metadata": {
        "colab": {
          "base_uri": "https://localhost:8080/",
          "height": 350
        },
        "id": "qmG9c3TCx61x",
        "outputId": "f34b12ff-9d49-4787-a877-d49f3a8af2b7"
      },
      "execution_count": null,
      "outputs": [
        {
          "output_type": "execute_result",
          "data": {
            "text/plain": [
              "               0            1            2            3            4    \\\n",
              "count  2909.000000  2909.000000  2909.000000  2909.000000  2909.000000   \n",
              "mean      0.975919     0.718678     0.399612     0.240181     0.204387   \n",
              "std       0.035452     0.194987     0.250301     0.250644     0.215643   \n",
              "min       0.682243     0.000000     0.000000     0.000000     0.000000   \n",
              "25%       0.957891     0.580383     0.207062     0.049107     0.065012   \n",
              "50%       0.998996     0.733504     0.366370     0.164502     0.133911   \n",
              "75%       1.000000     0.877447     0.551869     0.330697     0.252174   \n",
              "max       1.000000     1.000000     1.000000     1.000000     1.000000   \n",
              "\n",
              "               5            6            7            8            9    ...  \\\n",
              "count  2909.000000  2909.000000  2909.000000  2909.000000  2909.000000  ...   \n",
              "mean      0.212292     0.216585     0.220725     0.225070     0.227138  ...   \n",
              "std       0.188803     0.177157     0.175559     0.175124     0.175058  ...   \n",
              "min       0.000000     0.000000     0.000000     0.000000     0.000000  ...   \n",
              "25%       0.089502     0.095741     0.095907     0.096193     0.096250  ...   \n",
              "50%       0.157974     0.163527     0.166667     0.174947     0.177050  ...   \n",
              "75%       0.257994     0.279389     0.295232     0.309141     0.321637  ...   \n",
              "max       1.000000     0.957099     0.959438     0.918877     0.921280  ...   \n",
              "\n",
              "               177          178          179          180          181  \\\n",
              "count  2909.000000  2909.000000  2909.000000  2909.000000  2909.000000   \n",
              "mean      0.001102     0.001097     0.001125     0.001124     0.000838   \n",
              "std       0.017105     0.017071     0.017088     0.017547     0.013365   \n",
              "min       0.000000     0.000000     0.000000     0.000000     0.000000   \n",
              "25%       0.000000     0.000000     0.000000     0.000000     0.000000   \n",
              "50%       0.000000     0.000000     0.000000     0.000000     0.000000   \n",
              "75%       0.000000     0.000000     0.000000     0.000000     0.000000   \n",
              "max       0.619523     0.611758     0.591237     0.602329     0.419150   \n",
              "\n",
              "               182          183          184          185     186  \n",
              "count  2909.000000  2909.000000  2909.000000  2909.000000  2909.0  \n",
              "mean      0.000794     0.000539     0.000356     0.000372     0.0  \n",
              "std       0.013755     0.010971     0.009614     0.009968     0.0  \n",
              "min       0.000000     0.000000     0.000000     0.000000     0.0  \n",
              "25%       0.000000     0.000000     0.000000     0.000000     0.0  \n",
              "50%       0.000000     0.000000     0.000000     0.000000     0.0  \n",
              "75%       0.000000     0.000000     0.000000     0.000000     0.0  \n",
              "max       0.444180     0.355575     0.371502     0.376668     0.0  \n",
              "\n",
              "[8 rows x 187 columns]"
            ],
            "text/html": [
              "\n",
              "  <div id=\"df-eead37ab-fe5e-42f2-920a-b96c3d06e041\" class=\"colab-df-container\">\n",
              "    <div>\n",
              "<style scoped>\n",
              "    .dataframe tbody tr th:only-of-type {\n",
              "        vertical-align: middle;\n",
              "    }\n",
              "\n",
              "    .dataframe tbody tr th {\n",
              "        vertical-align: top;\n",
              "    }\n",
              "\n",
              "    .dataframe thead th {\n",
              "        text-align: right;\n",
              "    }\n",
              "</style>\n",
              "<table border=\"1\" class=\"dataframe\">\n",
              "  <thead>\n",
              "    <tr style=\"text-align: right;\">\n",
              "      <th></th>\n",
              "      <th>0</th>\n",
              "      <th>1</th>\n",
              "      <th>2</th>\n",
              "      <th>3</th>\n",
              "      <th>4</th>\n",
              "      <th>5</th>\n",
              "      <th>6</th>\n",
              "      <th>7</th>\n",
              "      <th>8</th>\n",
              "      <th>9</th>\n",
              "      <th>...</th>\n",
              "      <th>177</th>\n",
              "      <th>178</th>\n",
              "      <th>179</th>\n",
              "      <th>180</th>\n",
              "      <th>181</th>\n",
              "      <th>182</th>\n",
              "      <th>183</th>\n",
              "      <th>184</th>\n",
              "      <th>185</th>\n",
              "      <th>186</th>\n",
              "    </tr>\n",
              "  </thead>\n",
              "  <tbody>\n",
              "    <tr>\n",
              "      <th>count</th>\n",
              "      <td>2909.000000</td>\n",
              "      <td>2909.000000</td>\n",
              "      <td>2909.000000</td>\n",
              "      <td>2909.000000</td>\n",
              "      <td>2909.000000</td>\n",
              "      <td>2909.000000</td>\n",
              "      <td>2909.000000</td>\n",
              "      <td>2909.000000</td>\n",
              "      <td>2909.000000</td>\n",
              "      <td>2909.000000</td>\n",
              "      <td>...</td>\n",
              "      <td>2909.000000</td>\n",
              "      <td>2909.000000</td>\n",
              "      <td>2909.000000</td>\n",
              "      <td>2909.000000</td>\n",
              "      <td>2909.000000</td>\n",
              "      <td>2909.000000</td>\n",
              "      <td>2909.000000</td>\n",
              "      <td>2909.000000</td>\n",
              "      <td>2909.000000</td>\n",
              "      <td>2909.0</td>\n",
              "    </tr>\n",
              "    <tr>\n",
              "      <th>mean</th>\n",
              "      <td>0.975919</td>\n",
              "      <td>0.718678</td>\n",
              "      <td>0.399612</td>\n",
              "      <td>0.240181</td>\n",
              "      <td>0.204387</td>\n",
              "      <td>0.212292</td>\n",
              "      <td>0.216585</td>\n",
              "      <td>0.220725</td>\n",
              "      <td>0.225070</td>\n",
              "      <td>0.227138</td>\n",
              "      <td>...</td>\n",
              "      <td>0.001102</td>\n",
              "      <td>0.001097</td>\n",
              "      <td>0.001125</td>\n",
              "      <td>0.001124</td>\n",
              "      <td>0.000838</td>\n",
              "      <td>0.000794</td>\n",
              "      <td>0.000539</td>\n",
              "      <td>0.000356</td>\n",
              "      <td>0.000372</td>\n",
              "      <td>0.0</td>\n",
              "    </tr>\n",
              "    <tr>\n",
              "      <th>std</th>\n",
              "      <td>0.035452</td>\n",
              "      <td>0.194987</td>\n",
              "      <td>0.250301</td>\n",
              "      <td>0.250644</td>\n",
              "      <td>0.215643</td>\n",
              "      <td>0.188803</td>\n",
              "      <td>0.177157</td>\n",
              "      <td>0.175559</td>\n",
              "      <td>0.175124</td>\n",
              "      <td>0.175058</td>\n",
              "      <td>...</td>\n",
              "      <td>0.017105</td>\n",
              "      <td>0.017071</td>\n",
              "      <td>0.017088</td>\n",
              "      <td>0.017547</td>\n",
              "      <td>0.013365</td>\n",
              "      <td>0.013755</td>\n",
              "      <td>0.010971</td>\n",
              "      <td>0.009614</td>\n",
              "      <td>0.009968</td>\n",
              "      <td>0.0</td>\n",
              "    </tr>\n",
              "    <tr>\n",
              "      <th>min</th>\n",
              "      <td>0.682243</td>\n",
              "      <td>0.000000</td>\n",
              "      <td>0.000000</td>\n",
              "      <td>0.000000</td>\n",
              "      <td>0.000000</td>\n",
              "      <td>0.000000</td>\n",
              "      <td>0.000000</td>\n",
              "      <td>0.000000</td>\n",
              "      <td>0.000000</td>\n",
              "      <td>0.000000</td>\n",
              "      <td>...</td>\n",
              "      <td>0.000000</td>\n",
              "      <td>0.000000</td>\n",
              "      <td>0.000000</td>\n",
              "      <td>0.000000</td>\n",
              "      <td>0.000000</td>\n",
              "      <td>0.000000</td>\n",
              "      <td>0.000000</td>\n",
              "      <td>0.000000</td>\n",
              "      <td>0.000000</td>\n",
              "      <td>0.0</td>\n",
              "    </tr>\n",
              "    <tr>\n",
              "      <th>25%</th>\n",
              "      <td>0.957891</td>\n",
              "      <td>0.580383</td>\n",
              "      <td>0.207062</td>\n",
              "      <td>0.049107</td>\n",
              "      <td>0.065012</td>\n",
              "      <td>0.089502</td>\n",
              "      <td>0.095741</td>\n",
              "      <td>0.095907</td>\n",
              "      <td>0.096193</td>\n",
              "      <td>0.096250</td>\n",
              "      <td>...</td>\n",
              "      <td>0.000000</td>\n",
              "      <td>0.000000</td>\n",
              "      <td>0.000000</td>\n",
              "      <td>0.000000</td>\n",
              "      <td>0.000000</td>\n",
              "      <td>0.000000</td>\n",
              "      <td>0.000000</td>\n",
              "      <td>0.000000</td>\n",
              "      <td>0.000000</td>\n",
              "      <td>0.0</td>\n",
              "    </tr>\n",
              "    <tr>\n",
              "      <th>50%</th>\n",
              "      <td>0.998996</td>\n",
              "      <td>0.733504</td>\n",
              "      <td>0.366370</td>\n",
              "      <td>0.164502</td>\n",
              "      <td>0.133911</td>\n",
              "      <td>0.157974</td>\n",
              "      <td>0.163527</td>\n",
              "      <td>0.166667</td>\n",
              "      <td>0.174947</td>\n",
              "      <td>0.177050</td>\n",
              "      <td>...</td>\n",
              "      <td>0.000000</td>\n",
              "      <td>0.000000</td>\n",
              "      <td>0.000000</td>\n",
              "      <td>0.000000</td>\n",
              "      <td>0.000000</td>\n",
              "      <td>0.000000</td>\n",
              "      <td>0.000000</td>\n",
              "      <td>0.000000</td>\n",
              "      <td>0.000000</td>\n",
              "      <td>0.0</td>\n",
              "    </tr>\n",
              "    <tr>\n",
              "      <th>75%</th>\n",
              "      <td>1.000000</td>\n",
              "      <td>0.877447</td>\n",
              "      <td>0.551869</td>\n",
              "      <td>0.330697</td>\n",
              "      <td>0.252174</td>\n",
              "      <td>0.257994</td>\n",
              "      <td>0.279389</td>\n",
              "      <td>0.295232</td>\n",
              "      <td>0.309141</td>\n",
              "      <td>0.321637</td>\n",
              "      <td>...</td>\n",
              "      <td>0.000000</td>\n",
              "      <td>0.000000</td>\n",
              "      <td>0.000000</td>\n",
              "      <td>0.000000</td>\n",
              "      <td>0.000000</td>\n",
              "      <td>0.000000</td>\n",
              "      <td>0.000000</td>\n",
              "      <td>0.000000</td>\n",
              "      <td>0.000000</td>\n",
              "      <td>0.0</td>\n",
              "    </tr>\n",
              "    <tr>\n",
              "      <th>max</th>\n",
              "      <td>1.000000</td>\n",
              "      <td>1.000000</td>\n",
              "      <td>1.000000</td>\n",
              "      <td>1.000000</td>\n",
              "      <td>1.000000</td>\n",
              "      <td>1.000000</td>\n",
              "      <td>0.957099</td>\n",
              "      <td>0.959438</td>\n",
              "      <td>0.918877</td>\n",
              "      <td>0.921280</td>\n",
              "      <td>...</td>\n",
              "      <td>0.619523</td>\n",
              "      <td>0.611758</td>\n",
              "      <td>0.591237</td>\n",
              "      <td>0.602329</td>\n",
              "      <td>0.419150</td>\n",
              "      <td>0.444180</td>\n",
              "      <td>0.355575</td>\n",
              "      <td>0.371502</td>\n",
              "      <td>0.376668</td>\n",
              "      <td>0.0</td>\n",
              "    </tr>\n",
              "  </tbody>\n",
              "</table>\n",
              "<p>8 rows × 187 columns</p>\n",
              "</div>\n",
              "    <div class=\"colab-df-buttons\">\n",
              "\n",
              "  <div class=\"colab-df-container\">\n",
              "    <button class=\"colab-df-convert\" onclick=\"convertToInteractive('df-eead37ab-fe5e-42f2-920a-b96c3d06e041')\"\n",
              "            title=\"Convert this dataframe to an interactive table.\"\n",
              "            style=\"display:none;\">\n",
              "\n",
              "  <svg xmlns=\"http://www.w3.org/2000/svg\" height=\"24px\" viewBox=\"0 -960 960 960\">\n",
              "    <path d=\"M120-120v-720h720v720H120Zm60-500h600v-160H180v160Zm220 220h160v-160H400v160Zm0 220h160v-160H400v160ZM180-400h160v-160H180v160Zm440 0h160v-160H620v160ZM180-180h160v-160H180v160Zm440 0h160v-160H620v160Z\"/>\n",
              "  </svg>\n",
              "    </button>\n",
              "\n",
              "  <style>\n",
              "    .colab-df-container {\n",
              "      display:flex;\n",
              "      gap: 12px;\n",
              "    }\n",
              "\n",
              "    .colab-df-convert {\n",
              "      background-color: #E8F0FE;\n",
              "      border: none;\n",
              "      border-radius: 50%;\n",
              "      cursor: pointer;\n",
              "      display: none;\n",
              "      fill: #1967D2;\n",
              "      height: 32px;\n",
              "      padding: 0 0 0 0;\n",
              "      width: 32px;\n",
              "    }\n",
              "\n",
              "    .colab-df-convert:hover {\n",
              "      background-color: #E2EBFA;\n",
              "      box-shadow: 0px 1px 2px rgba(60, 64, 67, 0.3), 0px 1px 3px 1px rgba(60, 64, 67, 0.15);\n",
              "      fill: #174EA6;\n",
              "    }\n",
              "\n",
              "    .colab-df-buttons div {\n",
              "      margin-bottom: 4px;\n",
              "    }\n",
              "\n",
              "    [theme=dark] .colab-df-convert {\n",
              "      background-color: #3B4455;\n",
              "      fill: #D2E3FC;\n",
              "    }\n",
              "\n",
              "    [theme=dark] .colab-df-convert:hover {\n",
              "      background-color: #434B5C;\n",
              "      box-shadow: 0px 1px 3px 1px rgba(0, 0, 0, 0.15);\n",
              "      filter: drop-shadow(0px 1px 2px rgba(0, 0, 0, 0.3));\n",
              "      fill: #FFFFFF;\n",
              "    }\n",
              "  </style>\n",
              "\n",
              "    <script>\n",
              "      const buttonEl =\n",
              "        document.querySelector('#df-eead37ab-fe5e-42f2-920a-b96c3d06e041 button.colab-df-convert');\n",
              "      buttonEl.style.display =\n",
              "        google.colab.kernel.accessAllowed ? 'block' : 'none';\n",
              "\n",
              "      async function convertToInteractive(key) {\n",
              "        const element = document.querySelector('#df-eead37ab-fe5e-42f2-920a-b96c3d06e041');\n",
              "        const dataTable =\n",
              "          await google.colab.kernel.invokeFunction('convertToInteractive',\n",
              "                                                    [key], {});\n",
              "        if (!dataTable) return;\n",
              "\n",
              "        const docLinkHtml = 'Like what you see? Visit the ' +\n",
              "          '<a target=\"_blank\" href=https://colab.research.google.com/notebooks/data_table.ipynb>data table notebook</a>'\n",
              "          + ' to learn more about interactive tables.';\n",
              "        element.innerHTML = '';\n",
              "        dataTable['output_type'] = 'display_data';\n",
              "        await google.colab.output.renderOutput(dataTable, element);\n",
              "        const docLink = document.createElement('div');\n",
              "        docLink.innerHTML = docLinkHtml;\n",
              "        element.appendChild(docLink);\n",
              "      }\n",
              "    </script>\n",
              "  </div>\n",
              "\n",
              "\n",
              "    <div id=\"df-315e32eb-d5df-4ede-8e35-00ba6bab3d86\">\n",
              "      <button class=\"colab-df-quickchart\" onclick=\"quickchart('df-315e32eb-d5df-4ede-8e35-00ba6bab3d86')\"\n",
              "                title=\"Suggest charts\"\n",
              "                style=\"display:none;\">\n",
              "\n",
              "<svg xmlns=\"http://www.w3.org/2000/svg\" height=\"24px\"viewBox=\"0 0 24 24\"\n",
              "     width=\"24px\">\n",
              "    <g>\n",
              "        <path d=\"M19 3H5c-1.1 0-2 .9-2 2v14c0 1.1.9 2 2 2h14c1.1 0 2-.9 2-2V5c0-1.1-.9-2-2-2zM9 17H7v-7h2v7zm4 0h-2V7h2v10zm4 0h-2v-4h2v4z\"/>\n",
              "    </g>\n",
              "</svg>\n",
              "      </button>\n",
              "\n",
              "<style>\n",
              "  .colab-df-quickchart {\n",
              "      --bg-color: #E8F0FE;\n",
              "      --fill-color: #1967D2;\n",
              "      --hover-bg-color: #E2EBFA;\n",
              "      --hover-fill-color: #174EA6;\n",
              "      --disabled-fill-color: #AAA;\n",
              "      --disabled-bg-color: #DDD;\n",
              "  }\n",
              "\n",
              "  [theme=dark] .colab-df-quickchart {\n",
              "      --bg-color: #3B4455;\n",
              "      --fill-color: #D2E3FC;\n",
              "      --hover-bg-color: #434B5C;\n",
              "      --hover-fill-color: #FFFFFF;\n",
              "      --disabled-bg-color: #3B4455;\n",
              "      --disabled-fill-color: #666;\n",
              "  }\n",
              "\n",
              "  .colab-df-quickchart {\n",
              "    background-color: var(--bg-color);\n",
              "    border: none;\n",
              "    border-radius: 50%;\n",
              "    cursor: pointer;\n",
              "    display: none;\n",
              "    fill: var(--fill-color);\n",
              "    height: 32px;\n",
              "    padding: 0;\n",
              "    width: 32px;\n",
              "  }\n",
              "\n",
              "  .colab-df-quickchart:hover {\n",
              "    background-color: var(--hover-bg-color);\n",
              "    box-shadow: 0 1px 2px rgba(60, 64, 67, 0.3), 0 1px 3px 1px rgba(60, 64, 67, 0.15);\n",
              "    fill: var(--button-hover-fill-color);\n",
              "  }\n",
              "\n",
              "  .colab-df-quickchart-complete:disabled,\n",
              "  .colab-df-quickchart-complete:disabled:hover {\n",
              "    background-color: var(--disabled-bg-color);\n",
              "    fill: var(--disabled-fill-color);\n",
              "    box-shadow: none;\n",
              "  }\n",
              "\n",
              "  .colab-df-spinner {\n",
              "    border: 2px solid var(--fill-color);\n",
              "    border-color: transparent;\n",
              "    border-bottom-color: var(--fill-color);\n",
              "    animation:\n",
              "      spin 1s steps(1) infinite;\n",
              "  }\n",
              "\n",
              "  @keyframes spin {\n",
              "    0% {\n",
              "      border-color: transparent;\n",
              "      border-bottom-color: var(--fill-color);\n",
              "      border-left-color: var(--fill-color);\n",
              "    }\n",
              "    20% {\n",
              "      border-color: transparent;\n",
              "      border-left-color: var(--fill-color);\n",
              "      border-top-color: var(--fill-color);\n",
              "    }\n",
              "    30% {\n",
              "      border-color: transparent;\n",
              "      border-left-color: var(--fill-color);\n",
              "      border-top-color: var(--fill-color);\n",
              "      border-right-color: var(--fill-color);\n",
              "    }\n",
              "    40% {\n",
              "      border-color: transparent;\n",
              "      border-right-color: var(--fill-color);\n",
              "      border-top-color: var(--fill-color);\n",
              "    }\n",
              "    60% {\n",
              "      border-color: transparent;\n",
              "      border-right-color: var(--fill-color);\n",
              "    }\n",
              "    80% {\n",
              "      border-color: transparent;\n",
              "      border-right-color: var(--fill-color);\n",
              "      border-bottom-color: var(--fill-color);\n",
              "    }\n",
              "    90% {\n",
              "      border-color: transparent;\n",
              "      border-bottom-color: var(--fill-color);\n",
              "    }\n",
              "  }\n",
              "</style>\n",
              "\n",
              "      <script>\n",
              "        async function quickchart(key) {\n",
              "          const quickchartButtonEl =\n",
              "            document.querySelector('#' + key + ' button');\n",
              "          quickchartButtonEl.disabled = true;  // To prevent multiple clicks.\n",
              "          quickchartButtonEl.classList.add('colab-df-spinner');\n",
              "          try {\n",
              "            const charts = await google.colab.kernel.invokeFunction(\n",
              "                'suggestCharts', [key], {});\n",
              "          } catch (error) {\n",
              "            console.error('Error during call to suggestCharts:', error);\n",
              "          }\n",
              "          quickchartButtonEl.classList.remove('colab-df-spinner');\n",
              "          quickchartButtonEl.classList.add('colab-df-quickchart-complete');\n",
              "        }\n",
              "        (() => {\n",
              "          let quickchartButtonEl =\n",
              "            document.querySelector('#df-315e32eb-d5df-4ede-8e35-00ba6bab3d86 button');\n",
              "          quickchartButtonEl.style.display =\n",
              "            google.colab.kernel.accessAllowed ? 'block' : 'none';\n",
              "        })();\n",
              "      </script>\n",
              "    </div>\n",
              "\n",
              "    </div>\n",
              "  </div>\n"
            ],
            "application/vnd.google.colaboratory.intrinsic+json": {
              "type": "dataframe"
            }
          },
          "metadata": {},
          "execution_count": 104
        }
      ]
    },
    {
      "cell_type": "markdown",
      "source": [
        "La distribución de valores del conjunto de prueba es coherente con la del conjunto de entrenamiento, pues se pueden enunciar las mismas observaciones."
      ],
      "metadata": {
        "id": "jhvD5bgtyrqN"
      }
    },
    {
      "cell_type": "code",
      "source": [
        "y_train.describe() # Estadística descriptiva."
      ],
      "metadata": {
        "colab": {
          "base_uri": "https://localhost:8080/",
          "height": 335
        },
        "id": "TSU8BF58x9-j",
        "outputId": "db75be71-8768-465f-a119-c288b6cac519"
      },
      "execution_count": null,
      "outputs": [
        {
          "output_type": "execute_result",
          "data": {
            "text/plain": [
              "count    11636.000000\n",
              "mean         0.721898\n",
              "std          0.448083\n",
              "min          0.000000\n",
              "25%          0.000000\n",
              "50%          1.000000\n",
              "75%          1.000000\n",
              "max          1.000000\n",
              "Name: 187, dtype: float64"
            ],
            "text/html": [
              "<div>\n",
              "<style scoped>\n",
              "    .dataframe tbody tr th:only-of-type {\n",
              "        vertical-align: middle;\n",
              "    }\n",
              "\n",
              "    .dataframe tbody tr th {\n",
              "        vertical-align: top;\n",
              "    }\n",
              "\n",
              "    .dataframe thead th {\n",
              "        text-align: right;\n",
              "    }\n",
              "</style>\n",
              "<table border=\"1\" class=\"dataframe\">\n",
              "  <thead>\n",
              "    <tr style=\"text-align: right;\">\n",
              "      <th></th>\n",
              "      <th>187</th>\n",
              "    </tr>\n",
              "  </thead>\n",
              "  <tbody>\n",
              "    <tr>\n",
              "      <th>count</th>\n",
              "      <td>11636.000000</td>\n",
              "    </tr>\n",
              "    <tr>\n",
              "      <th>mean</th>\n",
              "      <td>0.721898</td>\n",
              "    </tr>\n",
              "    <tr>\n",
              "      <th>std</th>\n",
              "      <td>0.448083</td>\n",
              "    </tr>\n",
              "    <tr>\n",
              "      <th>min</th>\n",
              "      <td>0.000000</td>\n",
              "    </tr>\n",
              "    <tr>\n",
              "      <th>25%</th>\n",
              "      <td>0.000000</td>\n",
              "    </tr>\n",
              "    <tr>\n",
              "      <th>50%</th>\n",
              "      <td>1.000000</td>\n",
              "    </tr>\n",
              "    <tr>\n",
              "      <th>75%</th>\n",
              "      <td>1.000000</td>\n",
              "    </tr>\n",
              "    <tr>\n",
              "      <th>max</th>\n",
              "      <td>1.000000</td>\n",
              "    </tr>\n",
              "  </tbody>\n",
              "</table>\n",
              "</div><br><label><b>dtype:</b> float64</label>"
            ]
          },
          "metadata": {},
          "execution_count": 105
        }
      ]
    },
    {
      "cell_type": "markdown",
      "source": [
        "En la variable objetivo, al tener un mínimo de 0 y un máximo de 1 sin valores medios, se trata de un problema de clasificación binaria, al tener una media de 0.72, aproximadamente el 72% de los latidos son anormales, indicando un ligero desbalance."
      ],
      "metadata": {
        "id": "nXt4luM2dtQe"
      }
    },
    {
      "cell_type": "code",
      "source": [
        "y_test.describe() # Estadística descriptiva."
      ],
      "metadata": {
        "colab": {
          "base_uri": "https://localhost:8080/",
          "height": 335
        },
        "id": "VUnJZmSRyCb_",
        "outputId": "66044d31-d1c4-4648-ebde-d2ee2ede4d9c"
      },
      "execution_count": null,
      "outputs": [
        {
          "output_type": "execute_result",
          "data": {
            "text/plain": [
              "count    2909.000000\n",
              "mean        0.721898\n",
              "std         0.448141\n",
              "min         0.000000\n",
              "25%         0.000000\n",
              "50%         1.000000\n",
              "75%         1.000000\n",
              "max         1.000000\n",
              "Name: 187, dtype: float64"
            ],
            "text/html": [
              "<div>\n",
              "<style scoped>\n",
              "    .dataframe tbody tr th:only-of-type {\n",
              "        vertical-align: middle;\n",
              "    }\n",
              "\n",
              "    .dataframe tbody tr th {\n",
              "        vertical-align: top;\n",
              "    }\n",
              "\n",
              "    .dataframe thead th {\n",
              "        text-align: right;\n",
              "    }\n",
              "</style>\n",
              "<table border=\"1\" class=\"dataframe\">\n",
              "  <thead>\n",
              "    <tr style=\"text-align: right;\">\n",
              "      <th></th>\n",
              "      <th>187</th>\n",
              "    </tr>\n",
              "  </thead>\n",
              "  <tbody>\n",
              "    <tr>\n",
              "      <th>count</th>\n",
              "      <td>2909.000000</td>\n",
              "    </tr>\n",
              "    <tr>\n",
              "      <th>mean</th>\n",
              "      <td>0.721898</td>\n",
              "    </tr>\n",
              "    <tr>\n",
              "      <th>std</th>\n",
              "      <td>0.448141</td>\n",
              "    </tr>\n",
              "    <tr>\n",
              "      <th>min</th>\n",
              "      <td>0.000000</td>\n",
              "    </tr>\n",
              "    <tr>\n",
              "      <th>25%</th>\n",
              "      <td>0.000000</td>\n",
              "    </tr>\n",
              "    <tr>\n",
              "      <th>50%</th>\n",
              "      <td>1.000000</td>\n",
              "    </tr>\n",
              "    <tr>\n",
              "      <th>75%</th>\n",
              "      <td>1.000000</td>\n",
              "    </tr>\n",
              "    <tr>\n",
              "      <th>max</th>\n",
              "      <td>1.000000</td>\n",
              "    </tr>\n",
              "  </tbody>\n",
              "</table>\n",
              "</div><br><label><b>dtype:</b> float64</label>"
            ]
          },
          "metadata": {},
          "execution_count": 106
        }
      ]
    },
    {
      "cell_type": "markdown",
      "source": [
        "En el conjunto de prueba, al tener el mismo porcentaje de latidos anormales que en el conjunto de entrenamiento, se confirma que la estratificación funcionó de manera correcta."
      ],
      "metadata": {
        "id": "n7K-4ENpeZsv"
      }
    },
    {
      "cell_type": "code",
      "source": [
        "# Balancear los datos del conjunto de entrenamiento usando SMOTE y ENN:\n",
        "smote_enn = SMOTEENN(random_state=69) # Crear instancia del método, con semilla\n",
        "  # fija.\n",
        "\n",
        "# Aplicar método al conjunto de entrenamiento:\n",
        "X_train_bal, y_train_bal = smote_enn.fit_resample(X_train, y_train)\n",
        "\n",
        "# Verificar el nuevo conteo de clases:\n",
        "print(\"Distribución original:\", Counter(y_train))\n",
        "print(\"Distribución balanceada:\", Counter(y_train_bal))"
      ],
      "metadata": {
        "colab": {
          "base_uri": "https://localhost:8080/"
        },
        "id": "5-oqtSPue0qr",
        "outputId": "dbb1918c-9171-486e-bd12-2b062998211a"
      },
      "execution_count": null,
      "outputs": [
        {
          "output_type": "stream",
          "name": "stdout",
          "text": [
            "Distribución original: Counter({1: 8400, 0: 3236})\n",
            "Distribución balanceada: Counter({0: 8169, 1: 7217})\n"
          ]
        }
      ]
    },
    {
      "cell_type": "markdown",
      "source": [
        "Se balancearon las clases del conjunto de entrenamiento con SMOTEENN, que combina SMOTE (sobremuestreo), generando ejemplos sintéticos de la clase minoritaria y ENN (submuestreo), eliminando las instancias ruidosas. Así para mejorar la diversidad geométrica y topológica de cada clase, permitiendo que el TDA capture estructuras más representativas de ambas clases, haciendo que el clasificador no tenga sesgo. Ahora se tienen 8169 latidos anormales y 7217 normales, siendo una distribución más cercana al 50/50."
      ],
      "metadata": {
        "id": "1k3GziqPgeJz"
      }
    },
    {
      "cell_type": "code",
      "source": [
        "# Convertir DataFrames en arreglos numéricos de Numpy para los métodos de\n",
        "  # aprendizaje automático:\n",
        "X_train_ = X_train_bal.values # Predictoras de entrenamiento.\n",
        "y_train_ = y_train_bal.values # Objetivo de entrenamiento.\n",
        "X_test_ = X_test.values # Predictoras de prueba.\n",
        "y_test_ = y_test.values # Objetivo de prueba."
      ],
      "metadata": {
        "id": "EPky48S0z7mu"
      },
      "execution_count": null,
      "outputs": []
    },
    {
      "cell_type": "markdown",
      "source": [
        "En este caso no fue necesario recurrir a técnicas multivariadas, como pruebas de normalidad multivariante, análisis factorial de variables latentes o correlación múltiple, pues el objetivo solo es obtener señales limpias y homogéneas para utilizar TDA."
      ],
      "metadata": {
        "id": "LqnA1O1X8VE9"
      }
    },
    {
      "cell_type": "markdown",
      "source": [
        "### TDA y construcciones"
      ],
      "metadata": {
        "id": "55eP5hT6zwPI"
      }
    },
    {
      "cell_type": "markdown",
      "source": [
        "Primero se aplicará un Sliding Window Embedding para mapear la serie de tiempo a R^n, buscando que n sea mayor que 1. El vector unidimensional de N elementos, se transforma en un vector de forma: ( N-(dim-1)\\*tau ) x dim, donde cada fila i es el vector x(i), x(i+tau), x(i+2\\*tau), ..., x(i+(dim-1)\\*tau))."
      ],
      "metadata": {
        "id": "WbFz8Qox7e-m"
      }
    },
    {
      "cell_type": "code",
      "source": [
        "# Obtener el valor de retardo τ óptimo mediante una serie signal y un tope\n",
        "  # máximo del valor max_lag:\n",
        "def opt_tau_ami(signal, max_lag=40):\n",
        "\n",
        "    # Para cada retardo posible k, calcular la información mutua entre la serie\n",
        "      # truncada y su versión desplazada, dando la curva AMI:\n",
        "    ami = [mutual_info(signal[:-k], signal[k:]) for k in range(1, max_lag)]\n",
        "\n",
        "    # Devolver el retardo, siendo el primer mínimo de la AMI:\n",
        "    return int(np.argmin(ami) + 1)\n",
        "\n",
        "# Obtener el valor de la dimensión óptima mediante una serie signal, el valor de\n",
        "  # retardo tau, un tope máximo del valor max_dim, y un umbral th:\n",
        "def opt_dim_svd(signal, tau, max_dim=8, th=0.05):\n",
        "\n",
        "    # Recorrer las dimensiones posibles:\n",
        "    for m in range(2, max_dim+1):\n",
        "\n",
        "        # Construir la matriz de Takens, donde cada columna es la señal retrasada:\n",
        "        emb = np.column_stack([signal[i:len(signal)-(m-1-i)*tau:tau] for i in range(m)])\n",
        "\n",
        "        # Devolver los valores singulares:\n",
        "        s = svd(emb, compute_uv=False)\n",
        "\n",
        "        # Si se genera una división por 0, se retorna 2:\n",
        "        if s[0] == 0: return 2\n",
        "\n",
        "        # Si el último singular entre el primero es menor al umbral, se asume\n",
        "          # que las dimensiones adicionales solo añaden ruido, se retorna m:\n",
        "        if s[m-1] / s[0] < th: return m\n",
        "    return max_dim # Si no se satisface la condición, se devuelva la máxima.\n"
      ],
      "metadata": {
        "id": "iBIHnj3osKPH"
      },
      "execution_count": null,
      "outputs": []
    },
    {
      "cell_type": "markdown",
      "source": [
        "Se obtiene el valor óptimo de tau al usar AMI, es decir, la información mutua (dependencia) promedio entre la señal x(t) y esa misma señal retardada x(t+tau), se obtiene aquella tau que maximice la independencia, seleccionando su primer mínimo.\n",
        "\n",
        "Se obtiene el valor óptimo de dim al usar SVD, es decir, obtener el vector de los valores singulares de la matriz obtenida por sliding window embedding, de modo que al obtener su magnitud se obtiene la información explicada por cada componente, para elegir así la dimensión dim que retiene mayor parte de la información."
      ],
      "metadata": {
        "id": "q5I9oQuPDYk-"
      }
    },
    {
      "cell_type": "code",
      "source": [
        "latido_calib = X_train_[0] # Seleccionar el primer latido para encontrar los\n",
        "  # parámetros óptimos."
      ],
      "metadata": {
        "id": "SdvVMzb2sNwI"
      },
      "execution_count": null,
      "outputs": []
    },
    {
      "cell_type": "code",
      "source": [
        "tau_opt = opt_tau_ami(latido_calib, max_lag=40) # Retardo óptimo.\n",
        "dim_opt = opt_dim_svd(latido_calib, tau=tau_opt, max_dim=8) # Dimensión óptima.\n",
        "print(\"τ opt=\", tau_opt, \", dim opt=\", dim_opt)"
      ],
      "metadata": {
        "colab": {
          "base_uri": "https://localhost:8080/"
        },
        "id": "FM_0nPvCsPpg",
        "outputId": "fedd55ae-de3b-4162-8e85-2e896d68dc1c"
      },
      "execution_count": null,
      "outputs": [
        {
          "output_type": "stream",
          "name": "stdout",
          "text": [
            "τ opt= 1 , dim opt= 4\n"
          ]
        }
      ]
    },
    {
      "cell_type": "markdown",
      "source": [
        "En este caso, se obtuvo un retardo tau de 1 y una dimensión dim de 4."
      ],
      "metadata": {
        "id": "l_-uhuAKEV6w"
      }
    },
    {
      "cell_type": "code",
      "source": [
        "# Aplicar Sliding Window Embedding en una señal (signal) 1D, para poder mapearla\n",
        "  # a una dimensión dim, de manera que conserve sus propiedades topológicas, con\n",
        "  # tau pasos entre coordenadas:\n",
        "def sliding_window_embedding(signal, dim, tau):\n",
        "\n",
        "    N = len(signal) # Número de puntos en la señal.\n",
        "\n",
        "    # Recorrer la señal, tomando una subsecuencia de longitud dim con separación\n",
        "      # tau entre elementos. Se tendrán N - (dim-1) * tau puntos para evitar\n",
        "      # desbordes en los índices:\n",
        "    return np.array([signal[i:i+dim*tau:tau] for i in range(N - (dim-1)*tau)])\n",
        "      # Se regresa así la nube de (N - (dim-1)*tau, dim) puntos en R^dim."
      ],
      "metadata": {
        "id": "tWG6LuqhzzZe"
      },
      "execution_count": null,
      "outputs": []
    },
    {
      "cell_type": "code",
      "source": [
        "# Trazar un arreglo 2D (embedding) con sus respectivas etiquetas (label), y un\n",
        "  # título predefinido:\n",
        "def plot_2d_embedding(embedding, label, title_prefix='Latido embebido'):\n",
        "    plt.figure(figsize=(6, 5)) # Figura nueva de cierto tamaño.\n",
        "\n",
        "    # Trazar la curva con puntos embebidos en R^2, con ancho lw y nivel de\n",
        "      # transparencia alpha:\n",
        "    plt.plot(embedding[:, 0], embedding[:, 1], lw=1.2, alpha=0.85)\n",
        "\n",
        "    # Título con la clase del latido:\n",
        "    plt.title(f'{title_prefix}: clase {label}')\n",
        "\n",
        "    plt.xlabel('X₁') # Eje x.\n",
        "    plt.ylabel('X₂') # Eje y.\n",
        "\n",
        "    # Activar cuadrícula, con estilo de línea ls y nivel de transparencia alpha:\n",
        "    plt.grid(True, ls='--', alpha=0.3)\n",
        "\n",
        "    plt.show() # Mostrar figura."
      ],
      "metadata": {
        "id": "VCimIXL60vzy"
      },
      "execution_count": null,
      "outputs": []
    },
    {
      "cell_type": "code",
      "source": [
        "# Aplicar Sliding Window Embedding al conjunto de entrenamiento:\n",
        "X_train_embedded = [sliding_window_embedding(latido,\n",
        "  dim=dim_opt, tau=tau_opt) for latido in X_train_]"
      ],
      "metadata": {
        "id": "Pg1y5Kpqz1r3"
      },
      "execution_count": null,
      "outputs": []
    },
    {
      "cell_type": "code",
      "source": [
        "# Si la dimensión óptima es 2:\n",
        "if dim_opt == 2:\n",
        "  # Graficar algunos ejemplos:\n",
        "  plot_count_0 = 0 # Contador para clase 0.\n",
        "  plot_count_1 = 0 # Contador para clase 1.\n",
        "\n",
        "  # Recorrer todos los latidos embebidos:\n",
        "  for i in range(len(X_train_embedded)):\n",
        "      label = y_train_[i] # Etiqueta del latido.\n",
        "\n",
        "      # Si es clase 0 y van menos de 5 graficados:\n",
        "      if label == 0 and plot_count_0 < 5:\n",
        "\n",
        "          # Graficar el embebido de clase 0:\n",
        "          plot_2d_embedding(X_train_embedded[i], label,\n",
        "                            title_prefix=\"Latido clase 0\")\n",
        "          plot_count_0 += 1 # Aumentar contador de clase 0.\n",
        "\n",
        "      # Si es clase 1 y van menos de 5 graficados:\n",
        "      elif label == 1 and plot_count_1 < 5:\n",
        "\n",
        "          # Graficar el embebido de clase 0:\n",
        "          plot_2d_embedding(X_train_embedded[i], label,\n",
        "                            title_prefix=\"Latido clase 1\")\n",
        "          plot_count_1 += 1 # Aumentar contador de clase 1.\n",
        "\n",
        "      # Si ya se graficaron 5 de cada clase:\n",
        "      if plot_count_0 == 5 and plot_count_1 == 5:\n",
        "\n",
        "          break # Salir del ciclo."
      ],
      "metadata": {
        "id": "mLeXrsJv0x2P"
      },
      "execution_count": null,
      "outputs": []
    },
    {
      "cell_type": "markdown",
      "source": [
        "Nota: Esto pasa cuando la dimensión óptima es 2:\n",
        "Se pueden observar diferencias cualitativas claras entre las trayectorias de los latidos normales (clase 0) y los anormales (clase 1). En los latidos de clase 0, las curvas son más regulares y cerradas, con trayectorias más \"predecibles\" que los latidos de clase 1, donde se observa mayor dispersión y trayectorias más caóticas, es probable que los latidos de clase 1 tengan más ciclos significativos, lo cual puede aprovecharse por el modelo."
      ],
      "metadata": {
        "id": "enHs0C2u42PR"
      }
    },
    {
      "cell_type": "markdown",
      "source": [
        "Se calculan después los diagramas de persistencia, donde se puede representar de manera gráfica los nacimientos y muertes de las características topológicas a lo largo del filtrado del espacio dado por el cambio de un radio épsilon. En este caso, se hace una filtración de Vietoris-Rips, uniendo con un símplice a cada subconjunto de puntos cuya distancia mutua sea menor a épsilon.\n"
      ],
      "metadata": {
        "id": "1GlqyIbCArg4"
      }
    },
    {
      "cell_type": "code",
      "source": [
        "# 1-agujeros como máximo. De mayor dimensión se vuelve muy lento el programa:\n",
        "md = 1"
      ],
      "metadata": {
        "id": "gV3vHsSaAfS7"
      },
      "execution_count": null,
      "outputs": []
    },
    {
      "cell_type": "markdown",
      "source": [
        "Probablemente si se consideraran 2-agujeros, se dieran mejores resultados."
      ],
      "metadata": {
        "id": "VPqT4KfFIU_M"
      }
    },
    {
      "cell_type": "code",
      "source": [
        "# Diagramas de persistencia:\n",
        "dgms = [] # Lista para guardar los diagramas.\n",
        "\n",
        "# Recorrer cada latido embebido, con una barra de progreso que indique cuántos\n",
        "  # se han recorrido:\n",
        "for latido in tqdm(X_train_embedded, desc=\"Calculando PH\"):\n",
        "\n",
        "    # Aplicar ripser a cada latido para calcular su homología persistente:\n",
        "    dgms.append(ripser(latido, maxdim=md)['dgms']) # Agujeros de hasta H_maxdim\n",
        "      # en la lista ['dgms'].\n"
      ],
      "metadata": {
        "id": "M-wXdpZD3gu8",
        "colab": {
          "base_uri": "https://localhost:8080/",
          "height": 49,
          "referenced_widgets": [
            "bbb70cf097854827b888278d677dbbf2",
            "4d304d1ccee44dbba9099c8132d55110",
            "c1139b89fcdb4f75907a8c33a82bbf5e",
            "3084eb83b4a5450ab7587900272ff7e2",
            "8137deadac784710b43450c6fd836770",
            "03496d2ab0a644e4b35a3718e98e7378",
            "46f56c1fe6df4cc5926c7189df4bbdff",
            "28d36d74da7e4ad895e6c320330624f1",
            "10ca6b18818a448fa22d8cea6a0ce508",
            "33701a8d82184404936919c7b72f5e37",
            "0b2e822be5e345f8ae6362033aad2f01"
          ]
        },
        "outputId": "40e95d51-5585-410a-98c6-aa4e2c09f07d"
      },
      "execution_count": null,
      "outputs": [
        {
          "output_type": "display_data",
          "data": {
            "text/plain": [
              "Calculando PH:   0%|          | 0/15386 [00:00<?, ?it/s]"
            ],
            "application/vnd.jupyter.widget-view+json": {
              "version_major": 2,
              "version_minor": 0,
              "model_id": "bbb70cf097854827b888278d677dbbf2"
            }
          },
          "metadata": {}
        }
      ]
    },
    {
      "cell_type": "markdown",
      "source": [
        "Ahora se calcularán los paisajes de persistencia. Se vectorizan los diagramas de persistencia, transformando cada punto (b,d) en una montaña triangular centrada en (b+d)/2 y de altura (d-b)/2. De esta forma se pueden utilizar posteriormente algoritmos de ML."
      ],
      "metadata": {
        "id": "XfcL_uSb-3s1"
      }
    },
    {
      "cell_type": "code",
      "source": [
        "nl = 7 # Capas superiores.\n",
        "res = 300 # Resolución."
      ],
      "metadata": {
        "id": "AoiBUtio-x-Q"
      },
      "execution_count": null,
      "outputs": []
    },
    {
      "cell_type": "code",
      "source": [
        "# Obtener paisajes de persistencia:\n",
        "dgms_H0 = [dgm[0] for dgm in dgms] # Extraer diagramas de H_0.\n",
        "dgms_H1 = [dgm[1] for dgm in dgms] # Extraer diagramas de H_1.\n",
        "\n",
        "# Instancia del transformador de landscapes:\n",
        "landscape_transform = Landscape(num_landscapes=nl, resolution=res)\n",
        "  # Usar las primeras num_landscape capas superiores, evaluando la función en\n",
        "    #resolution valores.\n",
        "\n",
        "# Calcular landscapes:\n",
        "X_topo_H0 = landscape_transform.fit_transform(dgms_H0) # H_0.\n",
        "X_topo_H1 = landscape_transform.fit_transform(dgms_H1) # H_1-\n",
        "\n",
        "# Unir ambos landscapes de regreso a un solo landscape de entrenamiento:\n",
        "X_topo = np.hstack((X_topo_H0, X_topo_H1))"
      ],
      "metadata": {
        "id": "c7vbQD-q3oLW",
        "colab": {
          "base_uri": "https://localhost:8080/"
        },
        "outputId": "de9bdcc4-d393-48c8-99e9-658ba388ecf4"
      },
      "execution_count": null,
      "outputs": [
        {
          "output_type": "stream",
          "name": "stdout",
          "text": [
            "Empty list or empty diagrams: sample range is [-inf, -inf]\n",
            "First value and second value in range are the same: grid is made of resolution copies of this value\n"
          ]
        },
        {
          "output_type": "stream",
          "name": "stderr",
          "text": [
            "/usr/local/lib/python3.11/dist-packages/gudhi/representations/vector_methods.py:208: RuntimeWarning: invalid value encountered in subtract\n",
            "  tent_functions = np.maximum(heights[None, :] - np.abs(x_values[:, None] - midpoints[None, :]), 0)\n"
          ]
        }
      ]
    },
    {
      "cell_type": "markdown",
      "source": [
        "Se hará lo mismo con el conjunto de pruebas:"
      ],
      "metadata": {
        "id": "IUIOicBW_A37"
      }
    },
    {
      "cell_type": "code",
      "source": [
        "# Embedding con sliding window para el conjunto de prueba:\n",
        "X_test_embedded = [sliding_window_embedding(latido, dim=dim_opt,\n",
        "                                            tau=tau_opt) for latido in X_test_]"
      ],
      "metadata": {
        "id": "LZlwsfMRzMAY"
      },
      "execution_count": null,
      "outputs": []
    },
    {
      "cell_type": "code",
      "source": [
        "# Diagramas de persistencia para el conjunto de prueba:\n",
        "dgms_test = [ripser(latido, maxdim=md)['dgms'] for latido in tqdm(X_test_embedded,\n",
        "  desc=\"Diagramas X_test\")]"
      ],
      "metadata": {
        "colab": {
          "base_uri": "https://localhost:8080/",
          "height": 49,
          "referenced_widgets": [
            "d5f94bf781a94c0eb3c30cba1ae7fb9c",
            "17afe5e76c824482a517efd3338e8c78",
            "ee25fe0c7f0c4d5b8e7fc51d355a1f8e",
            "44f8e7ea1f5c4f24877a43b65f8fc470",
            "fcb86d1c89ab48b69b09011417cca934",
            "d5a93b1509c24b198f6e5f617c1455f5",
            "3209508cdb0f4fde9f1e5e5043dff53f",
            "93cb05442fbe49538e4d4c537f01990d",
            "aa96560a096b4b9db72e8c483fc485c4",
            "b26893f90b364238b255c23f62dc5f08",
            "c80ca903ce3749feb56a3e06b5d3a768"
          ]
        },
        "id": "gd3Ez6a6zVwU",
        "outputId": "03fbf614-9739-4a1c-f1c8-a2331b4e4b48"
      },
      "execution_count": null,
      "outputs": [
        {
          "output_type": "display_data",
          "data": {
            "text/plain": [
              "Diagramas X_test:   0%|          | 0/2909 [00:00<?, ?it/s]"
            ],
            "application/vnd.jupyter.widget-view+json": {
              "version_major": 2,
              "version_minor": 0,
              "model_id": "d5f94bf781a94c0eb3c30cba1ae7fb9c"
            }
          },
          "metadata": {}
        }
      ]
    },
    {
      "cell_type": "code",
      "source": [
        "# Paisajes de persistencia para el conjunto de prueba:\n",
        "dgms_H0_test = [dgm[0] for dgm in dgms_test] # H_0.\n",
        "dgms_H1_test = [dgm[1] for dgm in dgms_test] # H_1.\n",
        "\n",
        "# Instancia del transformador de landscapes:\n",
        "landscape_transform = Landscape(num_landscapes=nl, resolution=res)\n",
        "  # Usar las primeras num_landscapes capas superiores, evaluando la función en\n",
        "  # resolution valores.\n",
        "\n",
        "X_test_H0 = landscape_transform.fit_transform(dgms_H0_test) # H_0.\n",
        "X_test_H1 = landscape_transform.fit_transform(dgms_H1_test) # H_1.\n",
        "\n",
        "# Unir ambos landscapes de regreso a un solo landscape de entrenamiento:\n",
        "X_topo_test = np.hstack((X_test_H0, X_test_H1))"
      ],
      "metadata": {
        "id": "JDOFkyG9zcLv",
        "colab": {
          "base_uri": "https://localhost:8080/"
        },
        "outputId": "24c28cf3-eaeb-4a0e-8594-734a7136bf1c"
      },
      "execution_count": null,
      "outputs": [
        {
          "output_type": "stream",
          "name": "stdout",
          "text": [
            "Empty list or empty diagrams: sample range is [-inf, -inf]\n",
            "First value and second value in range are the same: grid is made of resolution copies of this value\n"
          ]
        },
        {
          "output_type": "stream",
          "name": "stderr",
          "text": [
            "/usr/local/lib/python3.11/dist-packages/gudhi/representations/vector_methods.py:208: RuntimeWarning: invalid value encountered in subtract\n",
            "  tent_functions = np.maximum(heights[None, :] - np.abs(x_values[:, None] - midpoints[None, :]), 0)\n"
          ]
        }
      ]
    },
    {
      "cell_type": "markdown",
      "source": [
        "### Resultados"
      ],
      "metadata": {
        "id": "WovypSZwu9Tm"
      }
    },
    {
      "cell_type": "markdown",
      "source": [
        "Se realizará una grid search para encontrar los mejores hiperparámetros del bosque aleatorio, es decir, ensamble de múltiples árboles de decisión, cuya votación mayoritaria se toma como la clasificación."
      ],
      "metadata": {
        "id": "v1BibOBICdm_"
      }
    },
    {
      "cell_type": "code",
      "source": [
        "# Hiperparámetros a probar:\n",
        "param_grid = {\n",
        "    'n_estimators': [100, 150], # Número de árboles.\n",
        "    'max_depth': [10, 15], # Profundidad máxima.\n",
        "    'min_samples_split': [2, 5], # Mínimo de registros para dividir un nodo.\n",
        "    'max_features': ['sqrt', 0.33] # Variables consideradas para la división.\n",
        "}\n",
        "\n",
        "# Instanciar el modelo base:\n",
        "rf_base = RandomForestClassifier(\n",
        "    class_weight='balanced', # Pesos de clase balanceados.\n",
        "    random_state=69 # Semilla aleatoria fija.\n",
        ")\n",
        "\n",
        "# Búsqueda exhaustiva:\n",
        "grid_search = GridSearchCV(\n",
        "    estimator=rf_base, # Modelo base.\n",
        "    param_grid=param_grid, # Hiperparámetros a probar.\n",
        "    scoring='roc_auc', # Métrica a optimizar (AUC)\n",
        "    cv=3, # cv folds para la validación cruzada.\n",
        "    n_jobs=-1, # Usar todos los núcleos del CPU.\n",
        "    verbose=1 # Mostrar progreso.\n",
        ")"
      ],
      "metadata": {
        "id": "zKr1WnyAe6Ba"
      },
      "execution_count": null,
      "outputs": []
    },
    {
      "cell_type": "code",
      "source": [
        "# Ejecutar la búsqueda en los landscapes y etiquetas de entrenamiento:\n",
        "grid_search.fit(X_topo, y_train_)"
      ],
      "metadata": {
        "colab": {
          "base_uri": "https://localhost:8080/",
          "height": 184
        },
        "id": "blkGwFjTE8p-",
        "outputId": "b684e2cc-6305-4f88-bcab-51b2c11c55c2"
      },
      "execution_count": null,
      "outputs": [
        {
          "output_type": "stream",
          "name": "stdout",
          "text": [
            "Fitting 3 folds for each of 16 candidates, totalling 48 fits\n"
          ]
        },
        {
          "output_type": "execute_result",
          "data": {
            "text/plain": [
              "GridSearchCV(cv=3,\n",
              "             estimator=RandomForestClassifier(class_weight='balanced',\n",
              "                                              random_state=69),\n",
              "             n_jobs=-1,\n",
              "             param_grid={'max_depth': [10, 15], 'max_features': ['sqrt', 0.33],\n",
              "                         'min_samples_split': [2, 5],\n",
              "                         'n_estimators': [100, 150]},\n",
              "             scoring='roc_auc', verbose=1)"
            ],
            "text/html": [
              "<style>#sk-container-id-3 {\n",
              "  /* Definition of color scheme common for light and dark mode */\n",
              "  --sklearn-color-text: #000;\n",
              "  --sklearn-color-text-muted: #666;\n",
              "  --sklearn-color-line: gray;\n",
              "  /* Definition of color scheme for unfitted estimators */\n",
              "  --sklearn-color-unfitted-level-0: #fff5e6;\n",
              "  --sklearn-color-unfitted-level-1: #f6e4d2;\n",
              "  --sklearn-color-unfitted-level-2: #ffe0b3;\n",
              "  --sklearn-color-unfitted-level-3: chocolate;\n",
              "  /* Definition of color scheme for fitted estimators */\n",
              "  --sklearn-color-fitted-level-0: #f0f8ff;\n",
              "  --sklearn-color-fitted-level-1: #d4ebff;\n",
              "  --sklearn-color-fitted-level-2: #b3dbfd;\n",
              "  --sklearn-color-fitted-level-3: cornflowerblue;\n",
              "\n",
              "  /* Specific color for light theme */\n",
              "  --sklearn-color-text-on-default-background: var(--sg-text-color, var(--theme-code-foreground, var(--jp-content-font-color1, black)));\n",
              "  --sklearn-color-background: var(--sg-background-color, var(--theme-background, var(--jp-layout-color0, white)));\n",
              "  --sklearn-color-border-box: var(--sg-text-color, var(--theme-code-foreground, var(--jp-content-font-color1, black)));\n",
              "  --sklearn-color-icon: #696969;\n",
              "\n",
              "  @media (prefers-color-scheme: dark) {\n",
              "    /* Redefinition of color scheme for dark theme */\n",
              "    --sklearn-color-text-on-default-background: var(--sg-text-color, var(--theme-code-foreground, var(--jp-content-font-color1, white)));\n",
              "    --sklearn-color-background: var(--sg-background-color, var(--theme-background, var(--jp-layout-color0, #111)));\n",
              "    --sklearn-color-border-box: var(--sg-text-color, var(--theme-code-foreground, var(--jp-content-font-color1, white)));\n",
              "    --sklearn-color-icon: #878787;\n",
              "  }\n",
              "}\n",
              "\n",
              "#sk-container-id-3 {\n",
              "  color: var(--sklearn-color-text);\n",
              "}\n",
              "\n",
              "#sk-container-id-3 pre {\n",
              "  padding: 0;\n",
              "}\n",
              "\n",
              "#sk-container-id-3 input.sk-hidden--visually {\n",
              "  border: 0;\n",
              "  clip: rect(1px 1px 1px 1px);\n",
              "  clip: rect(1px, 1px, 1px, 1px);\n",
              "  height: 1px;\n",
              "  margin: -1px;\n",
              "  overflow: hidden;\n",
              "  padding: 0;\n",
              "  position: absolute;\n",
              "  width: 1px;\n",
              "}\n",
              "\n",
              "#sk-container-id-3 div.sk-dashed-wrapped {\n",
              "  border: 1px dashed var(--sklearn-color-line);\n",
              "  margin: 0 0.4em 0.5em 0.4em;\n",
              "  box-sizing: border-box;\n",
              "  padding-bottom: 0.4em;\n",
              "  background-color: var(--sklearn-color-background);\n",
              "}\n",
              "\n",
              "#sk-container-id-3 div.sk-container {\n",
              "  /* jupyter's `normalize.less` sets `[hidden] { display: none; }`\n",
              "     but bootstrap.min.css set `[hidden] { display: none !important; }`\n",
              "     so we also need the `!important` here to be able to override the\n",
              "     default hidden behavior on the sphinx rendered scikit-learn.org.\n",
              "     See: https://github.com/scikit-learn/scikit-learn/issues/21755 */\n",
              "  display: inline-block !important;\n",
              "  position: relative;\n",
              "}\n",
              "\n",
              "#sk-container-id-3 div.sk-text-repr-fallback {\n",
              "  display: none;\n",
              "}\n",
              "\n",
              "div.sk-parallel-item,\n",
              "div.sk-serial,\n",
              "div.sk-item {\n",
              "  /* draw centered vertical line to link estimators */\n",
              "  background-image: linear-gradient(var(--sklearn-color-text-on-default-background), var(--sklearn-color-text-on-default-background));\n",
              "  background-size: 2px 100%;\n",
              "  background-repeat: no-repeat;\n",
              "  background-position: center center;\n",
              "}\n",
              "\n",
              "/* Parallel-specific style estimator block */\n",
              "\n",
              "#sk-container-id-3 div.sk-parallel-item::after {\n",
              "  content: \"\";\n",
              "  width: 100%;\n",
              "  border-bottom: 2px solid var(--sklearn-color-text-on-default-background);\n",
              "  flex-grow: 1;\n",
              "}\n",
              "\n",
              "#sk-container-id-3 div.sk-parallel {\n",
              "  display: flex;\n",
              "  align-items: stretch;\n",
              "  justify-content: center;\n",
              "  background-color: var(--sklearn-color-background);\n",
              "  position: relative;\n",
              "}\n",
              "\n",
              "#sk-container-id-3 div.sk-parallel-item {\n",
              "  display: flex;\n",
              "  flex-direction: column;\n",
              "}\n",
              "\n",
              "#sk-container-id-3 div.sk-parallel-item:first-child::after {\n",
              "  align-self: flex-end;\n",
              "  width: 50%;\n",
              "}\n",
              "\n",
              "#sk-container-id-3 div.sk-parallel-item:last-child::after {\n",
              "  align-self: flex-start;\n",
              "  width: 50%;\n",
              "}\n",
              "\n",
              "#sk-container-id-3 div.sk-parallel-item:only-child::after {\n",
              "  width: 0;\n",
              "}\n",
              "\n",
              "/* Serial-specific style estimator block */\n",
              "\n",
              "#sk-container-id-3 div.sk-serial {\n",
              "  display: flex;\n",
              "  flex-direction: column;\n",
              "  align-items: center;\n",
              "  background-color: var(--sklearn-color-background);\n",
              "  padding-right: 1em;\n",
              "  padding-left: 1em;\n",
              "}\n",
              "\n",
              "\n",
              "/* Toggleable style: style used for estimator/Pipeline/ColumnTransformer box that is\n",
              "clickable and can be expanded/collapsed.\n",
              "- Pipeline and ColumnTransformer use this feature and define the default style\n",
              "- Estimators will overwrite some part of the style using the `sk-estimator` class\n",
              "*/\n",
              "\n",
              "/* Pipeline and ColumnTransformer style (default) */\n",
              "\n",
              "#sk-container-id-3 div.sk-toggleable {\n",
              "  /* Default theme specific background. It is overwritten whether we have a\n",
              "  specific estimator or a Pipeline/ColumnTransformer */\n",
              "  background-color: var(--sklearn-color-background);\n",
              "}\n",
              "\n",
              "/* Toggleable label */\n",
              "#sk-container-id-3 label.sk-toggleable__label {\n",
              "  cursor: pointer;\n",
              "  display: flex;\n",
              "  width: 100%;\n",
              "  margin-bottom: 0;\n",
              "  padding: 0.5em;\n",
              "  box-sizing: border-box;\n",
              "  text-align: center;\n",
              "  align-items: start;\n",
              "  justify-content: space-between;\n",
              "  gap: 0.5em;\n",
              "}\n",
              "\n",
              "#sk-container-id-3 label.sk-toggleable__label .caption {\n",
              "  font-size: 0.6rem;\n",
              "  font-weight: lighter;\n",
              "  color: var(--sklearn-color-text-muted);\n",
              "}\n",
              "\n",
              "#sk-container-id-3 label.sk-toggleable__label-arrow:before {\n",
              "  /* Arrow on the left of the label */\n",
              "  content: \"▸\";\n",
              "  float: left;\n",
              "  margin-right: 0.25em;\n",
              "  color: var(--sklearn-color-icon);\n",
              "}\n",
              "\n",
              "#sk-container-id-3 label.sk-toggleable__label-arrow:hover:before {\n",
              "  color: var(--sklearn-color-text);\n",
              "}\n",
              "\n",
              "/* Toggleable content - dropdown */\n",
              "\n",
              "#sk-container-id-3 div.sk-toggleable__content {\n",
              "  max-height: 0;\n",
              "  max-width: 0;\n",
              "  overflow: hidden;\n",
              "  text-align: left;\n",
              "  /* unfitted */\n",
              "  background-color: var(--sklearn-color-unfitted-level-0);\n",
              "}\n",
              "\n",
              "#sk-container-id-3 div.sk-toggleable__content.fitted {\n",
              "  /* fitted */\n",
              "  background-color: var(--sklearn-color-fitted-level-0);\n",
              "}\n",
              "\n",
              "#sk-container-id-3 div.sk-toggleable__content pre {\n",
              "  margin: 0.2em;\n",
              "  border-radius: 0.25em;\n",
              "  color: var(--sklearn-color-text);\n",
              "  /* unfitted */\n",
              "  background-color: var(--sklearn-color-unfitted-level-0);\n",
              "}\n",
              "\n",
              "#sk-container-id-3 div.sk-toggleable__content.fitted pre {\n",
              "  /* unfitted */\n",
              "  background-color: var(--sklearn-color-fitted-level-0);\n",
              "}\n",
              "\n",
              "#sk-container-id-3 input.sk-toggleable__control:checked~div.sk-toggleable__content {\n",
              "  /* Expand drop-down */\n",
              "  max-height: 200px;\n",
              "  max-width: 100%;\n",
              "  overflow: auto;\n",
              "}\n",
              "\n",
              "#sk-container-id-3 input.sk-toggleable__control:checked~label.sk-toggleable__label-arrow:before {\n",
              "  content: \"▾\";\n",
              "}\n",
              "\n",
              "/* Pipeline/ColumnTransformer-specific style */\n",
              "\n",
              "#sk-container-id-3 div.sk-label input.sk-toggleable__control:checked~label.sk-toggleable__label {\n",
              "  color: var(--sklearn-color-text);\n",
              "  background-color: var(--sklearn-color-unfitted-level-2);\n",
              "}\n",
              "\n",
              "#sk-container-id-3 div.sk-label.fitted input.sk-toggleable__control:checked~label.sk-toggleable__label {\n",
              "  background-color: var(--sklearn-color-fitted-level-2);\n",
              "}\n",
              "\n",
              "/* Estimator-specific style */\n",
              "\n",
              "/* Colorize estimator box */\n",
              "#sk-container-id-3 div.sk-estimator input.sk-toggleable__control:checked~label.sk-toggleable__label {\n",
              "  /* unfitted */\n",
              "  background-color: var(--sklearn-color-unfitted-level-2);\n",
              "}\n",
              "\n",
              "#sk-container-id-3 div.sk-estimator.fitted input.sk-toggleable__control:checked~label.sk-toggleable__label {\n",
              "  /* fitted */\n",
              "  background-color: var(--sklearn-color-fitted-level-2);\n",
              "}\n",
              "\n",
              "#sk-container-id-3 div.sk-label label.sk-toggleable__label,\n",
              "#sk-container-id-3 div.sk-label label {\n",
              "  /* The background is the default theme color */\n",
              "  color: var(--sklearn-color-text-on-default-background);\n",
              "}\n",
              "\n",
              "/* On hover, darken the color of the background */\n",
              "#sk-container-id-3 div.sk-label:hover label.sk-toggleable__label {\n",
              "  color: var(--sklearn-color-text);\n",
              "  background-color: var(--sklearn-color-unfitted-level-2);\n",
              "}\n",
              "\n",
              "/* Label box, darken color on hover, fitted */\n",
              "#sk-container-id-3 div.sk-label.fitted:hover label.sk-toggleable__label.fitted {\n",
              "  color: var(--sklearn-color-text);\n",
              "  background-color: var(--sklearn-color-fitted-level-2);\n",
              "}\n",
              "\n",
              "/* Estimator label */\n",
              "\n",
              "#sk-container-id-3 div.sk-label label {\n",
              "  font-family: monospace;\n",
              "  font-weight: bold;\n",
              "  display: inline-block;\n",
              "  line-height: 1.2em;\n",
              "}\n",
              "\n",
              "#sk-container-id-3 div.sk-label-container {\n",
              "  text-align: center;\n",
              "}\n",
              "\n",
              "/* Estimator-specific */\n",
              "#sk-container-id-3 div.sk-estimator {\n",
              "  font-family: monospace;\n",
              "  border: 1px dotted var(--sklearn-color-border-box);\n",
              "  border-radius: 0.25em;\n",
              "  box-sizing: border-box;\n",
              "  margin-bottom: 0.5em;\n",
              "  /* unfitted */\n",
              "  background-color: var(--sklearn-color-unfitted-level-0);\n",
              "}\n",
              "\n",
              "#sk-container-id-3 div.sk-estimator.fitted {\n",
              "  /* fitted */\n",
              "  background-color: var(--sklearn-color-fitted-level-0);\n",
              "}\n",
              "\n",
              "/* on hover */\n",
              "#sk-container-id-3 div.sk-estimator:hover {\n",
              "  /* unfitted */\n",
              "  background-color: var(--sklearn-color-unfitted-level-2);\n",
              "}\n",
              "\n",
              "#sk-container-id-3 div.sk-estimator.fitted:hover {\n",
              "  /* fitted */\n",
              "  background-color: var(--sklearn-color-fitted-level-2);\n",
              "}\n",
              "\n",
              "/* Specification for estimator info (e.g. \"i\" and \"?\") */\n",
              "\n",
              "/* Common style for \"i\" and \"?\" */\n",
              "\n",
              ".sk-estimator-doc-link,\n",
              "a:link.sk-estimator-doc-link,\n",
              "a:visited.sk-estimator-doc-link {\n",
              "  float: right;\n",
              "  font-size: smaller;\n",
              "  line-height: 1em;\n",
              "  font-family: monospace;\n",
              "  background-color: var(--sklearn-color-background);\n",
              "  border-radius: 1em;\n",
              "  height: 1em;\n",
              "  width: 1em;\n",
              "  text-decoration: none !important;\n",
              "  margin-left: 0.5em;\n",
              "  text-align: center;\n",
              "  /* unfitted */\n",
              "  border: var(--sklearn-color-unfitted-level-1) 1pt solid;\n",
              "  color: var(--sklearn-color-unfitted-level-1);\n",
              "}\n",
              "\n",
              ".sk-estimator-doc-link.fitted,\n",
              "a:link.sk-estimator-doc-link.fitted,\n",
              "a:visited.sk-estimator-doc-link.fitted {\n",
              "  /* fitted */\n",
              "  border: var(--sklearn-color-fitted-level-1) 1pt solid;\n",
              "  color: var(--sklearn-color-fitted-level-1);\n",
              "}\n",
              "\n",
              "/* On hover */\n",
              "div.sk-estimator:hover .sk-estimator-doc-link:hover,\n",
              ".sk-estimator-doc-link:hover,\n",
              "div.sk-label-container:hover .sk-estimator-doc-link:hover,\n",
              ".sk-estimator-doc-link:hover {\n",
              "  /* unfitted */\n",
              "  background-color: var(--sklearn-color-unfitted-level-3);\n",
              "  color: var(--sklearn-color-background);\n",
              "  text-decoration: none;\n",
              "}\n",
              "\n",
              "div.sk-estimator.fitted:hover .sk-estimator-doc-link.fitted:hover,\n",
              ".sk-estimator-doc-link.fitted:hover,\n",
              "div.sk-label-container:hover .sk-estimator-doc-link.fitted:hover,\n",
              ".sk-estimator-doc-link.fitted:hover {\n",
              "  /* fitted */\n",
              "  background-color: var(--sklearn-color-fitted-level-3);\n",
              "  color: var(--sklearn-color-background);\n",
              "  text-decoration: none;\n",
              "}\n",
              "\n",
              "/* Span, style for the box shown on hovering the info icon */\n",
              ".sk-estimator-doc-link span {\n",
              "  display: none;\n",
              "  z-index: 9999;\n",
              "  position: relative;\n",
              "  font-weight: normal;\n",
              "  right: .2ex;\n",
              "  padding: .5ex;\n",
              "  margin: .5ex;\n",
              "  width: min-content;\n",
              "  min-width: 20ex;\n",
              "  max-width: 50ex;\n",
              "  color: var(--sklearn-color-text);\n",
              "  box-shadow: 2pt 2pt 4pt #999;\n",
              "  /* unfitted */\n",
              "  background: var(--sklearn-color-unfitted-level-0);\n",
              "  border: .5pt solid var(--sklearn-color-unfitted-level-3);\n",
              "}\n",
              "\n",
              ".sk-estimator-doc-link.fitted span {\n",
              "  /* fitted */\n",
              "  background: var(--sklearn-color-fitted-level-0);\n",
              "  border: var(--sklearn-color-fitted-level-3);\n",
              "}\n",
              "\n",
              ".sk-estimator-doc-link:hover span {\n",
              "  display: block;\n",
              "}\n",
              "\n",
              "/* \"?\"-specific style due to the `<a>` HTML tag */\n",
              "\n",
              "#sk-container-id-3 a.estimator_doc_link {\n",
              "  float: right;\n",
              "  font-size: 1rem;\n",
              "  line-height: 1em;\n",
              "  font-family: monospace;\n",
              "  background-color: var(--sklearn-color-background);\n",
              "  border-radius: 1rem;\n",
              "  height: 1rem;\n",
              "  width: 1rem;\n",
              "  text-decoration: none;\n",
              "  /* unfitted */\n",
              "  color: var(--sklearn-color-unfitted-level-1);\n",
              "  border: var(--sklearn-color-unfitted-level-1) 1pt solid;\n",
              "}\n",
              "\n",
              "#sk-container-id-3 a.estimator_doc_link.fitted {\n",
              "  /* fitted */\n",
              "  border: var(--sklearn-color-fitted-level-1) 1pt solid;\n",
              "  color: var(--sklearn-color-fitted-level-1);\n",
              "}\n",
              "\n",
              "/* On hover */\n",
              "#sk-container-id-3 a.estimator_doc_link:hover {\n",
              "  /* unfitted */\n",
              "  background-color: var(--sklearn-color-unfitted-level-3);\n",
              "  color: var(--sklearn-color-background);\n",
              "  text-decoration: none;\n",
              "}\n",
              "\n",
              "#sk-container-id-3 a.estimator_doc_link.fitted:hover {\n",
              "  /* fitted */\n",
              "  background-color: var(--sklearn-color-fitted-level-3);\n",
              "}\n",
              "</style><div id=\"sk-container-id-3\" class=\"sk-top-container\"><div class=\"sk-text-repr-fallback\"><pre>GridSearchCV(cv=3,\n",
              "             estimator=RandomForestClassifier(class_weight=&#x27;balanced&#x27;,\n",
              "                                              random_state=69),\n",
              "             n_jobs=-1,\n",
              "             param_grid={&#x27;max_depth&#x27;: [10, 15], &#x27;max_features&#x27;: [&#x27;sqrt&#x27;, 0.33],\n",
              "                         &#x27;min_samples_split&#x27;: [2, 5],\n",
              "                         &#x27;n_estimators&#x27;: [100, 150]},\n",
              "             scoring=&#x27;roc_auc&#x27;, verbose=1)</pre><b>In a Jupyter environment, please rerun this cell to show the HTML representation or trust the notebook. <br />On GitHub, the HTML representation is unable to render, please try loading this page with nbviewer.org.</b></div><div class=\"sk-container\" hidden><div class=\"sk-item sk-dashed-wrapped\"><div class=\"sk-label-container\"><div class=\"sk-label fitted sk-toggleable\"><input class=\"sk-toggleable__control sk-hidden--visually\" id=\"sk-estimator-id-3\" type=\"checkbox\" ><label for=\"sk-estimator-id-3\" class=\"sk-toggleable__label fitted sk-toggleable__label-arrow\"><div><div>GridSearchCV</div></div><div><a class=\"sk-estimator-doc-link fitted\" rel=\"noreferrer\" target=\"_blank\" href=\"https://scikit-learn.org/1.6/modules/generated/sklearn.model_selection.GridSearchCV.html\">?<span>Documentation for GridSearchCV</span></a><span class=\"sk-estimator-doc-link fitted\">i<span>Fitted</span></span></div></label><div class=\"sk-toggleable__content fitted\"><pre>GridSearchCV(cv=3,\n",
              "             estimator=RandomForestClassifier(class_weight=&#x27;balanced&#x27;,\n",
              "                                              random_state=69),\n",
              "             n_jobs=-1,\n",
              "             param_grid={&#x27;max_depth&#x27;: [10, 15], &#x27;max_features&#x27;: [&#x27;sqrt&#x27;, 0.33],\n",
              "                         &#x27;min_samples_split&#x27;: [2, 5],\n",
              "                         &#x27;n_estimators&#x27;: [100, 150]},\n",
              "             scoring=&#x27;roc_auc&#x27;, verbose=1)</pre></div> </div></div><div class=\"sk-parallel\"><div class=\"sk-parallel-item\"><div class=\"sk-item\"><div class=\"sk-label-container\"><div class=\"sk-label fitted sk-toggleable\"><input class=\"sk-toggleable__control sk-hidden--visually\" id=\"sk-estimator-id-4\" type=\"checkbox\" ><label for=\"sk-estimator-id-4\" class=\"sk-toggleable__label fitted sk-toggleable__label-arrow\"><div><div>best_estimator_: RandomForestClassifier</div></div></label><div class=\"sk-toggleable__content fitted\"><pre>RandomForestClassifier(class_weight=&#x27;balanced&#x27;, max_depth=15, max_features=0.33,\n",
              "                       min_samples_split=5, n_estimators=150, random_state=69)</pre></div> </div></div><div class=\"sk-serial\"><div class=\"sk-item\"><div class=\"sk-estimator fitted sk-toggleable\"><input class=\"sk-toggleable__control sk-hidden--visually\" id=\"sk-estimator-id-5\" type=\"checkbox\" ><label for=\"sk-estimator-id-5\" class=\"sk-toggleable__label fitted sk-toggleable__label-arrow\"><div><div>RandomForestClassifier</div></div><div><a class=\"sk-estimator-doc-link fitted\" rel=\"noreferrer\" target=\"_blank\" href=\"https://scikit-learn.org/1.6/modules/generated/sklearn.ensemble.RandomForestClassifier.html\">?<span>Documentation for RandomForestClassifier</span></a></div></label><div class=\"sk-toggleable__content fitted\"><pre>RandomForestClassifier(class_weight=&#x27;balanced&#x27;, max_depth=15, max_features=0.33,\n",
              "                       min_samples_split=5, n_estimators=150, random_state=69)</pre></div> </div></div></div></div></div></div></div></div></div>"
            ]
          },
          "metadata": {},
          "execution_count": 126
        }
      ]
    },
    {
      "cell_type": "code",
      "source": [
        "# Obtener el mejor modelo:\n",
        "best_rf = grid_search.best_estimator_\n",
        "\n",
        "# Predecir con el mejor modelo:\n",
        "y_pred = best_rf.predict(X_topo_test)"
      ],
      "metadata": {
        "id": "qnBgUVrtFI2n"
      },
      "execution_count": null,
      "outputs": []
    },
    {
      "cell_type": "code",
      "source": [
        "# Resultados:\n",
        "print(\"\\nMejores parámetros:\", grid_search.best_params_)"
      ],
      "metadata": {
        "colab": {
          "base_uri": "https://localhost:8080/"
        },
        "id": "FsR7CmbTFOJT",
        "outputId": "caff9fbc-eef4-4f33-a84b-226699757e2c"
      },
      "execution_count": null,
      "outputs": [
        {
          "output_type": "stream",
          "name": "stdout",
          "text": [
            "\n",
            "Mejores parámetros: {'max_depth': 15, 'max_features': 0.33, 'min_samples_split': 5, 'n_estimators': 150}\n"
          ]
        }
      ]
    },
    {
      "cell_type": "markdown",
      "source": [
        "Se obtuvo: 150 árboles, profundidad máxima de 15, 33% de variables consideradas para corte en cada nodo, 5 muestras mínimas para corte en cada nodo."
      ],
      "metadata": {
        "id": "HIOBzpkAL1Af"
      }
    },
    {
      "cell_type": "code",
      "source": [
        "# Reporte de clasificación:\n",
        "print(classification_report(y_test_, y_pred)) # Compara los valores objetivo\n",
        "  # reales con los obtenidos por el modelo de predicción."
      ],
      "metadata": {
        "colab": {
          "base_uri": "https://localhost:8080/"
        },
        "id": "baSpmTNJFc2Y",
        "outputId": "9d8975e2-cbd4-42ee-827e-1f4619f2e0f5"
      },
      "execution_count": null,
      "outputs": [
        {
          "output_type": "stream",
          "name": "stdout",
          "text": [
            "              precision    recall  f1-score   support\n",
            "\n",
            "           0       0.74      0.86      0.80       809\n",
            "           1       0.94      0.88      0.91      2100\n",
            "\n",
            "    accuracy                           0.88      2909\n",
            "   macro avg       0.84      0.87      0.85      2909\n",
            "weighted avg       0.89      0.88      0.88      2909\n",
            "\n"
          ]
        }
      ]
    },
    {
      "cell_type": "markdown",
      "source": [
        "- Accuracy: correctas/total.\n",
        "- Precision: TP / P clasificados.\n",
        "- Recall: TP / P reales.\n",
        "- F1-score: media armónica de precision y recall = (2\\*precision\\*recall) / (precision + recall)\n",
        "- Support: instancias reales.\n",
        "- Macro avg: media de precision, recall y F1.\n",
        "- Weighted avg: media ponderada de precision, recall y F1, por el support de cada clase."
      ],
      "metadata": {
        "id": "7s4HR7vrKYT7"
      }
    },
    {
      "cell_type": "code",
      "source": [
        "# AUC:\n",
        "print(\"AUC:\", roc_auc_score(y_test_, best_rf.predict_proba(X_topo_test)[:,1]))\n",
        "  # Usa los valores reales con las probabilidades predichas de confianza de la\n",
        "  # clase 1, obteniendo la capacidad del modelo para distinguir entre clases\n",
        "  # positivas y negativas."
      ],
      "metadata": {
        "colab": {
          "base_uri": "https://localhost:8080/"
        },
        "id": "PWCQRxGzFiYI",
        "outputId": "f024c451-1e58-4751-8dd5-a196d1299874"
      },
      "execution_count": null,
      "outputs": [
        {
          "output_type": "stream",
          "name": "stdout",
          "text": [
            "AUC: 0.941442698216493\n"
          ]
        }
      ]
    },
    {
      "cell_type": "markdown",
      "source": [
        "-AUC: capacidad del modelo de distinguir entre clases."
      ],
      "metadata": {
        "id": "dmolz_5OLOT2"
      }
    },
    {
      "cell_type": "code",
      "source": [
        "# Matriz de confusión:\n",
        "cm = confusion_matrix(y_test_, y_pred) # Con los valores objetivo reales y\n",
        "  # obtenidos por el modelo."
      ],
      "metadata": {
        "id": "7B-PAJ28FkVS"
      },
      "execution_count": null,
      "outputs": []
    },
    {
      "cell_type": "markdown",
      "source": [
        "Cada cuadrante es:\n",
        "(TN, FP),\n",
        "(FN, TP)"
      ],
      "metadata": {
        "id": "58Dch2XwLg4J"
      }
    },
    {
      "cell_type": "code",
      "source": [
        "# Mapa de calor como la matriz de confusión, con los valores dentro de las\n",
        "  # celdas, números enteros, color azul, y etiquetas de ejes x e y:\n",
        "sns.heatmap(cm, annot=True, fmt='d', cmap='Blues',\n",
        "            xticklabels=['Pred. Normal (0)', 'Pred. Anormal (1)'],\n",
        "            yticklabels=['Real Normal (0)', 'Real Anormal (1)'])\n",
        "\n",
        "plt.title('Matriz de Confusión') # Título.\n",
        "plt.show() # Mostrar figura."
      ],
      "metadata": {
        "colab": {
          "base_uri": "https://localhost:8080/",
          "height": 452
        },
        "id": "fC4z_eWTX2TN",
        "outputId": "6026e791-ab88-4685-bdde-2aa8ba590ed8"
      },
      "execution_count": null,
      "outputs": [
        {
          "output_type": "display_data",
          "data": {
            "text/plain": [
              "<Figure size 640x480 with 2 Axes>"
            ],
            "image/png": "[encoded data removed]"
          },
          "metadata": {}
        }
      ]
    },
    {
      "cell_type": "markdown",
      "source": [
        "De los resultados se puede observar un alto desempeño global, pues el modelo alcanza un accuracy de 0.88, lo que significa que acierta el 88% de los latidos. La AUC de 0.94 indica una excelente capacidad de discriminación entre las dos clases en todos los umbrales posibles. El modelo detecta el 88% de las arritmias reales con una precisión del 94% y recupera correctamente el 86% de los latidos sanos. Se observa también que la mayoría de los errores fueron falsos negativos (242), pues había algunas gráficas que eran muy parecidas entre sí."
      ],
      "metadata": {
        "id": "Ue97bdvwgY8Z"
      }
    },
    {
      "cell_type": "markdown",
      "source": [
        "Dados los resultados obtenidos, el modelo TDA obtuvo un buen desempeño, aunque es posible realizar mejoras, optimizaciones posibles, como los parámetros del slidind window embedding tomando rangos superiores de búsqueda para tau y dim, tomar en cuenta los n-agujeros en el diagrama de persistencia (n>1), probar esquemas de vectorización alternativos como imágenes de persistencia, buscar unos mejores hiperparámetros del bosque aleatorio, probar con otro algoritmo de aprendizaje automático, o incluso\n",
        "con redes neuronales (CNN pueden explotar la estructura espacial de las vectorizaciones, para aprender filtros locales como picos y patrones topológicos), entre otras sugerencias."
      ],
      "metadata": {
        "id": "Y8Zg7JJ1MRRu"
      }
    }
  ]
}